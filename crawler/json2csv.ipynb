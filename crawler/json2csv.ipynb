{
 "cells": [
  {
   "cell_type": "code",
   "execution_count": 26,
   "metadata": {
    "collapsed": true,
    "pycharm": {
     "is_executing": false
    }
   },
   "outputs": [],
   "source": [
    "import csv\n",
    "import json\n",
    "import pandas as pd\n",
    "from pprint import pprint\n",
    "\n",
    "# json_file = \"1-240-273-1357.json\"\n",
    "\n",
    "import os\n",
    "\n",
    "base_path = 'C:\\\\Users\\\\wang_cheng\\\\git_stuff\\\\crawler\\\\800notes\\\\original\\\\Spider\\\\800notes\\\\'\n",
    "base_url = \"https://800notes.com/Phone.aspx/\"\n",
    "\n",
    "json_file_list = []\n",
    "\n",
    "for path, subdirs, files in os.walk(base_path):\n",
    "    if(not subdirs):\n",
    "        continue\n",
    "    for filename in files:\n",
    "        json_file_list.append(filename)\n",
    "\n",
    "def convert(json_file_list,base_path):\n",
    "    dict_lis = []\n",
    "    for json_file in json_file_list:\n",
    "        f = os.path.join(base_path, json_file)\n",
    "        with open(f, \"r\") as x:\n",
    "            x = json.load(x)\n",
    "        dict_lis.extend(x)\n",
    "        for comment in x:\n",
    "            comment[\"phone_number\"] = json_file.split(\".json\")[0]\n",
    "        \n",
    "\n",
    "    with open(\"test.csv\", 'w', newline='', encoding='utf-8') as csv_file:\n",
    "        f = csv.writer(csv_file)\n",
    "        # Write CSV Header, If you dont need that, remove this line\n",
    "        f.writerow([\"content\",\"phone_number\",\"datetime\", \"caller\", \"call_type\"])\n",
    "        x = dict_lis\n",
    "        for comment in x:\n",
    "            f.writerow([comment[\"content\"],\n",
    "                        comment[\"phone_number\"],\n",
    "                        comment[\"datetime\"],\n",
    "                        comment[\"caller\"],\n",
    "                        comment[\"call_type\"]])\n",
    "convert(json_file_list,base_path)\n",
    "# for i in range(1,40):\n",
    "#     print(df.iloc[i])"
   ]
  },
  {
   "cell_type": "code",
   "execution_count": 1,
   "outputs": [
    {
     "traceback": [
      "\u001b[1;31m---------------------------------------------------------------------------\u001b[0m",
      "\u001b[1;31mNameError\u001b[0m                                 Traceback (most recent call last)",
      "\u001b[1;32m<ipython-input-1-9928a9e712db>\u001b[0m in \u001b[0;36m<module>\u001b[1;34m\u001b[0m\n\u001b[0;32m      1\u001b[0m \u001b[0mbol\u001b[0m \u001b[1;33m=\u001b[0m \u001b[1;32mTrue\u001b[0m\u001b[1;33m\u001b[0m\u001b[1;33m\u001b[0m\u001b[0m\n\u001b[1;32m----> 2\u001b[1;33m \u001b[0mprint\u001b[0m\u001b[1;33m(\u001b[0m\u001b[0mtype\u001b[0m\u001b[1;33m(\u001b[0m\u001b[0mx\u001b[0m\u001b[1;33m[\u001b[0m\u001b[1;36m0\u001b[0m\u001b[1;33m]\u001b[0m\u001b[1;33m)\u001b[0m\u001b[1;33m)\u001b[0m\u001b[1;33m\u001b[0m\u001b[1;33m\u001b[0m\u001b[0m\n\u001b[0m\u001b[0;32m      3\u001b[0m \u001b[1;32mfor\u001b[0m \u001b[0mi\u001b[0m \u001b[1;32min\u001b[0m \u001b[0mrange\u001b[0m\u001b[1;33m(\u001b[0m\u001b[1;36m0\u001b[0m\u001b[1;33m,\u001b[0m \u001b[0mlen\u001b[0m\u001b[1;33m(\u001b[0m\u001b[0mdf\u001b[0m\u001b[1;33m)\u001b[0m\u001b[1;33m)\u001b[0m\u001b[1;33m:\u001b[0m\u001b[1;33m\u001b[0m\u001b[1;33m\u001b[0m\u001b[0m\n\u001b[0;32m      4\u001b[0m     \u001b[1;32mif\u001b[0m\u001b[1;33m(\u001b[0m\u001b[0mdf\u001b[0m\u001b[1;33m.\u001b[0m\u001b[0miloc\u001b[0m\u001b[1;33m[\u001b[0m\u001b[0mi\u001b[0m\u001b[1;33m]\u001b[0m\u001b[1;33m[\u001b[0m\u001b[1;34m'content'\u001b[0m\u001b[1;33m]\u001b[0m \u001b[1;33m==\u001b[0m \u001b[0mx\u001b[0m\u001b[1;33m[\u001b[0m\u001b[0mi\u001b[0m\u001b[1;33m]\u001b[0m\u001b[1;33m[\u001b[0m\u001b[1;34m'content'\u001b[0m\u001b[1;33m]\u001b[0m \u001b[1;33m)\u001b[0m\u001b[1;33m:\u001b[0m\u001b[1;33m\u001b[0m\u001b[1;33m\u001b[0m\u001b[0m\n\u001b[0;32m      5\u001b[0m         \u001b[0mprint\u001b[0m\u001b[1;33m(\u001b[0m\u001b[1;34m'content'\u001b[0m\u001b[1;33m)\u001b[0m\u001b[1;33m\u001b[0m\u001b[1;33m\u001b[0m\u001b[0m\n",
      "\u001b[1;31mNameError\u001b[0m: name 'x' is not defined"
     ],
     "ename": "NameError",
     "evalue": "name 'x' is not defined",
     "output_type": "error"
    }
   ],
   "source": [
    "bol = True\n",
    "print(type(x[0]))\n",
    "for i in range(0, len(df)):\n",
    "    if(df.iloc[i]['content'] == x[i]['content'] ):\n",
    "        print('content')\n",
    "    if df.iloc[i]['datetime'] == x[i]['datetime']:\n",
    "        print('datetime')\n",
    "    if df.iloc[i]['caller'] == x[i]['caller'] or df.iloc[i]['caller'] == \"nan\":\n",
    "        print('caller')\n",
    "    if df.iloc[i]['call_type'] == x[i]['call_type'] or df.iloc[i]['call_type'] == \"nan\":\n",
    "        print('call_type')\n",
    "        continue\n",
    "    print(df.iloc[i]['caller'])\n",
    "    print(type(df.iloc[i]['caller']))\n",
    "    print(i)\n",
    "    bol = False\n",
    "    break\n",
    "bol "
   ],
   "metadata": {
    "collapsed": false,
    "pycharm": {
     "name": "#%%\n",
     "is_executing": false
    }
   }
  },
  {
   "cell_type": "code",
   "execution_count": null,
   "outputs": [],
   "source": [],
   "metadata": {
    "collapsed": false,
    "pycharm": {
     "name": "#%%\n"
    }
   }
  },
  {
   "cell_type": "code",
   "execution_count": null,
   "outputs": [],
   "source": [
    "\n"
   ],
   "metadata": {
    "collapsed": false,
    "pycharm": {
     "name": "#%%\n"
    }
   }
  }
 ],
 "metadata": {
  "language_info": {
   "codemirror_mode": {
    "name": "ipython",
    "version": 2
   },
   "file_extension": ".py",
   "mimetype": "text/x-python",
   "name": "python",
   "nbconvert_exporter": "python",
   "pygments_lexer": "ipython2",
   "version": "2.7.6"
  },
  "kernelspec": {
   "name": "python3",
   "language": "python",
   "display_name": "Python 3"
  },
  "pycharm": {
   "stem_cell": {
    "cell_type": "raw",
    "source": [],
    "metadata": {
     "collapsed": false
    }
   }
  }
 },
 "nbformat": 4,
 "nbformat_minor": 0
}