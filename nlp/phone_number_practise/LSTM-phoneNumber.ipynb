{
 "cells": [
  {
   "cell_type": "code",
   "execution_count": 32,
   "metadata": {},
   "outputs": [
    {
     "name": "stdout",
     "output_type": "stream",
     "text": [
      "[nltk_data] Downloading package stopwords to\n",
      "[nltk_data]     C:\\Users\\LENOVO\\AppData\\Roaming\\nltk_data...\n",
      "[nltk_data]   Package stopwords is already up-to-date!\n"
     ]
    },
    {
     "data": {
      "text/plain": [
       "True"
      ]
     },
     "execution_count": 32,
     "metadata": {},
     "output_type": "execute_result"
    },
    {
     "data": {
      "text/html": [
       "        <script type=\"text/javascript\">\n",
       "        window.PlotlyConfig = {MathJaxConfig: 'local'};\n",
       "        if (window.MathJax) {MathJax.Hub.Config({SVG: {font: \"STIX-Web\"}});}\n",
       "        if (typeof require !== 'undefined') {\n",
       "        require.undef(\"plotly\");\n",
       "        requirejs.config({\n",
       "            paths: {\n",
       "                'plotly': ['https://cdn.plot.ly/plotly-latest.min']\n",
       "            }\n",
       "        });\n",
       "        require(['plotly'], function(Plotly) {\n",
       "            window._Plotly = Plotly;\n",
       "        });\n",
       "        }\n",
       "        </script>\n",
       "        "
      ]
     },
     "metadata": {},
     "output_type": "display_data"
    }
   ],
   "source": [
    "import numpy as np \n",
    "import pandas as pd\n",
    "import matplotlib.pyplot as plt\n",
    "import seaborn as sns\n",
    "from keras.preprocessing.text import Tokenizer\n",
    "from keras.preprocessing.sequence import pad_sequences\n",
    "from keras.models import Sequential\n",
    "from keras.layers import Dense, Embedding, LSTM, SpatialDropout1D\n",
    "from sklearn.model_selection import train_test_split\n",
    "from keras.utils.np_utils import to_categorical\n",
    "from keras.callbacks import EarlyStopping\n",
    "from keras.layers import Dropout\n",
    "import re\n",
    "from nltk.corpus import stopwords\n",
    "from nltk import word_tokenize\n",
    "import nltk\n",
    "nltk.download('stopwords')\n",
    "STOPWORDS = set(stopwords.words('english'))\n",
    "from bs4 import BeautifulSoup\n",
    "import plotly.graph_objs as go\n",
    "import plotly.plotly as py\n",
    "import cufflinks\n",
    "from IPython.core.interactiveshell import InteractiveShell\n",
    "import plotly.figure_factory as ff\n",
    "InteractiveShell.ast_node_interactivity = 'all'\n",
    "from plotly.offline import iplot\n",
    "cufflinks.go_offline()\n",
    "cufflinks.set_config_file(world_readable=True, theme='pearl')"
   ]
  },
  {
   "cell_type": "code",
   "execution_count": 38,
   "metadata": {},
   "outputs": [],
   "source": [
    "df = pd.read_csv('comments.csv')"
   ]
  },
  {
   "cell_type": "code",
   "execution_count": 39,
   "metadata": {},
   "outputs": [
    {
     "data": {
      "text/plain": [
       "Index(['content', 'phone_number', 'datetime', 'caller', 'call_type'], dtype='object')"
      ]
     },
     "execution_count": 39,
     "metadata": {},
     "output_type": "execute_result"
    }
   ],
   "source": [
    "df.columns"
   ]
  },
  {
   "cell_type": "code",
   "execution_count": 40,
   "metadata": {},
   "outputs": [],
   "source": [
    "df = df[pd.notnull(df['call_type'])]\n",
    "df = df[pd.notnull(df['content'])]\n",
    "df = df[[\"call_type\",\"content\",\"phone_number\"]]"
   ]
  },
  {
   "cell_type": "code",
   "execution_count": 6,
   "metadata": {},
   "outputs": [
    {
     "name": "stdout",
     "output_type": "stream",
     "text": [
      "<class 'pandas.core.frame.DataFrame'>\n",
      "Int64Index: 70607 entries, 2 to 246522\n",
      "Data columns (total 2 columns):\n",
      "call_type    70607 non-null object\n",
      "content      70607 non-null object\n",
      "dtypes: object(2)\n",
      "memory usage: 1.6+ MB\n"
     ]
    }
   ],
   "source": [
    "df.info()"
   ]
  },
  {
   "cell_type": "code",
   "execution_count": 7,
   "metadata": {},
   "outputs": [
    {
     "data": {
      "text/plain": [
       "Telemarketer               22470\n",
       "Debt collector             20775\n",
       "Scam suspicion             14905\n",
       "Prank                       2513\n",
       "Unwanted                    2307\n",
       "Survey                      1746\n",
       "Political call              1420\n",
       "Text message                1146\n",
       "Non-profit organization     1134\n",
       "Event reminder               728\n",
       "Valid                        521\n",
       "Fax                          519\n",
       "Silent call                  423\n",
       "Name: call_type, dtype: int64"
      ]
     },
     "execution_count": 7,
     "metadata": {},
     "output_type": "execute_result"
    }
   ],
   "source": [
    "df.call_type.value_counts()"
   ]
  },
  {
   "cell_type": "code",
   "execution_count": 47,
   "metadata": {},
   "outputs": [
    {
     "data": {
      "text/html": [
       "<div>\n",
       "<style scoped>\n",
       "    .dataframe tbody tr th:only-of-type {\n",
       "        vertical-align: middle;\n",
       "    }\n",
       "\n",
       "    .dataframe tbody tr th {\n",
       "        vertical-align: top;\n",
       "    }\n",
       "\n",
       "    .dataframe thead th {\n",
       "        text-align: right;\n",
       "    }\n",
       "</style>\n",
       "<table border=\"1\" class=\"dataframe\">\n",
       "  <thead>\n",
       "    <tr style=\"text-align: right;\">\n",
       "      <th></th>\n",
       "      <th>call_type</th>\n",
       "      <th>content</th>\n",
       "      <th>phone_number</th>\n",
       "    </tr>\n",
       "  </thead>\n",
       "  <tbody>\n",
       "    <tr>\n",
       "      <th>78651</th>\n",
       "      <td>Valid</td>\n",
       "      <td>I get multiple calls from different numbers daily. They all said they are \"replying\" to \"AACC\". But I'm the one getting their calls. I call 480-588-0745 and they do not feel sorry or try to help at all. They have 800 number but they want people to call them using 480-588-0745 and been charged with long distance call. This number is terrible!</td>\n",
       "      <td>1-480-588-0745</td>\n",
       "    </tr>\n",
       "    <tr>\n",
       "      <th>79367</th>\n",
       "      <td>Valid</td>\n",
       "      <td>the same except now i need to call back in 48 hrs or case is going to county ofc... she talked so fast I could barely understand what she said</td>\n",
       "      <td>1-484-464-2727</td>\n",
       "    </tr>\n",
       "    <tr>\n",
       "      <th>80354</th>\n",
       "      <td>Valid</td>\n",
       "      <td>Is it really my boyfriend calling</td>\n",
       "      <td>1-502-715-7778</td>\n",
       "    </tr>\n",
       "    <tr>\n",
       "      <th>83425</th>\n",
       "      <td>Valid</td>\n",
       "      <td>For me, this was a recorded public service announcement about not littering.</td>\n",
       "      <td>1-512-646-0766</td>\n",
       "    </tr>\n",
       "    <tr>\n",
       "      <th>84542</th>\n",
       "      <td>Valid</td>\n",
       "      <td>Got a call few weeks back, these people are Tax consulting company. I guess I spoke to Suresh (manager) he took my W2 and some information and within few minutes my tax filing was done. and today I received my refund, too quick and responsive. I am impressed.</td>\n",
       "      <td>1-512-714-8866</td>\n",
       "    </tr>\n",
       "    <tr>\n",
       "      <th>84625</th>\n",
       "      <td>Valid</td>\n",
       "      <td>Call from https://www.genequityco.com/ -- 45 second voicemail indicated that third parties are interested in purchasing my business.</td>\n",
       "      <td>1-512-817-3231</td>\n",
       "    </tr>\n",
       "    <tr>\n",
       "      <th>84992</th>\n",
       "      <td>Valid</td>\n",
       "      <td>Austin American Statesman called to get me to subscribe.  Caller ID showed: \"Austin\" instead of IDing their company.</td>\n",
       "      <td>1-512-994-3538</td>\n",
       "    </tr>\n",
       "    <tr>\n",
       "      <th>85351</th>\n",
       "      <td>Valid</td>\n",
       "      <td>Same story. 4 calls in 2 hours, last call 'shawn' answered, then hung up. Also posted on Monster.com yesterday.  Someone said that constantly hitting the # key on the phone when you answer will mess up the auto dialer. don't know if it's true, but will try it.</td>\n",
       "      <td>1-515-364-6750</td>\n",
       "    </tr>\n",
       "    <tr>\n",
       "      <th>85434</th>\n",
       "      <td>Valid</td>\n",
       "      <td>Alright I have been recieving these calls sense 11:03am I made a log of when they called and each time I picked up the phone.  Along with the 515 # I also recieved calls from an unknown # and when I picked up that call finally it was a male with an acent asking me about education.com and when I asked if he was associated with the # 515 he stolled then I informed him that I would be pressing charges against him personally and his company and he hung up right away... Now I know this isn't bad compared to some people but I work in a company where I know most of the laws in the united states and everything this place is doing is extremely illegal.  The 515 # is linked to a communications 1 network but from other posts here its appearent that they sold #'s or something but have no direct connection to this I will continue to call there personal # to find out who they might have given information too.  I also will be filling a complaint with monster.com wheither they have something to do with this or not too many people here have posted something on that site and recieved calls, they are legally responsible to this even if they didnt have a direct part in it, they request personal information and say there site is secure when it is visible not.  I hope this help with something, hopefully this can get stopped...1. 11:03am pick up they didnt answer back2. 11:31am no pick up no message left3. 11:54am no pick up no message left4. 1:14pm no pick up no message left5. 2:05pm pick up no anser back6. 2:32pm no pick up no message left7. 2:54pm no pick up no message left8. 3:02pm no pick up no message left9. 3:31pm no pick up no message left10.4:18pm no pick up no message left11.4:29pm pick up no answer back12.4:39pm no pick up no message left range only once13.5:09pm no pick up no message left14.5:52pm unknown # pick up no answer hung up15.6:16pm unknown # man said with education.com when asked where company is and more information on company hung up right awayAfter I spoke to this man the calls stopped for the night but I have a feeling from all the posts they will continue in full force tomorrow.</td>\n",
       "      <td>1-515-364-6750</td>\n",
       "    </tr>\n",
       "    <tr>\n",
       "      <th>85449</th>\n",
       "      <td>Valid</td>\n",
       "      <td>Fraud call from 515-414-1619 saying Bull's Eye Credit Union asking for CC, Exp date and Pin</td>\n",
       "      <td>1-515-414-1619</td>\n",
       "    </tr>\n",
       "    <tr>\n",
       "      <th>86761</th>\n",
       "      <td>Valid</td>\n",
       "      <td>This actually was a recruiter from Florida for a job here in Texas. Not a spammer. Legitimate job.</td>\n",
       "      <td>1-561-277-1215</td>\n",
       "    </tr>\n",
       "    <tr>\n",
       "      <th>87043</th>\n",
       "      <td>Valid</td>\n",
       "      <td>We had a call - no message left - so I did a check online and it looks as though this is the business office number for Antonio Virsida, a mental health professional. Unless someone's spoofing his caller ID, any calls are probably the result of misdialing by a staff member.</td>\n",
       "      <td>1-561-338-0902</td>\n",
       "    </tr>\n",
       "    <tr>\n",
       "      <th>87169</th>\n",
       "      <td>Valid</td>\n",
       "      <td>I just got the third call from this silent caller.  Doesn't say anything for about 10 seconds, then hangs up.  Must definately be a thief, and ID hacker.  I also found that the number is from somewhere in Boca Raton, FL.</td>\n",
       "      <td>1-561-338-9413</td>\n",
       "    </tr>\n",
       "    <tr>\n",
       "      <th>87354</th>\n",
       "      <td>Valid</td>\n",
       "      <td>This is Healthcare enrollment center.  That's how they answer.</td>\n",
       "      <td>1-561-557-0087</td>\n",
       "    </tr>\n",
       "    <tr>\n",
       "      <th>88242</th>\n",
       "      <td>Valid</td>\n",
       "      <td>I won tickets for an NBA game</td>\n",
       "      <td>1-603-366-3349</td>\n",
       "    </tr>\n",
       "    <tr>\n",
       "      <th>88251</th>\n",
       "      <td>Valid</td>\n",
       "      <td>Sweepstakes notification</td>\n",
       "      <td>1-603-366-3369</td>\n",
       "    </tr>\n",
       "    <tr>\n",
       "      <th>88252</th>\n",
       "      <td>Valid</td>\n",
       "      <td>Won NHL tickets in Virginia</td>\n",
       "      <td>1-603-366-3369</td>\n",
       "    </tr>\n",
       "    <tr>\n",
       "      <th>88253</th>\n",
       "      <td>Valid</td>\n",
       "      <td>Very good call. I won a free weekend at a resort</td>\n",
       "      <td>1-603-366-3369</td>\n",
       "    </tr>\n",
       "    <tr>\n",
       "      <th>88255</th>\n",
       "      <td>Valid</td>\n",
       "      <td>Good Call. I won a gift card from a raffle</td>\n",
       "      <td>1-603-366-3369</td>\n",
       "    </tr>\n",
       "    <tr>\n",
       "      <th>89384</th>\n",
       "      <td>Valid</td>\n",
       "      <td>They were trying to sell anti identity theft services and they had my personal information in regards to a major credit card company</td>\n",
       "      <td>1-604-757-9657</td>\n",
       "    </tr>\n",
       "    <tr>\n",
       "      <th>89533</th>\n",
       "      <td>Valid</td>\n",
       "      <td>I applied to a job and they tried scaming me with a Laurie Smith name</td>\n",
       "      <td>1-607-301-3230</td>\n",
       "    </tr>\n",
       "    <tr>\n",
       "      <th>91309</th>\n",
       "      <td>Valid</td>\n",
       "      <td>Just calling to arrange a delivery time for my order.</td>\n",
       "      <td>1-617-532-6100</td>\n",
       "    </tr>\n",
       "    <tr>\n",
       "      <th>91310</th>\n",
       "      <td>Valid</td>\n",
       "      <td>it is Wayfair.</td>\n",
       "      <td>1-617-532-6100</td>\n",
       "    </tr>\n",
       "    <tr>\n",
       "      <th>91722</th>\n",
       "      <td>Valid</td>\n",
       "      <td>I have received the same calls. I believe they are coming from the Naval Base on Coronado, in San Diego. The calls come through trunked lines and when you call back, you get an operator.</td>\n",
       "      <td>1-619-524-6200</td>\n",
       "    </tr>\n",
       "    <tr>\n",
       "      <th>91745</th>\n",
       "      <td>Valid</td>\n",
       "      <td>Yeah, my friend John is in the Navy, I forgot it was his number, it is a navy number.  I don't know if it's a universal Navy company, or maybe it's from the same ship.  Good luck to them all.</td>\n",
       "      <td>1-619-545-5532</td>\n",
       "    </tr>\n",
       "    <tr>\n",
       "      <th>91883</th>\n",
       "      <td>Valid</td>\n",
       "      <td>Rent to own home service. Very persistent when told not interested.  I blocked this number for now.</td>\n",
       "      <td>1-619-824-3699</td>\n",
       "    </tr>\n",
       "    <tr>\n",
       "      <th>91921</th>\n",
       "      <td>Valid</td>\n",
       "      <td>This is from the Emporia State Alumni Association and yes they do ask for money.  If you benefited from the University or if you received monies to attend school here it is worth giving back.</td>\n",
       "      <td>1-620-341-6486</td>\n",
       "    </tr>\n",
       "    <tr>\n",
       "      <th>92615</th>\n",
       "      <td>Valid</td>\n",
       "      <td>This call is not from DirectV or Dish Network, but from Saudi Moslems.  They collect personal information from un suspecting individuals thinking they are getting a great deal on satellite television, but really are getting their personal information stolen in an identity thief scam.  Remember, the Feds busted this organization in mid-June of this year for running identity thief schemes in several states, and the reports cautioned that anyone in the public that received calls from this number to immediately notify the police and other law authorities for you may have already become a victim from this organization.</td>\n",
       "      <td>1-626-259-5545</td>\n",
       "    </tr>\n",
       "    <tr>\n",
       "      <th>92734</th>\n",
       "      <td>Valid</td>\n",
       "      <td>Not the first time I have received a call from these people. They have obviously had access to information from one of my credit cards, as numbers are right on target, but only fairly recent.Yes, it was \"Josh\" who gave the intro message, and as with everyone else I pressed #1 in an effort to tell them to be removed from their list. (Also am registered with National Do Not Call List) Line answered by a woman who immediately hung up when I said \"remove me from your list\" - exactly as reported by everyone else. I don't believe for one moment they did anything about it, as this has been going on for months.</td>\n",
       "      <td>1-626-259-5570</td>\n",
       "    </tr>\n",
       "    <tr>\n",
       "      <th>92735</th>\n",
       "      <td>Valid</td>\n",
       "      <td>I do not believe for a second that some clown in California is going to go in to work at 5:30 am to telespam someone in NJ. It's a scam from a spoofed number. How could a 'communications' company be able to help me with my finances that they claim to know about - but couldn't possibly know or help with?And why are they posing under numerous 'business' names?</td>\n",
       "      <td>1-626-259-5570</td>\n",
       "    </tr>\n",
       "  </tbody>\n",
       "</table>\n",
       "</div>"
      ],
      "text/plain": [
       "      call_type  \\\n",
       "78651     Valid   \n",
       "79367     Valid   \n",
       "80354     Valid   \n",
       "83425     Valid   \n",
       "84542     Valid   \n",
       "84625     Valid   \n",
       "84992     Valid   \n",
       "85351     Valid   \n",
       "85434     Valid   \n",
       "85449     Valid   \n",
       "86761     Valid   \n",
       "87043     Valid   \n",
       "87169     Valid   \n",
       "87354     Valid   \n",
       "88242     Valid   \n",
       "88251     Valid   \n",
       "88252     Valid   \n",
       "88253     Valid   \n",
       "88255     Valid   \n",
       "89384     Valid   \n",
       "89533     Valid   \n",
       "91309     Valid   \n",
       "91310     Valid   \n",
       "91722     Valid   \n",
       "91745     Valid   \n",
       "91883     Valid   \n",
       "91921     Valid   \n",
       "92615     Valid   \n",
       "92734     Valid   \n",
       "92735     Valid   \n",
       "\n",
       "                                                                                                                                                                                                                                                                                                                                                                                                                                                                                                                                                                                                                                                                                                                                                                                                                                                                                                                                                                                                                                                                                                                                                                                                                                                                                                                                                                                                                                                                                                                                                                                                                                                                                                                                                                                                                                                                                                                                                                                                                                                                                                                                                                                                       content  \\\n",
       "78651                                                                                                                                                                                                                                                                                                                                                                                                                                                                                                                                                                                                                                                                                                                                                                                                                                                                                                                                                                                                                                                                                                                                                                                                                                                                                                                                                                                                                                                                                                                                                                                                                                                                                                                                                                                                                                                  I get multiple calls from different numbers daily. They all said they are \"replying\" to \"AACC\". But I'm the one getting their calls. I call 480-588-0745 and they do not feel sorry or try to help at all. They have 800 number but they want people to call them using 480-588-0745 and been charged with long distance call. This number is terrible!   \n",
       "79367                                                                                                                                                                                                                                                                                                                                                                                                                                                                                                                                                                                                                                                                                                                                                                                                                                                                                                                                                                                                                                                                                                                                                                                                                                                                                                                                                                                                                                                                                                                                                                                                                                                                                                                                                                                                                                                                                                                                                                                                                                                           the same except now i need to call back in 48 hrs or case is going to county ofc... she talked so fast I could barely understand what she said   \n",
       "80354                                                                                                                                                                                                                                                                                                                                                                                                                                                                                                                                                                                                                                                                                                                                                                                                                                                                                                                                                                                                                                                                                                                                                                                                                                                                                                                                                                                                                                                                                                                                                                                                                                                                                                                                                                                                                                                                                                                                                                                                                                                                                                                                                                        Is it really my boyfriend calling   \n",
       "83425                                                                                                                                                                                                                                                                                                                                                                                                                                                                                                                                                                                                                                                                                                                                                                                                                                                                                                                                                                                                                                                                                                                                                                                                                                                                                                                                                                                                                                                                                                                                                                                                                                                                                                                                                                                                                                                                                                                                                                                                                                                                                                                             For me, this was a recorded public service announcement about not littering.   \n",
       "84542                                                                                                                                                                                                                                                                                                                                                                                                                                                                                                                                                                                                                                                                                                                                                                                                                                                                                                                                                                                                                                                                                                                                                                                                                                                                                                                                                                                                                                                                                                                                                                                                                                                                                                                                                                                                                                                                                                                                      Got a call few weeks back, these people are Tax consulting company. I guess I spoke to Suresh (manager) he took my W2 and some information and within few minutes my tax filing was done. and today I received my refund, too quick and responsive. I am impressed.   \n",
       "84625                                                                                                                                                                                                                                                                                                                                                                                                                                                                                                                                                                                                                                                                                                                                                                                                                                                                                                                                                                                                                                                                                                                                                                                                                                                                                                                                                                                                                                                                                                                                                                                                                                                                                                                                                                                                                                                                                                                                                                                                                                                                     Call from https://www.genequityco.com/ -- 45 second voicemail indicated that third parties are interested in purchasing my business.   \n",
       "84992                                                                                                                                                                                                                                                                                                                                                                                                                                                                                                                                                                                                                                                                                                                                                                                                                                                                                                                                                                                                                                                                                                                                                                                                                                                                                                                                                                                                                                                                                                                                                                                                                                                                                                                                                                                                                                                                                                                                                                                                                                                                                     Austin American Statesman called to get me to subscribe.  Caller ID showed: \"Austin\" instead of IDing their company.   \n",
       "85351                                                                                                                                                                                                                                                                                                                                                                                                                                                                                                                                                                                                                                                                                                                                                                                                                                                                                                                                                                                                                                                                                                                                                                                                                                                                                                                                                                                                                                                                                                                                                                                                                                                                                                                                                                                                                                                                                                                                     Same story. 4 calls in 2 hours, last call 'shawn' answered, then hung up. Also posted on Monster.com yesterday.  Someone said that constantly hitting the # key on the phone when you answer will mess up the auto dialer. don't know if it's true, but will try it.   \n",
       "85434  Alright I have been recieving these calls sense 11:03am I made a log of when they called and each time I picked up the phone.  Along with the 515 # I also recieved calls from an unknown # and when I picked up that call finally it was a male with an acent asking me about education.com and when I asked if he was associated with the # 515 he stolled then I informed him that I would be pressing charges against him personally and his company and he hung up right away... Now I know this isn't bad compared to some people but I work in a company where I know most of the laws in the united states and everything this place is doing is extremely illegal.  The 515 # is linked to a communications 1 network but from other posts here its appearent that they sold #'s or something but have no direct connection to this I will continue to call there personal # to find out who they might have given information too.  I also will be filling a complaint with monster.com wheither they have something to do with this or not too many people here have posted something on that site and recieved calls, they are legally responsible to this even if they didnt have a direct part in it, they request personal information and say there site is secure when it is visible not.  I hope this help with something, hopefully this can get stopped...1. 11:03am pick up they didnt answer back2. 11:31am no pick up no message left3. 11:54am no pick up no message left4. 1:14pm no pick up no message left5. 2:05pm pick up no anser back6. 2:32pm no pick up no message left7. 2:54pm no pick up no message left8. 3:02pm no pick up no message left9. 3:31pm no pick up no message left10.4:18pm no pick up no message left11.4:29pm pick up no answer back12.4:39pm no pick up no message left range only once13.5:09pm no pick up no message left14.5:52pm unknown # pick up no answer hung up15.6:16pm unknown # man said with education.com when asked where company is and more information on company hung up right awayAfter I spoke to this man the calls stopped for the night but I have a feeling from all the posts they will continue in full force tomorrow.   \n",
       "85449                                                                                                                                                                                                                                                                                                                                                                                                                                                                                                                                                                                                                                                                                                                                                                                                                                                                                                                                                                                                                                                                                                                                                                                                                                                                                                                                                                                                                                                                                                                                                                                                                                                                                                                                                                                                                                                                                                                                                                                                                                                                                                              Fraud call from 515-414-1619 saying Bull's Eye Credit Union asking for CC, Exp date and Pin   \n",
       "86761                                                                                                                                                                                                                                                                                                                                                                                                                                                                                                                                                                                                                                                                                                                                                                                                                                                                                                                                                                                                                                                                                                                                                                                                                                                                                                                                                                                                                                                                                                                                                                                                                                                                                                                                                                                                                                                                                                                                                                                                                                                                                                       This actually was a recruiter from Florida for a job here in Texas. Not a spammer. Legitimate job.   \n",
       "87043                                                                                                                                                                                                                                                                                                                                                                                                                                                                                                                                                                                                                                                                                                                                                                                                                                                                                                                                                                                                                                                                                                                                                                                                                                                                                                                                                                                                                                                                                                                                                                                                                                                                                                                                                                                                                                                                                                                       We had a call - no message left - so I did a check online and it looks as though this is the business office number for Antonio Virsida, a mental health professional. Unless someone's spoofing his caller ID, any calls are probably the result of misdialing by a staff member.   \n",
       "87169                                                                                                                                                                                                                                                                                                                                                                                                                                                                                                                                                                                                                                                                                                                                                                                                                                                                                                                                                                                                                                                                                                                                                                                                                                                                                                                                                                                                                                                                                                                                                                                                                                                                                                                                                                                                                                                                                                                                                                             I just got the third call from this silent caller.  Doesn't say anything for about 10 seconds, then hangs up.  Must definately be a thief, and ID hacker.  I also found that the number is from somewhere in Boca Raton, FL.   \n",
       "87354                                                                                                                                                                                                                                                                                                                                                                                                                                                                                                                                                                                                                                                                                                                                                                                                                                                                                                                                                                                                                                                                                                                                                                                                                                                                                                                                                                                                                                                                                                                                                                                                                                                                                                                                                                                                                                                                                                                                                                                                                                                                                                                                           This is Healthcare enrollment center.  That's how they answer.   \n",
       "88242                                                                                                                                                                                                                                                                                                                                                                                                                                                                                                                                                                                                                                                                                                                                                                                                                                                                                                                                                                                                                                                                                                                                                                                                                                                                                                                                                                                                                                                                                                                                                                                                                                                                                                                                                                                                                                                                                                                                                                                                                                                                                                                                                                            I won tickets for an NBA game   \n",
       "88251                                                                                                                                                                                                                                                                                                                                                                                                                                                                                                                                                                                                                                                                                                                                                                                                                                                                                                                                                                                                                                                                                                                                                                                                                                                                                                                                                                                                                                                                                                                                                                                                                                                                                                                                                                                                                                                                                                                                                                                                                                                                                                                                                                                 Sweepstakes notification   \n",
       "88252                                                                                                                                                                                                                                                                                                                                                                                                                                                                                                                                                                                                                                                                                                                                                                                                                                                                                                                                                                                                                                                                                                                                                                                                                                                                                                                                                                                                                                                                                                                                                                                                                                                                                                                                                                                                                                                                                                                                                                                                                                                                                                                                                                              Won NHL tickets in Virginia   \n",
       "88253                                                                                                                                                                                                                                                                                                                                                                                                                                                                                                                                                                                                                                                                                                                                                                                                                                                                                                                                                                                                                                                                                                                                                                                                                                                                                                                                                                                                                                                                                                                                                                                                                                                                                                                                                                                                                                                                                                                                                                                                                                                                                                                                                         Very good call. I won a free weekend at a resort   \n",
       "88255                                                                                                                                                                                                                                                                                                                                                                                                                                                                                                                                                                                                                                                                                                                                                                                                                                                                                                                                                                                                                                                                                                                                                                                                                                                                                                                                                                                                                                                                                                                                                                                                                                                                                                                                                                                                                                                                                                                                                                                                                                                                                                                                                               Good Call. I won a gift card from a raffle   \n",
       "89384                                                                                                                                                                                                                                                                                                                                                                                                                                                                                                                                                                                                                                                                                                                                                                                                                                                                                                                                                                                                                                                                                                                                                                                                                                                                                                                                                                                                                                                                                                                                                                                                                                                                                                                                                                                                                                                                                                                                                                                                                                                                     They were trying to sell anti identity theft services and they had my personal information in regards to a major credit card company   \n",
       "89533                                                                                                                                                                                                                                                                                                                                                                                                                                                                                                                                                                                                                                                                                                                                                                                                                                                                                                                                                                                                                                                                                                                                                                                                                                                                                                                                                                                                                                                                                                                                                                                                                                                                                                                                                                                                                                                                                                                                                                                                                                                                                                                                    I applied to a job and they tried scaming me with a Laurie Smith name   \n",
       "91309                                                                                                                                                                                                                                                                                                                                                                                                                                                                                                                                                                                                                                                                                                                                                                                                                                                                                                                                                                                                                                                                                                                                                                                                                                                                                                                                                                                                                                                                                                                                                                                                                                                                                                                                                                                                                                                                                                                                                                                                                                                                                                                                                    Just calling to arrange a delivery time for my order.   \n",
       "91310                                                                                                                                                                                                                                                                                                                                                                                                                                                                                                                                                                                                                                                                                                                                                                                                                                                                                                                                                                                                                                                                                                                                                                                                                                                                                                                                                                                                                                                                                                                                                                                                                                                                                                                                                                                                                                                                                                                                                                                                                                                                                                                                                                                           it is Wayfair.   \n",
       "91722                                                                                                                                                                                                                                                                                                                                                                                                                                                                                                                                                                                                                                                                                                                                                                                                                                                                                                                                                                                                                                                                                                                                                                                                                                                                                                                                                                                                                                                                                                                                                                                                                                                                                                                                                                                                                                                                                                                                                                                                               I have received the same calls. I believe they are coming from the Naval Base on Coronado, in San Diego. The calls come through trunked lines and when you call back, you get an operator.   \n",
       "91745                                                                                                                                                                                                                                                                                                                                                                                                                                                                                                                                                                                                                                                                                                                                                                                                                                                                                                                                                                                                                                                                                                                                                                                                                                                                                                                                                                                                                                                                                                                                                                                                                                                                                                                                                                                                                                                                                                                                                                                                          Yeah, my friend John is in the Navy, I forgot it was his number, it is a navy number.  I don't know if it's a universal Navy company, or maybe it's from the same ship.  Good luck to them all.   \n",
       "91883                                                                                                                                                                                                                                                                                                                                                                                                                                                                                                                                                                                                                                                                                                                                                                                                                                                                                                                                                                                                                                                                                                                                                                                                                                                                                                                                                                                                                                                                                                                                                                                                                                                                                                                                                                                                                                                                                                                                                                                                                                                                                                      Rent to own home service. Very persistent when told not interested.  I blocked this number for now.   \n",
       "91921                                                                                                                                                                                                                                                                                                                                                                                                                                                                                                                                                                                                                                                                                                                                                                                                                                                                                                                                                                                                                                                                                                                                                                                                                                                                                                                                                                                                                                                                                                                                                                                                                                                                                                                                                                                                                                                                                                                                                                                                          This is from the Emporia State Alumni Association and yes they do ask for money.  If you benefited from the University or if you received monies to attend school here it is worth giving back.   \n",
       "92615                                                                                                                                                                                                                                                                                                                                                                                                                                                                                                                                                                                                                                                                                                                                                                                                                                                                                                                                                                                                                                                                                                                                                                                                                                                                                                                                                                                                                                                                                                                                                            This call is not from DirectV or Dish Network, but from Saudi Moslems.  They collect personal information from un suspecting individuals thinking they are getting a great deal on satellite television, but really are getting their personal information stolen in an identity thief scam.  Remember, the Feds busted this organization in mid-June of this year for running identity thief schemes in several states, and the reports cautioned that anyone in the public that received calls from this number to immediately notify the police and other law authorities for you may have already become a victim from this organization.   \n",
       "92734                                                                                                                                                                                                                                                                                                                                                                                                                                                                                                                                                                                                                                                                                                                                                                                                                                                                                                                                                                                                                                                                                                                                                                                                                                                                                                                                                                                                                                                                                                                                                                       Not the first time I have received a call from these people. They have obviously had access to information from one of my credit cards, as numbers are right on target, but only fairly recent.Yes, it was \"Josh\" who gave the intro message, and as with everyone else I pressed #1 in an effort to tell them to be removed from their list. (Also am registered with National Do Not Call List) Line answered by a woman who immediately hung up when I said \"remove me from your list\" - exactly as reported by everyone else. I don't believe for one moment they did anything about it, as this has been going on for months.   \n",
       "92735                                                                                                                                                                                                                                                                                                                                                                                                                                                                                                                                                                                                                                                                                                                                                                                                                                                                                                                                                                                                                                                                                                                                                                                                                                                                                                                                                                                                                                                                                                                                                                                                                                                                                                                                                                                                                                 I do not believe for a second that some clown in California is going to go in to work at 5:30 am to telespam someone in NJ. It's a scam from a spoofed number. How could a 'communications' company be able to help me with my finances that they claim to know about - but couldn't possibly know or help with?And why are they posing under numerous 'business' names?   \n",
       "\n",
       "         phone_number  \n",
       "78651  1-480-588-0745  \n",
       "79367  1-484-464-2727  \n",
       "80354  1-502-715-7778  \n",
       "83425  1-512-646-0766  \n",
       "84542  1-512-714-8866  \n",
       "84625  1-512-817-3231  \n",
       "84992  1-512-994-3538  \n",
       "85351  1-515-364-6750  \n",
       "85434  1-515-364-6750  \n",
       "85449  1-515-414-1619  \n",
       "86761  1-561-277-1215  \n",
       "87043  1-561-338-0902  \n",
       "87169  1-561-338-9413  \n",
       "87354  1-561-557-0087  \n",
       "88242  1-603-366-3349  \n",
       "88251  1-603-366-3369  \n",
       "88252  1-603-366-3369  \n",
       "88253  1-603-366-3369  \n",
       "88255  1-603-366-3369  \n",
       "89384  1-604-757-9657  \n",
       "89533  1-607-301-3230  \n",
       "91309  1-617-532-6100  \n",
       "91310  1-617-532-6100  \n",
       "91722  1-619-524-6200  \n",
       "91745  1-619-545-5532  \n",
       "91883  1-619-824-3699  \n",
       "91921  1-620-341-6486  \n",
       "92615  1-626-259-5545  \n",
       "92734  1-626-259-5570  \n",
       "92735  1-626-259-5570  "
      ]
     },
     "execution_count": 47,
     "metadata": {},
     "output_type": "execute_result"
    }
   ],
   "source": [
    "pd.options.display.max_colwidth = 10000\n",
    "\n",
    "searched= df[df.call_type == \"Valid\"]\n",
    "searched.iloc[80:110]"
   ]
  },
  {
   "cell_type": "code",
   "execution_count": 8,
   "metadata": {},
   "outputs": [],
   "source": [
    "# df.loc[df['Product'] == 'Credit reporting', 'Product'] = 'Credit reporting, credit repair services, or other personal consumer reports'\n",
    "# df.loc[df['Product'] == 'Credit card', 'Product'] = 'Credit card or prepaid card'\n",
    "# df.loc[df['Product'] == 'Payday loan', 'Product'] = 'Payday loan, title loan, or personal loan'\n",
    "# df.loc[df['Product'] == 'Virtual currency', 'Product'] = 'Money transfer, virtual currency, or money service'\n",
    "df = df[df.call_type != 'Valid']\n",
    "df = df[df.call_type != 'Unwanted']\n",
    "df = df[df.call_type != 'Scam suspicion']"
   ]
  },
  {
   "cell_type": "code",
   "execution_count": 9,
   "metadata": {},
   "outputs": [
    {
     "data": {
      "application/vnd.plotly.v1+json": {
       "config": {
        "linkText": "Export to plot.ly",
        "plotlyServerURL": "https://plot.ly",
        "responsive": true,
        "showLink": true
       },
       "data": [
        {
         "marker": {
          "color": "rgba(255, 153, 51, 0.6)",
          "line": {
           "color": "rgba(255, 153, 51, 1.0)",
           "width": 1
          }
         },
         "name": "call_type",
         "orientation": "v",
         "text": "",
         "type": "bar",
         "uid": "f074438f-b410-495c-9be2-4079e5f15b50",
         "x": [
          "Telemarketer",
          "Debt collector",
          "Prank",
          "Survey",
          "Political call",
          "Text message",
          "Non-profit organization",
          "Event reminder",
          "Fax",
          "Silent call"
         ],
         "y": [
          22470,
          20775,
          2513,
          1746,
          1420,
          1146,
          1134,
          728,
          519,
          423
         ]
        }
       ],
       "layout": {
        "legend": {
         "bgcolor": "#F5F6F9",
         "font": {
          "color": "#4D5663"
         }
        },
        "paper_bgcolor": "#F5F6F9",
        "plot_bgcolor": "#F5F6F9",
        "title": {
         "font": {
          "color": "#4D5663"
         },
         "text": "Number comments in each call type"
        },
        "xaxis": {
         "gridcolor": "#E1E5ED",
         "showgrid": true,
         "tickfont": {
          "color": "#4D5663"
         },
         "title": {
          "font": {
           "color": "#4D5663"
          },
          "text": ""
         },
         "zerolinecolor": "#E1E5ED"
        },
        "yaxis": {
         "gridcolor": "#E1E5ED",
         "showgrid": true,
         "tickfont": {
          "color": "#4D5663"
         },
         "title": {
          "font": {
           "color": "#4D5663"
          },
          "text": "Number of comments"
         },
         "zerolinecolor": "#E1E5ED"
        }
       }
      },
      "text/html": [
       "<div>\n",
       "        \n",
       "        \n",
       "            <div id=\"7f83a4b5-d19b-4d0a-8ce0-b547c75e9e2e\" class=\"plotly-graph-div\" style=\"height:525px; width:100%;\"></div>\n",
       "            <script type=\"text/javascript\">\n",
       "                require([\"plotly\"], function(Plotly) {\n",
       "                    window.PLOTLYENV=window.PLOTLYENV || {};\n",
       "                    window.PLOTLYENV.BASE_URL='https://plot.ly';\n",
       "                    \n",
       "                if (document.getElementById(\"7f83a4b5-d19b-4d0a-8ce0-b547c75e9e2e\")) {\n",
       "                    Plotly.newPlot(\n",
       "                        '7f83a4b5-d19b-4d0a-8ce0-b547c75e9e2e',\n",
       "                        [{\"marker\": {\"color\": \"rgba(255, 153, 51, 0.6)\", \"line\": {\"color\": \"rgba(255, 153, 51, 1.0)\", \"width\": 1}}, \"name\": \"call_type\", \"orientation\": \"v\", \"text\": \"\", \"type\": \"bar\", \"uid\": \"c1dcd630-672a-4cc9-b430-088dceadf1d3\", \"x\": [\"Telemarketer\", \"Debt collector\", \"Prank\", \"Survey\", \"Political call\", \"Text message\", \"Non-profit organization\", \"Event reminder\", \"Fax\", \"Silent call\"], \"y\": [22470, 20775, 2513, 1746, 1420, 1146, 1134, 728, 519, 423]}],\n",
       "                        {\"legend\": {\"bgcolor\": \"#F5F6F9\", \"font\": {\"color\": \"#4D5663\"}}, \"paper_bgcolor\": \"#F5F6F9\", \"plot_bgcolor\": \"#F5F6F9\", \"title\": {\"font\": {\"color\": \"#4D5663\"}, \"text\": \"Number comments in each call type\"}, \"xaxis\": {\"gridcolor\": \"#E1E5ED\", \"showgrid\": true, \"tickfont\": {\"color\": \"#4D5663\"}, \"title\": {\"font\": {\"color\": \"#4D5663\"}, \"text\": \"\"}, \"zerolinecolor\": \"#E1E5ED\"}, \"yaxis\": {\"gridcolor\": \"#E1E5ED\", \"showgrid\": true, \"tickfont\": {\"color\": \"#4D5663\"}, \"title\": {\"font\": {\"color\": \"#4D5663\"}, \"text\": \"Number of comments\"}, \"zerolinecolor\": \"#E1E5ED\"}},\n",
       "                        {\"showLink\": true, \"linkText\": \"Export to plot.ly\", \"plotlyServerURL\": \"https://plot.ly\", \"responsive\": true}\n",
       "                    ).then(function(){\n",
       "                            \n",
       "var gd = document.getElementById('7f83a4b5-d19b-4d0a-8ce0-b547c75e9e2e');\n",
       "var x = new MutationObserver(function (mutations, observer) {{\n",
       "        var display = window.getComputedStyle(gd).display;\n",
       "        if (!display || display === 'none') {{\n",
       "            console.log([gd, 'removed!']);\n",
       "            Plotly.purge(gd);\n",
       "            observer.disconnect();\n",
       "        }}\n",
       "}});\n",
       "\n",
       "// Listen for the removal of the full notebook cells\n",
       "var notebookContainer = gd.closest('#notebook-container');\n",
       "if (notebookContainer) {{\n",
       "    x.observe(notebookContainer, {childList: true});\n",
       "}}\n",
       "\n",
       "// Listen for the clearing of the current output cell\n",
       "var outputEl = gd.closest('.output');\n",
       "if (outputEl) {{\n",
       "    x.observe(outputEl, {childList: true});\n",
       "}}\n",
       "\n",
       "                        })\n",
       "                };\n",
       "                });\n",
       "            </script>\n",
       "        </div>"
      ]
     },
     "metadata": {},
     "output_type": "display_data"
    }
   ],
   "source": [
    "df['call_type'].value_counts().sort_values(ascending=False).iplot(kind='bar', yTitle='Number of comments', \n",
    "                                                                title='Number comments in each call type')"
   ]
  },
  {
   "cell_type": "code",
   "execution_count": 10,
   "metadata": {},
   "outputs": [],
   "source": [
    "df = df.reset_index(drop=True)"
   ]
  },
  {
   "cell_type": "code",
   "execution_count": 11,
   "metadata": {},
   "outputs": [],
   "source": [
    "def print_plot(index):\n",
    "    example = df[df.index == index][['content', 'call_type']].values[0]\n",
    "    if len(example) > 0:\n",
    "        print(example[0])\n",
    "        print('Product:', example[1])"
   ]
  },
  {
   "cell_type": "code",
   "execution_count": 12,
   "metadata": {},
   "outputs": [
    {
     "name": "stdout",
     "output_type": "stream",
     "text": [
      "Answering machine got the last part of a pre-recorded message regarding carpet cleaning.\n",
      "Product: Telemarketer\n"
     ]
    }
   ],
   "source": [
    "print_plot(10)"
   ]
  },
  {
   "cell_type": "code",
   "execution_count": 13,
   "metadata": {},
   "outputs": [
    {
     "name": "stdout",
     "output_type": "stream",
     "text": [
      "Brandon from the RNC, this morning.  Caller ID is worthless when the telemarketers can make up their own phone numbers for it.\n",
      "Product: Political call\n"
     ]
    }
   ],
   "source": [
    "print_plot(100)"
   ]
  },
  {
   "cell_type": "code",
   "execution_count": 14,
   "metadata": {},
   "outputs": [],
   "source": [
    "df = df.reset_index(drop=True)\n",
    "REPLACE_BY_SPACE_RE = re.compile('[/(){}\\[\\]\\|@,;]')\n",
    "BAD_SYMBOLS_RE = re.compile('[^0-9a-z #+_]')\n",
    "STOPWORDS = set(stopwords.words('english'))\n",
    "\n",
    "def clean_text(text):\n",
    "    \"\"\"\n",
    "        text: a string\n",
    "        \n",
    "        return: modified initial string\n",
    "    \"\"\"\n",
    "    text = text.lower() # lowercase text\n",
    "    text = REPLACE_BY_SPACE_RE.sub(' ', text) # replace REPLACE_BY_SPACE_RE symbols by space in text. substitute the matched string in REPLACE_BY_SPACE_RE with space.\n",
    "    text = BAD_SYMBOLS_RE.sub('', text) # remove symbols which are in BAD_SYMBOLS_RE from text. substitute the matched string in BAD_SYMBOLS_RE with nothing. \n",
    "#     text = text.replace('x', '')\n",
    "#    text = re.sub(r'\\W+', '', text)\n",
    "    text = ' '.join(word for word in text.split() if word not in STOPWORDS) # remove stopwors from text\n",
    "    return text\n",
    "df['content'] = df['content'].apply(clean_text)"
   ]
  },
  {
   "cell_type": "code",
   "execution_count": 15,
   "metadata": {},
   "outputs": [
    {
     "ename": "KeyError",
     "evalue": "'Consumer complaint narrative'",
     "output_type": "error",
     "traceback": [
      "\u001b[1;31m---------------------------------------------------------------------------\u001b[0m",
      "\u001b[1;31mKeyError\u001b[0m                                  Traceback (most recent call last)",
      "\u001b[1;32m~\\Anaconda3\\lib\\site-packages\\pandas\\core\\indexes\\base.py\u001b[0m in \u001b[0;36mget_loc\u001b[1;34m(self, key, method, tolerance)\u001b[0m\n\u001b[0;32m   2524\u001b[0m             \u001b[1;32mtry\u001b[0m\u001b[1;33m:\u001b[0m\u001b[1;33m\u001b[0m\u001b[0m\n\u001b[1;32m-> 2525\u001b[1;33m                 \u001b[1;32mreturn\u001b[0m \u001b[0mself\u001b[0m\u001b[1;33m.\u001b[0m\u001b[0m_engine\u001b[0m\u001b[1;33m.\u001b[0m\u001b[0mget_loc\u001b[0m\u001b[1;33m(\u001b[0m\u001b[0mkey\u001b[0m\u001b[1;33m)\u001b[0m\u001b[1;33m\u001b[0m\u001b[0m\n\u001b[0m\u001b[0;32m   2526\u001b[0m             \u001b[1;32mexcept\u001b[0m \u001b[0mKeyError\u001b[0m\u001b[1;33m:\u001b[0m\u001b[1;33m\u001b[0m\u001b[0m\n",
      "\u001b[1;32mpandas/_libs/index.pyx\u001b[0m in \u001b[0;36mpandas._libs.index.IndexEngine.get_loc\u001b[1;34m()\u001b[0m\n",
      "\u001b[1;32mpandas/_libs/index.pyx\u001b[0m in \u001b[0;36mpandas._libs.index.IndexEngine.get_loc\u001b[1;34m()\u001b[0m\n",
      "\u001b[1;32mpandas/_libs/hashtable_class_helper.pxi\u001b[0m in \u001b[0;36mpandas._libs.hashtable.PyObjectHashTable.get_item\u001b[1;34m()\u001b[0m\n",
      "\u001b[1;32mpandas/_libs/hashtable_class_helper.pxi\u001b[0m in \u001b[0;36mpandas._libs.hashtable.PyObjectHashTable.get_item\u001b[1;34m()\u001b[0m\n",
      "\u001b[1;31mKeyError\u001b[0m: 'Consumer complaint narrative'",
      "\nDuring handling of the above exception, another exception occurred:\n",
      "\u001b[1;31mKeyError\u001b[0m                                  Traceback (most recent call last)",
      "\u001b[1;32m<ipython-input-15-40704303c81a>\u001b[0m in \u001b[0;36m<module>\u001b[1;34m()\u001b[0m\n\u001b[1;32m----> 1\u001b[1;33m \u001b[0mdf\u001b[0m\u001b[1;33m[\u001b[0m\u001b[1;34m'Consumer complaint narrative'\u001b[0m\u001b[1;33m]\u001b[0m \u001b[1;33m=\u001b[0m \u001b[0mdf\u001b[0m\u001b[1;33m[\u001b[0m\u001b[1;34m'Consumer complaint narrative'\u001b[0m\u001b[1;33m]\u001b[0m\u001b[1;33m.\u001b[0m\u001b[0mstr\u001b[0m\u001b[1;33m.\u001b[0m\u001b[0mreplace\u001b[0m\u001b[1;33m(\u001b[0m\u001b[1;34m'\\d+'\u001b[0m\u001b[1;33m,\u001b[0m \u001b[1;34m''\u001b[0m\u001b[1;33m)\u001b[0m\u001b[1;33m\u001b[0m\u001b[0m\n\u001b[0m",
      "\u001b[1;32m~\\Anaconda3\\lib\\site-packages\\pandas\\core\\frame.py\u001b[0m in \u001b[0;36m__getitem__\u001b[1;34m(self, key)\u001b[0m\n\u001b[0;32m   2137\u001b[0m             \u001b[1;32mreturn\u001b[0m \u001b[0mself\u001b[0m\u001b[1;33m.\u001b[0m\u001b[0m_getitem_multilevel\u001b[0m\u001b[1;33m(\u001b[0m\u001b[0mkey\u001b[0m\u001b[1;33m)\u001b[0m\u001b[1;33m\u001b[0m\u001b[0m\n\u001b[0;32m   2138\u001b[0m         \u001b[1;32melse\u001b[0m\u001b[1;33m:\u001b[0m\u001b[1;33m\u001b[0m\u001b[0m\n\u001b[1;32m-> 2139\u001b[1;33m             \u001b[1;32mreturn\u001b[0m \u001b[0mself\u001b[0m\u001b[1;33m.\u001b[0m\u001b[0m_getitem_column\u001b[0m\u001b[1;33m(\u001b[0m\u001b[0mkey\u001b[0m\u001b[1;33m)\u001b[0m\u001b[1;33m\u001b[0m\u001b[0m\n\u001b[0m\u001b[0;32m   2140\u001b[0m \u001b[1;33m\u001b[0m\u001b[0m\n\u001b[0;32m   2141\u001b[0m     \u001b[1;32mdef\u001b[0m \u001b[0m_getitem_column\u001b[0m\u001b[1;33m(\u001b[0m\u001b[0mself\u001b[0m\u001b[1;33m,\u001b[0m \u001b[0mkey\u001b[0m\u001b[1;33m)\u001b[0m\u001b[1;33m:\u001b[0m\u001b[1;33m\u001b[0m\u001b[0m\n",
      "\u001b[1;32m~\\Anaconda3\\lib\\site-packages\\pandas\\core\\frame.py\u001b[0m in \u001b[0;36m_getitem_column\u001b[1;34m(self, key)\u001b[0m\n\u001b[0;32m   2144\u001b[0m         \u001b[1;31m# get column\u001b[0m\u001b[1;33m\u001b[0m\u001b[1;33m\u001b[0m\u001b[0m\n\u001b[0;32m   2145\u001b[0m         \u001b[1;32mif\u001b[0m \u001b[0mself\u001b[0m\u001b[1;33m.\u001b[0m\u001b[0mcolumns\u001b[0m\u001b[1;33m.\u001b[0m\u001b[0mis_unique\u001b[0m\u001b[1;33m:\u001b[0m\u001b[1;33m\u001b[0m\u001b[0m\n\u001b[1;32m-> 2146\u001b[1;33m             \u001b[1;32mreturn\u001b[0m \u001b[0mself\u001b[0m\u001b[1;33m.\u001b[0m\u001b[0m_get_item_cache\u001b[0m\u001b[1;33m(\u001b[0m\u001b[0mkey\u001b[0m\u001b[1;33m)\u001b[0m\u001b[1;33m\u001b[0m\u001b[0m\n\u001b[0m\u001b[0;32m   2147\u001b[0m \u001b[1;33m\u001b[0m\u001b[0m\n\u001b[0;32m   2148\u001b[0m         \u001b[1;31m# duplicate columns & possible reduce dimensionality\u001b[0m\u001b[1;33m\u001b[0m\u001b[1;33m\u001b[0m\u001b[0m\n",
      "\u001b[1;32m~\\Anaconda3\\lib\\site-packages\\pandas\\core\\generic.py\u001b[0m in \u001b[0;36m_get_item_cache\u001b[1;34m(self, item)\u001b[0m\n\u001b[0;32m   1840\u001b[0m         \u001b[0mres\u001b[0m \u001b[1;33m=\u001b[0m \u001b[0mcache\u001b[0m\u001b[1;33m.\u001b[0m\u001b[0mget\u001b[0m\u001b[1;33m(\u001b[0m\u001b[0mitem\u001b[0m\u001b[1;33m)\u001b[0m\u001b[1;33m\u001b[0m\u001b[0m\n\u001b[0;32m   1841\u001b[0m         \u001b[1;32mif\u001b[0m \u001b[0mres\u001b[0m \u001b[1;32mis\u001b[0m \u001b[1;32mNone\u001b[0m\u001b[1;33m:\u001b[0m\u001b[1;33m\u001b[0m\u001b[0m\n\u001b[1;32m-> 1842\u001b[1;33m             \u001b[0mvalues\u001b[0m \u001b[1;33m=\u001b[0m \u001b[0mself\u001b[0m\u001b[1;33m.\u001b[0m\u001b[0m_data\u001b[0m\u001b[1;33m.\u001b[0m\u001b[0mget\u001b[0m\u001b[1;33m(\u001b[0m\u001b[0mitem\u001b[0m\u001b[1;33m)\u001b[0m\u001b[1;33m\u001b[0m\u001b[0m\n\u001b[0m\u001b[0;32m   1843\u001b[0m             \u001b[0mres\u001b[0m \u001b[1;33m=\u001b[0m \u001b[0mself\u001b[0m\u001b[1;33m.\u001b[0m\u001b[0m_box_item_values\u001b[0m\u001b[1;33m(\u001b[0m\u001b[0mitem\u001b[0m\u001b[1;33m,\u001b[0m \u001b[0mvalues\u001b[0m\u001b[1;33m)\u001b[0m\u001b[1;33m\u001b[0m\u001b[0m\n\u001b[0;32m   1844\u001b[0m             \u001b[0mcache\u001b[0m\u001b[1;33m[\u001b[0m\u001b[0mitem\u001b[0m\u001b[1;33m]\u001b[0m \u001b[1;33m=\u001b[0m \u001b[0mres\u001b[0m\u001b[1;33m\u001b[0m\u001b[0m\n",
      "\u001b[1;32m~\\Anaconda3\\lib\\site-packages\\pandas\\core\\internals.py\u001b[0m in \u001b[0;36mget\u001b[1;34m(self, item, fastpath)\u001b[0m\n\u001b[0;32m   3841\u001b[0m \u001b[1;33m\u001b[0m\u001b[0m\n\u001b[0;32m   3842\u001b[0m             \u001b[1;32mif\u001b[0m \u001b[1;32mnot\u001b[0m \u001b[0misna\u001b[0m\u001b[1;33m(\u001b[0m\u001b[0mitem\u001b[0m\u001b[1;33m)\u001b[0m\u001b[1;33m:\u001b[0m\u001b[1;33m\u001b[0m\u001b[0m\n\u001b[1;32m-> 3843\u001b[1;33m                 \u001b[0mloc\u001b[0m \u001b[1;33m=\u001b[0m \u001b[0mself\u001b[0m\u001b[1;33m.\u001b[0m\u001b[0mitems\u001b[0m\u001b[1;33m.\u001b[0m\u001b[0mget_loc\u001b[0m\u001b[1;33m(\u001b[0m\u001b[0mitem\u001b[0m\u001b[1;33m)\u001b[0m\u001b[1;33m\u001b[0m\u001b[0m\n\u001b[0m\u001b[0;32m   3844\u001b[0m             \u001b[1;32melse\u001b[0m\u001b[1;33m:\u001b[0m\u001b[1;33m\u001b[0m\u001b[0m\n\u001b[0;32m   3845\u001b[0m                 \u001b[0mindexer\u001b[0m \u001b[1;33m=\u001b[0m \u001b[0mnp\u001b[0m\u001b[1;33m.\u001b[0m\u001b[0marange\u001b[0m\u001b[1;33m(\u001b[0m\u001b[0mlen\u001b[0m\u001b[1;33m(\u001b[0m\u001b[0mself\u001b[0m\u001b[1;33m.\u001b[0m\u001b[0mitems\u001b[0m\u001b[1;33m)\u001b[0m\u001b[1;33m)\u001b[0m\u001b[1;33m[\u001b[0m\u001b[0misna\u001b[0m\u001b[1;33m(\u001b[0m\u001b[0mself\u001b[0m\u001b[1;33m.\u001b[0m\u001b[0mitems\u001b[0m\u001b[1;33m)\u001b[0m\u001b[1;33m]\u001b[0m\u001b[1;33m\u001b[0m\u001b[0m\n",
      "\u001b[1;32m~\\Anaconda3\\lib\\site-packages\\pandas\\core\\indexes\\base.py\u001b[0m in \u001b[0;36mget_loc\u001b[1;34m(self, key, method, tolerance)\u001b[0m\n\u001b[0;32m   2525\u001b[0m                 \u001b[1;32mreturn\u001b[0m \u001b[0mself\u001b[0m\u001b[1;33m.\u001b[0m\u001b[0m_engine\u001b[0m\u001b[1;33m.\u001b[0m\u001b[0mget_loc\u001b[0m\u001b[1;33m(\u001b[0m\u001b[0mkey\u001b[0m\u001b[1;33m)\u001b[0m\u001b[1;33m\u001b[0m\u001b[0m\n\u001b[0;32m   2526\u001b[0m             \u001b[1;32mexcept\u001b[0m \u001b[0mKeyError\u001b[0m\u001b[1;33m:\u001b[0m\u001b[1;33m\u001b[0m\u001b[0m\n\u001b[1;32m-> 2527\u001b[1;33m                 \u001b[1;32mreturn\u001b[0m \u001b[0mself\u001b[0m\u001b[1;33m.\u001b[0m\u001b[0m_engine\u001b[0m\u001b[1;33m.\u001b[0m\u001b[0mget_loc\u001b[0m\u001b[1;33m(\u001b[0m\u001b[0mself\u001b[0m\u001b[1;33m.\u001b[0m\u001b[0m_maybe_cast_indexer\u001b[0m\u001b[1;33m(\u001b[0m\u001b[0mkey\u001b[0m\u001b[1;33m)\u001b[0m\u001b[1;33m)\u001b[0m\u001b[1;33m\u001b[0m\u001b[0m\n\u001b[0m\u001b[0;32m   2528\u001b[0m \u001b[1;33m\u001b[0m\u001b[0m\n\u001b[0;32m   2529\u001b[0m         \u001b[0mindexer\u001b[0m \u001b[1;33m=\u001b[0m \u001b[0mself\u001b[0m\u001b[1;33m.\u001b[0m\u001b[0mget_indexer\u001b[0m\u001b[1;33m(\u001b[0m\u001b[1;33m[\u001b[0m\u001b[0mkey\u001b[0m\u001b[1;33m]\u001b[0m\u001b[1;33m,\u001b[0m \u001b[0mmethod\u001b[0m\u001b[1;33m=\u001b[0m\u001b[0mmethod\u001b[0m\u001b[1;33m,\u001b[0m \u001b[0mtolerance\u001b[0m\u001b[1;33m=\u001b[0m\u001b[0mtolerance\u001b[0m\u001b[1;33m)\u001b[0m\u001b[1;33m\u001b[0m\u001b[0m\n",
      "\u001b[1;32mpandas/_libs/index.pyx\u001b[0m in \u001b[0;36mpandas._libs.index.IndexEngine.get_loc\u001b[1;34m()\u001b[0m\n",
      "\u001b[1;32mpandas/_libs/index.pyx\u001b[0m in \u001b[0;36mpandas._libs.index.IndexEngine.get_loc\u001b[1;34m()\u001b[0m\n",
      "\u001b[1;32mpandas/_libs/hashtable_class_helper.pxi\u001b[0m in \u001b[0;36mpandas._libs.hashtable.PyObjectHashTable.get_item\u001b[1;34m()\u001b[0m\n",
      "\u001b[1;32mpandas/_libs/hashtable_class_helper.pxi\u001b[0m in \u001b[0;36mpandas._libs.hashtable.PyObjectHashTable.get_item\u001b[1;34m()\u001b[0m\n",
      "\u001b[1;31mKeyError\u001b[0m: 'Consumer complaint narrative'"
     ]
    }
   ],
   "source": [
    "df['Consumer complaint narrative'] = df['Consumer complaint narrative'].str.replace('\\d+', '')"
   ]
  },
  {
   "cell_type": "code",
   "execution_count": 16,
   "metadata": {},
   "outputs": [
    {
     "name": "stdout",
     "output_type": "stream",
     "text": [
      "answering machine got last part prerecorded message regarding carpet cleaning\n",
      "Product: Telemarketer\n"
     ]
    }
   ],
   "source": [
    "print_plot(10)"
   ]
  },
  {
   "cell_type": "code",
   "execution_count": 17,
   "metadata": {},
   "outputs": [
    {
     "name": "stdout",
     "output_type": "stream",
     "text": [
      "brandon rnc morning caller id worthless telemarketers make phone numbers\n",
      "Product: Political call\n"
     ]
    }
   ],
   "source": [
    "print_plot(100)"
   ]
  },
  {
   "cell_type": "code",
   "execution_count": 18,
   "metadata": {},
   "outputs": [
    {
     "name": "stdout",
     "output_type": "stream",
     "text": [
      "Found 81340 unique tokens.\n"
     ]
    }
   ],
   "source": [
    "# The maximum number of words to be used. (most frequent)\n",
    "MAX_NB_WORDS = 50000\n",
    "# Max number of words in each complaint.\n",
    "MAX_SEQUENCE_LENGTH = 250\n",
    "# This is fixed.\n",
    "EMBEDDING_DIM = 100\n",
    "\n",
    "tokenizer = Tokenizer(num_words=MAX_NB_WORDS, filters='!\"#$%&()*+,-./:;<=>?@[\\]^_`{|}~', lower=True)\n",
    "tokenizer.fit_on_texts(df['content'].values)\n",
    "word_index = tokenizer.word_index\n",
    "print('Found %s unique tokens.' % len(word_index))"
   ]
  },
  {
   "cell_type": "code",
   "execution_count": 19,
   "metadata": {},
   "outputs": [
    {
     "name": "stdout",
     "output_type": "stream",
     "text": [
      "Shape of data tensor: (52874, 250)\n"
     ]
    }
   ],
   "source": [
    "X = tokenizer.texts_to_sequences(df['content'].values)\n",
    "X = pad_sequences(X, maxlen=MAX_SEQUENCE_LENGTH)\n",
    "print('Shape of data tensor:', X.shape)"
   ]
  },
  {
   "cell_type": "code",
   "execution_count": 20,
   "metadata": {},
   "outputs": [
    {
     "name": "stdout",
     "output_type": "stream",
     "text": [
      "Shape of label tensor: (52874, 10)\n"
     ]
    }
   ],
   "source": [
    "Y = pd.get_dummies(df['call_type']).values\n",
    "print('Shape of label tensor:', Y.shape)"
   ]
  },
  {
   "cell_type": "code",
   "execution_count": 21,
   "metadata": {},
   "outputs": [
    {
     "name": "stdout",
     "output_type": "stream",
     "text": [
      "(47586, 250) (47586, 10)\n",
      "(5288, 250) (5288, 10)\n"
     ]
    }
   ],
   "source": [
    "X_train, X_test, Y_train, Y_test = train_test_split(X,Y, test_size = 0.10, random_state = 42)\n",
    "print(X_train.shape,Y_train.shape)\n",
    "print(X_test.shape,Y_test.shape)"
   ]
  },
  {
   "cell_type": "code",
   "execution_count": 24,
   "metadata": {},
   "outputs": [
    {
     "name": "stdout",
     "output_type": "stream",
     "text": [
      "_________________________________________________________________\n",
      "Layer (type)                 Output Shape              Param #   \n",
      "=================================================================\n",
      "embedding_2 (Embedding)      (None, 250, 100)          5000000   \n",
      "_________________________________________________________________\n",
      "spatial_dropout1d_2 (Spatial (None, 250, 100)          0         \n",
      "_________________________________________________________________\n",
      "lstm_2 (LSTM)                (None, 100)               80400     \n",
      "_________________________________________________________________\n",
      "dense_2 (Dense)              (None, 10)                1010      \n",
      "=================================================================\n",
      "Total params: 5,081,410\n",
      "Trainable params: 5,081,410\n",
      "Non-trainable params: 0\n",
      "_________________________________________________________________\n",
      "None\n"
     ]
    }
   ],
   "source": [
    "model = Sequential()\n",
    "model.add(Embedding(MAX_NB_WORDS, EMBEDDING_DIM, input_length=X.shape[1]))\n",
    "model.add(SpatialDropout1D(0.2))\n",
    "model.add(LSTM(100, dropout=0.2, recurrent_dropout=0.2))\n",
    "model.add(Dense(10, activation='softmax'))\n",
    "model.compile(loss='categorical_crossentropy', optimizer='adam', metrics=['accuracy'])\n",
    "print(model.summary())"
   ]
  },
  {
   "cell_type": "code",
   "execution_count": 25,
   "metadata": {},
   "outputs": [
    {
     "name": "stdout",
     "output_type": "stream",
     "text": [
      "Train on 42827 samples, validate on 4759 samples\n",
      "Epoch 1/5\n",
      "42827/42827 [==============================] - 261s 6ms/step - loss: 1.1004 - acc: 0.6591 - val_loss: 0.9334 - val_acc: 0.7258\n",
      "Epoch 2/5\n",
      "42827/42827 [==============================] - 259s 6ms/step - loss: 0.7858 - acc: 0.7679 - val_loss: 0.8819 - val_acc: 0.7453\n",
      "Epoch 3/5\n",
      "42827/42827 [==============================] - 263s 6ms/step - loss: 0.6437 - acc: 0.8060 - val_loss: 0.8522 - val_acc: 0.7544\n",
      "Epoch 4/5\n",
      "42827/42827 [==============================] - 276s 6ms/step - loss: 0.5415 - acc: 0.8357 - val_loss: 0.8578 - val_acc: 0.7520\n",
      "Epoch 5/5\n",
      "42827/42827 [==============================] - 296s 7ms/step - loss: 0.4610 - acc: 0.8588 - val_loss: 0.8695 - val_acc: 0.7544\n"
     ]
    }
   ],
   "source": [
    "epochs = 5\n",
    "batch_size = 64\n",
    "\n",
    "history = model.fit(X_train, Y_train, epochs=epochs, batch_size=batch_size,validation_split=0.1,callbacks=[EarlyStopping(monitor='val_loss', patience=3, min_delta=0.0001)])"
   ]
  },
  {
   "cell_type": "code",
   "execution_count": 29,
   "metadata": {},
   "outputs": [
    {
     "name": "stdout",
     "output_type": "stream",
     "text": [
      "5288/5288 [==============================] - 6s 1ms/step\n",
      "Test set\n",
      "  Loss: 0.826\n",
      "  Accuracy: 0.753\n"
     ]
    }
   ],
   "source": [
    "accr = model.evaluate(X_test,Y_test)\n",
    "print('Test set\\n  Loss: {:0.3f}\\n  Accuracy: {:0.3f}'.format(accr[0],accr[1]))"
   ]
  },
  {
   "cell_type": "code",
   "execution_count": 30,
   "metadata": {
    "scrolled": true
   },
   "outputs": [
    {
     "data": {
      "image/png": "[encoded data removed]",
      "text/plain": [
       "<matplotlib.figure.Figure at 0x1dfa69c16d8>"
      ]
     },
     "metadata": {},
     "output_type": "display_data"
    }
   ],
   "source": [
    "plt.title('Loss')\n",
    "plt.plot(history.history['loss'], label='train')\n",
    "plt.plot(history.history['val_loss'], label='test')\n",
    "plt.legend()\n",
    "plt.show();"
   ]
  },
  {
   "cell_type": "code",
   "execution_count": 31,
   "metadata": {},
   "outputs": [
    {
     "data": {
      "image/png": "[encoded data removed]",
      "text/plain": [
       "<matplotlib.figure.Figure at 0x1dfa6a6ec88>"
      ]
     },
     "metadata": {},
     "output_type": "display_data"
    }
   ],
   "source": [
    "plt.title('Accuracy')\n",
    "plt.plot(history.history['acc'], label='train')\n",
    "plt.plot(history.history['val_acc'], label='test')\n",
    "plt.legend()\n",
    "plt.show();"
   ]
  },
  {
   "cell_type": "markdown",
   "metadata": {},
   "source": [
    "Test with a new complaint."
   ]
  },
  {
   "cell_type": "code",
   "execution_count": null,
   "metadata": {},
   "outputs": [],
   "source": []
  }
 ],
 "metadata": {
  "kernelspec": {
   "display_name": "Python 3",
   "language": "python",
   "name": "python3"
  },
  "language_info": {
   "codemirror_mode": {
    "name": "ipython",
    "version": 3
   },
   "file_extension": ".py",
   "mimetype": "text/x-python",
   "name": "python",
   "nbconvert_exporter": "python",
   "pygments_lexer": "ipython3",
   "version": "3.6.4"
  }
 },
 "nbformat": 4,
 "nbformat_minor": 2
}
