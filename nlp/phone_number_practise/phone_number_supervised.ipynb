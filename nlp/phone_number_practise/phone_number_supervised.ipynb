{
 "cells": [
  {
   "cell_type": "code",
   "execution_count": 36,
   "metadata": {
    "scrolled": false
   },
   "outputs": [
    {
     "data": {
      "text/html": [
       "<div>\n",
       "<style scoped>\n",
       "    .dataframe tbody tr th:only-of-type {\n",
       "        vertical-align: middle;\n",
       "    }\n",
       "\n",
       "    .dataframe tbody tr th {\n",
       "        vertical-align: top;\n",
       "    }\n",
       "\n",
       "    .dataframe thead th {\n",
       "        text-align: right;\n",
       "    }\n",
       "</style>\n",
       "<table border=\"1\" class=\"dataframe\">\n",
       "  <thead>\n",
       "    <tr style=\"text-align: right;\">\n",
       "      <th></th>\n",
       "      <th>content</th>\n",
       "      <th>phone_number</th>\n",
       "      <th>datetime</th>\n",
       "      <th>caller</th>\n",
       "      <th>call_type</th>\n",
       "    </tr>\n",
       "  </thead>\n",
       "  <tbody>\n",
       "    <tr>\n",
       "      <th>0</th>\n",
       "      <td>I recently activated my home phone, so no one knows about this # but me and the phone company. This caller started to call on the third day making frequent calls within 10 -15 minutes from each other. I finally decided to pick up and answer. A guy said that they are doing a research and collecting opinions about products and services. By that time I was very angry with this company, and asked them to never call again and remove my phone number from their list. He apologized and hung up.</td>\n",
       "      <td>1-000-000-0000</td>\n",
       "      <td>8 Feb 2007</td>\n",
       "      <td>Research Company</td>\n",
       "      <td>NaN</td>\n",
       "    </tr>\n",
       "    <tr>\n",
       "      <th>1</th>\n",
       "      <td>My caller ID shows this number when I am late at returning a movie to Blockbuster. Luckily when I see this number I know it is them and I answer...then I remember to return the movie.</td>\n",
       "      <td>1-000-000-0000</td>\n",
       "      <td>19 Mar 2007</td>\n",
       "      <td>NaN</td>\n",
       "      <td>NaN</td>\n",
       "    </tr>\n",
       "    <tr>\n",
       "      <th>2</th>\n",
       "      <td>Every few days I get calls with this number showing up...I have answered it one time and it was a bill collector. I would dare say its a new way people have found to hide their true numbers...anyone agree?</td>\n",
       "      <td>1-000-000-0000</td>\n",
       "      <td>24 Mar 2007</td>\n",
       "      <td>blank</td>\n",
       "      <td>Debt collector</td>\n",
       "    </tr>\n",
       "    <tr>\n",
       "      <th>3</th>\n",
       "      <td>I had this one on my caller ID awhile back.  Last year, on the Montel Williams show, someone addressing the psychic Sylvia Brown (every Wednesday) , said they got a call from this number (all zeros) and when they answered they could barely make out what was being said on the other end.  Sylvia said it was a call from her \"deceased relative\".  I just learned today that there are new digital methods available for \"cloaking\" a phone number or using false numbers to hide your identity.  I have a feeling a lot of telemarketing companys (legal &amp; not) are using these methods to hide from a \"Do Not Call\" lawsuit.  Dead relatives my [***]...</td>\n",
       "      <td>1-000-000-0000</td>\n",
       "      <td>26 Mar 2007</td>\n",
       "      <td>unknown</td>\n",
       "      <td>NaN</td>\n",
       "    </tr>\n",
       "    <tr>\n",
       "      <th>4</th>\n",
       "      <td>I get four or five calls from this number almost every day.  I have a call blocker that works very well, but the number does show up on the Caller ID.  Don't know who it is; don't care who it is.  I think I can outlast them.</td>\n",
       "      <td>1-000-000-0000</td>\n",
       "      <td>28 Mar 2007</td>\n",
       "      <td>Privacy</td>\n",
       "      <td>NaN</td>\n",
       "    </tr>\n",
       "  </tbody>\n",
       "</table>\n",
       "</div>"
      ],
      "text/plain": [
       "                                                                                                                                                                                                                                                                                                                                                                                                                                                                                                                                                                                                                                                            content  \\\n",
       "0                                                                                                                                                      I recently activated my home phone, so no one knows about this # but me and the phone company. This caller started to call on the third day making frequent calls within 10 -15 minutes from each other. I finally decided to pick up and answer. A guy said that they are doing a research and collecting opinions about products and services. By that time I was very angry with this company, and asked them to never call again and remove my phone number from their list. He apologized and hung up.    \n",
       "1                                                                                                                                                                                                                                                                                                                                                                                                                                                                           My caller ID shows this number when I am late at returning a movie to Blockbuster. Luckily when I see this number I know it is them and I answer...then I remember to return the movie.   \n",
       "2                                                                                                                                                                                                                                                                                                                                                                                                                                                     Every few days I get calls with this number showing up...I have answered it one time and it was a bill collector. I would dare say its a new way people have found to hide their true numbers...anyone agree?   \n",
       "3  I had this one on my caller ID awhile back.  Last year, on the Montel Williams show, someone addressing the psychic Sylvia Brown (every Wednesday) , said they got a call from this number (all zeros) and when they answered they could barely make out what was being said on the other end.  Sylvia said it was a call from her \"deceased relative\".  I just learned today that there are new digital methods available for \"cloaking\" a phone number or using false numbers to hide your identity.  I have a feeling a lot of telemarketing companys (legal & not) are using these methods to hide from a \"Do Not Call\" lawsuit.  Dead relatives my [***]...   \n",
       "4                                                                                                                                                                                                                                                                                                                                                                                                                                  I get four or five calls from this number almost every day.  I have a call blocker that works very well, but the number does show up on the Caller ID.  Don't know who it is; don't care who it is.  I think I can outlast them.   \n",
       "\n",
       "     phone_number     datetime            caller       call_type  \n",
       "0  1-000-000-0000   8 Feb 2007  Research Company             NaN  \n",
       "1  1-000-000-0000  19 Mar 2007               NaN             NaN  \n",
       "2  1-000-000-0000  24 Mar 2007             blank  Debt collector  \n",
       "3  1-000-000-0000  26 Mar 2007           unknown             NaN  \n",
       "4  1-000-000-0000  28 Mar 2007           Privacy             NaN  "
      ]
     },
     "execution_count": 36,
     "metadata": {},
     "output_type": "execute_result"
    }
   ],
   "source": [
    "import pandas as pd\n",
    "df = pd.read_csv('comments.csv')\n",
    "df.head()"
   ]
  },
  {
   "cell_type": "code",
   "execution_count": 37,
   "metadata": {},
   "outputs": [],
   "source": [
    "df = df[pd.notnull(df['content'])]\n",
    "df = df[pd.notnull(df['call_type'])]\n"
   ]
  },
  {
   "cell_type": "code",
   "execution_count": 38,
   "metadata": {},
   "outputs": [],
   "source": [
    "df = df[df.call_type != 'Valid']\n",
    "df = df[df.call_type != 'Unwanted']\n",
    "df = df[df.call_type != 'Scam suspicion']"
   ]
  },
  {
   "cell_type": "code",
   "execution_count": 17,
   "metadata": {
    "scrolled": true
   },
   "outputs": [
    {
     "name": "stdout",
     "output_type": "stream",
     "text": [
      "<class 'pandas.core.frame.DataFrame'>\n",
      "Int64Index: 70086 entries, 2 to 246522\n",
      "Data columns (total 5 columns):\n",
      "content         70086 non-null object\n",
      "phone_number    70086 non-null object\n",
      "datetime        70086 non-null object\n",
      "caller          50280 non-null object\n",
      "call_type       70086 non-null object\n",
      "dtypes: object(5)\n",
      "memory usage: 3.2+ MB\n"
     ]
    }
   ],
   "source": [
    "df.info()"
   ]
  },
  {
   "cell_type": "code",
   "execution_count": 18,
   "metadata": {},
   "outputs": [],
   "source": [
    "col = ['content', 'call_type']\n",
    "df = df[col]"
   ]
  },
  {
   "cell_type": "code",
   "execution_count": 19,
   "metadata": {},
   "outputs": [
    {
     "data": {
      "text/plain": [
       "Index(['content', 'call_type'], dtype='object')"
      ]
     },
     "execution_count": 19,
     "metadata": {},
     "output_type": "execute_result"
    }
   ],
   "source": [
    "df.columns"
   ]
  },
  {
   "cell_type": "code",
   "execution_count": 20,
   "metadata": {},
   "outputs": [],
   "source": [
    "df.columns = ['content', 'call_type']"
   ]
  },
  {
   "cell_type": "code",
   "execution_count": 39,
   "metadata": {},
   "outputs": [],
   "source": [
    "df['category_id'] = df['call_type'].factorize()[0]\n",
    "from io import StringIO\n",
    "category_id_df = df[['call_type', 'category_id']].drop_duplicates().sort_values('category_id')\n",
    "category_to_id = dict(category_id_df.values)\n",
    "id_to_category = dict(category_id_df[['category_id', 'call_type']].values)"
   ]
  },
  {
   "cell_type": "code",
   "execution_count": 22,
   "metadata": {
    "scrolled": true
   },
   "outputs": [
    {
     "data": {
      "text/html": [
       "<div>\n",
       "<style scoped>\n",
       "    .dataframe tbody tr th:only-of-type {\n",
       "        vertical-align: middle;\n",
       "    }\n",
       "\n",
       "    .dataframe tbody tr th {\n",
       "        vertical-align: top;\n",
       "    }\n",
       "\n",
       "    .dataframe thead th {\n",
       "        text-align: right;\n",
       "    }\n",
       "</style>\n",
       "<table border=\"1\" class=\"dataframe\">\n",
       "  <thead>\n",
       "    <tr style=\"text-align: right;\">\n",
       "      <th></th>\n",
       "      <th>content</th>\n",
       "      <th>call_type</th>\n",
       "      <th>category_id</th>\n",
       "    </tr>\n",
       "  </thead>\n",
       "  <tbody>\n",
       "    <tr>\n",
       "      <th>2</th>\n",
       "      <td>Every few days I get calls with this number showing up...I have answered it one time and it was a bill collector. I would dare say its a new way people have found to hide their true numbers...anyone agree?</td>\n",
       "      <td>Debt collector</td>\n",
       "      <td>0</td>\n",
       "    </tr>\n",
       "    <tr>\n",
       "      <th>17</th>\n",
       "      <td>I have been getting this number on my cell phone and also on my home number as well and I do not answer it. Beware they will continue to call everyday.</td>\n",
       "      <td>Telemarketer</td>\n",
       "      <td>1</td>\n",
       "    </tr>\n",
       "    <tr>\n",
       "      <th>20</th>\n",
       "      <td>My thoughts are that it is a call block deceptive something-or-other that smartipants telecommunicators have figured out to get around the DoNotCallList.  Blockbuster called me with the 000-000-0000 number but they had my name and told me I had vids that are late, which I do.  My question is why the hell doesn't blockbuster have a number listed instead of the deceptive number?  In conclusion, I think a lot of companies have purchased something that makes their number show as all zeros.</td>\n",
       "      <td>Event reminder</td>\n",
       "      <td>2</td>\n",
       "    </tr>\n",
       "    <tr>\n",
       "      <th>31</th>\n",
       "      <td>Yes, the number (000) 000-0000 is a blind number for a debt collection service.  Don't bother to answer.  If they ask you if you are \"John Smith\" it's just because they hope that you'll verify your name for them.Someone posted that her telephone number was brand new and unpublished.  I'd just like her to know that unpublishing your telephone won't stop these calls if the debt collector has a court order/judgment against her.  Debt collectors can obtain \"unpublished\" numbers with that Court Order in hand in a matter of days.  Also, someone may have given up that number to avoid the same debt collection calls.  LOL.</td>\n",
       "      <td>Debt collector</td>\n",
       "      <td>0</td>\n",
       "    </tr>\n",
       "    <tr>\n",
       "      <th>32</th>\n",
       "      <td>I answered one of the calls.  It was an automated system telling me about a slightly overdue payment on my Gas account.</td>\n",
       "      <td>Unwanted</td>\n",
       "      <td>3</td>\n",
       "    </tr>\n",
       "    <tr>\n",
       "      <th>41</th>\n",
       "      <td>Called my cell. No message. My carrier marked it as Scam Likely. CID is a joke.</td>\n",
       "      <td>Scam suspicion</td>\n",
       "      <td>4</td>\n",
       "    </tr>\n",
       "    <tr>\n",
       "      <th>42</th>\n",
       "      <td>Called my DNC registered cell. I don’t pick up calls to my cell unless the number is in contacts. Bogus number.</td>\n",
       "      <td>Scam suspicion</td>\n",
       "      <td>4</td>\n",
       "    </tr>\n",
       "    <tr>\n",
       "      <th>45</th>\n",
       "      <td>Phone rang about 4 times I didn't answer it, at 8:13 am</td>\n",
       "      <td>Unwanted</td>\n",
       "      <td>3</td>\n",
       "    </tr>\n",
       "    <tr>\n",
       "      <th>47</th>\n",
       "      <td>I entered this number to Google... It comes up as a Government Scam.  I ignored the number when the call came in.  I knew there was no such number.</td>\n",
       "      <td>Scam suspicion</td>\n",
       "      <td>4</td>\n",
       "    </tr>\n",
       "    <tr>\n",
       "      <th>49</th>\n",
       "      <td>This caller also contacted me on 2019-02-10. Hung up.Never mind. The caller was misunderstood, judging by the caller's recent action. No further message left nor requested.</td>\n",
       "      <td>Silent call</td>\n",
       "      <td>5</td>\n",
       "    </tr>\n",
       "    <tr>\n",
       "      <th>51</th>\n",
       "      <td>Received calls from this number.  I don't answer and they don't leave a message.  I finally blocked it.  I am sure it is a SPAM call.</td>\n",
       "      <td>Scam suspicion</td>\n",
       "      <td>4</td>\n",
       "    </tr>\n",
       "    <tr>\n",
       "      <th>53</th>\n",
       "      <td>I already blocked the number awhile ago, but they left me a message today.  It was \"Megan\" from the Student Loan Advisory Board about my student loans....well, really my kid's loans.  I guess I have been pre-approved for the student loan forgiveness program but I have to act fast before the programs change.  The message said to call back at 866-620-2782.  Hmmmm, why would a \"legitimate\" company need to call on a fake number, then give a real number to call them back at?  Something tells me I won't be giving them a call back nor giving them any personal information.  LOSERS!</td>\n",
       "      <td>Scam suspicion</td>\n",
       "      <td>4</td>\n",
       "    </tr>\n",
       "    <tr>\n",
       "      <th>55</th>\n",
       "      <td>No message.</td>\n",
       "      <td>Scam suspicion</td>\n",
       "      <td>4</td>\n",
       "    </tr>\n",
       "    <tr>\n",
       "      <th>64</th>\n",
       "      <td>Blockbuster calls show this number when they call me about a movie that I have not returned in time.  They always leave a message.</td>\n",
       "      <td>Unwanted</td>\n",
       "      <td>3</td>\n",
       "    </tr>\n",
       "    <tr>\n",
       "      <th>65</th>\n",
       "      <td>Received 4th call from this number asking for my wife.  When challenged, the caller identified herself as a polling organization for Del. Chuck Caputo from Virginia.  I replied that spoofing your caller id is a somewhat anti-social act and that we were on the \"Do Not Call\" list, she agreed to remove our number from the call chain.</td>\n",
       "      <td>Survey</td>\n",
       "      <td>6</td>\n",
       "    </tr>\n",
       "    <tr>\n",
       "      <th>72</th>\n",
       "      <td>I just got the call 000-000-0000 and they asked way to much info on credit cards so i called my company and they said no its a scam, they cant lower your interest rate so beware of this call</td>\n",
       "      <td>Unwanted</td>\n",
       "      <td>3</td>\n",
       "    </tr>\n",
       "    <tr>\n",
       "      <th>74</th>\n",
       "      <td>Just received a call from that number.  It was an electronic message and was left on my voice messaging.  It was some company saying it would lower credit card interest rates to 6.9% if I called by such-and-such date (probably the same company that \"Pet\" describes a couple of posts above in this thread.  This same message has been left on my voice messaging before, but it appeared to originate from another number.  This latest thing of showing all zeros in the number must be some way of trying to hide their phone number.</td>\n",
       "      <td>Telemarketer</td>\n",
       "      <td>1</td>\n",
       "    </tr>\n",
       "    <tr>\n",
       "      <th>75</th>\n",
       "      <td>I answered the and it happen to be (in my case) ASC Mortgage Collection Dept.</td>\n",
       "      <td>Debt collector</td>\n",
       "      <td>0</td>\n",
       "    </tr>\n",
       "    <tr>\n",
       "      <th>87</th>\n",
       "      <td>so whats the point ?   this makes about as much sense as the calls. Do we really need ten pages of the same comment?</td>\n",
       "      <td>Debt collector</td>\n",
       "      <td>0</td>\n",
       "    </tr>\n",
       "    <tr>\n",
       "      <th>94</th>\n",
       "      <td>Don't know who this is, but they call frequently.  I'm assuming it's a bill collection agency because of some unpaid bills.</td>\n",
       "      <td>Debt collector</td>\n",
       "      <td>0</td>\n",
       "    </tr>\n",
       "  </tbody>\n",
       "</table>\n",
       "</div>"
      ],
      "text/plain": [
       "                                                                                                                                                                                                                                                                                                                                                                                                                                                                                                                                                                                                                                          content  \\\n",
       "2                                                                                                                                                                                                                                                                                                                                                                                                                                   Every few days I get calls with this number showing up...I have answered it one time and it was a bill collector. I would dare say its a new way people have found to hide their true numbers...anyone agree?   \n",
       "17                                                                                                                                                                                                                                                                                                                                                                                                                                                                                        I have been getting this number on my cell phone and also on my home number as well and I do not answer it. Beware they will continue to call everyday.   \n",
       "20                                                                                                                                     My thoughts are that it is a call block deceptive something-or-other that smartipants telecommunicators have figured out to get around the DoNotCallList.  Blockbuster called me with the 000-000-0000 number but they had my name and told me I had vids that are late, which I do.  My question is why the hell doesn't blockbuster have a number listed instead of the deceptive number?  In conclusion, I think a lot of companies have purchased something that makes their number show as all zeros.   \n",
       "31  Yes, the number (000) 000-0000 is a blind number for a debt collection service.  Don't bother to answer.  If they ask you if you are \"John Smith\" it's just because they hope that you'll verify your name for them.Someone posted that her telephone number was brand new and unpublished.  I'd just like her to know that unpublishing your telephone won't stop these calls if the debt collector has a court order/judgment against her.  Debt collectors can obtain \"unpublished\" numbers with that Court Order in hand in a matter of days.  Also, someone may have given up that number to avoid the same debt collection calls.  LOL.   \n",
       "32                                                                                                                                                                                                                                                                                                                                                                                                                                                                                                                        I answered one of the calls.  It was an automated system telling me about a slightly overdue payment on my Gas account.   \n",
       "41                                                                                                                                                                                                                                                                                                                                                                                                                                                                                                                                                                Called my cell. No message. My carrier marked it as Scam Likely. CID is a joke.   \n",
       "42                                                                                                                                                                                                                                                                                                                                                                                                                                                                                                                                Called my DNC registered cell. I don’t pick up calls to my cell unless the number is in contacts. Bogus number.   \n",
       "45                                                                                                                                                                                                                                                                                                                                                                                                                                                                                                                                                                                        Phone rang about 4 times I didn't answer it, at 8:13 am   \n",
       "47                                                                                                                                                                                                                                                                                                                                                                                                                                                                                            I entered this number to Google... It comes up as a Government Scam.  I ignored the number when the call came in.  I knew there was no such number.   \n",
       "49                                                                                                                                                                                                                                                                                                                                                                                                                                                                   This caller also contacted me on 2019-02-10. Hung up.Never mind. The caller was misunderstood, judging by the caller's recent action. No further message left nor requested.   \n",
       "51                                                                                                                                                                                                                                                                                                                                                                                                                                                                                                          Received calls from this number.  I don't answer and they don't leave a message.  I finally blocked it.  I am sure it is a SPAM call.   \n",
       "53                                           I already blocked the number awhile ago, but they left me a message today.  It was \"Megan\" from the Student Loan Advisory Board about my student loans....well, really my kid's loans.  I guess I have been pre-approved for the student loan forgiveness program but I have to act fast before the programs change.  The message said to call back at 866-620-2782.  Hmmmm, why would a \"legitimate\" company need to call on a fake number, then give a real number to call them back at?  Something tells me I won't be giving them a call back nor giving them any personal information.  LOSERS!   \n",
       "55                                                                                                                                                                                                                                                                                                                                                                                                                                                                                                                                                                                                                                    No message.   \n",
       "64                                                                                                                                                                                                                                                                                                                                                                                                                                                                                                             Blockbuster calls show this number when they call me about a movie that I have not returned in time.  They always leave a message.   \n",
       "65                                                                                                                                                                                                                                                                                                   Received 4th call from this number asking for my wife.  When challenged, the caller identified herself as a polling organization for Del. Chuck Caputo from Virginia.  I replied that spoofing your caller id is a somewhat anti-social act and that we were on the \"Do Not Call\" list, she agreed to remove our number from the call chain.   \n",
       "72                                                                                                                                                                                                                                                                                                                                                                                                                                                 I just got the call 000-000-0000 and they asked way to much info on credit cards so i called my company and they said no its a scam, they cant lower your interest rate so beware of this call   \n",
       "74                                                                                                 Just received a call from that number.  It was an electronic message and was left on my voice messaging.  It was some company saying it would lower credit card interest rates to 6.9% if I called by such-and-such date (probably the same company that \"Pet\" describes a couple of posts above in this thread.  This same message has been left on my voice messaging before, but it appeared to originate from another number.  This latest thing of showing all zeros in the number must be some way of trying to hide their phone number.   \n",
       "75                                                                                                                                                                                                                                                                                                                                                                                                                                                                                                                                                                  I answered the and it happen to be (in my case) ASC Mortgage Collection Dept.   \n",
       "87                                                                                                                                                                                                                                                                                                                                                                                                                                                                                                                           so whats the point ?   this makes about as much sense as the calls. Do we really need ten pages of the same comment?   \n",
       "94                                                                                                                                                                                                                                                                                                                                                                                                                                                                                                                    Don't know who this is, but they call frequently.  I'm assuming it's a bill collection agency because of some unpaid bills.   \n",
       "\n",
       "         call_type  category_id  \n",
       "2   Debt collector            0  \n",
       "17    Telemarketer            1  \n",
       "20  Event reminder            2  \n",
       "31  Debt collector            0  \n",
       "32        Unwanted            3  \n",
       "41  Scam suspicion            4  \n",
       "42  Scam suspicion            4  \n",
       "45        Unwanted            3  \n",
       "47  Scam suspicion            4  \n",
       "49     Silent call            5  \n",
       "51  Scam suspicion            4  \n",
       "53  Scam suspicion            4  \n",
       "55  Scam suspicion            4  \n",
       "64        Unwanted            3  \n",
       "65          Survey            6  \n",
       "72        Unwanted            3  \n",
       "74    Telemarketer            1  \n",
       "75  Debt collector            0  \n",
       "87  Debt collector            0  \n",
       "94  Debt collector            0  "
      ]
     },
     "execution_count": 22,
     "metadata": {},
     "output_type": "execute_result"
    }
   ],
   "source": [
    "pd.options.display.max_colwidth = 10000\n",
    "df.head(20)"
   ]
  },
  {
   "cell_type": "code",
   "execution_count": 40,
   "metadata": {},
   "outputs": [
    {
     "name": "stdout",
     "output_type": "stream",
     "text": [
      "                         content  phone_number  datetime  caller  category_id\n",
      "call_type                                                                    \n",
      "Debt collector             20775         20775     20775   16745        20775\n",
      "Event reminder               728           728       728     631          728\n",
      "Fax                          519           519       519     325          519\n",
      "Non-profit organization     1134          1134      1134     903         1134\n",
      "Political call              1420          1420      1420     931         1420\n",
      "Prank                       2513          2513      2513    1766         2513\n",
      "Silent call                  423           423       423     197          423\n",
      "Survey                      1746          1746      1746    1176         1746\n",
      "Telemarketer               22470         22470     22470   15328        22470\n",
      "Text message                1146          1146      1146     648         1146\n"
     ]
    },
    {
     "data": {
      "image/png": "[encoded data removed]",
      "text/plain": [
       "<matplotlib.figure.Figure at 0x1d64de5cc18>"
      ]
     },
     "metadata": {},
     "output_type": "display_data"
    }
   ],
   "source": [
    "import matplotlib.pyplot as plt\n",
    "fig = plt.figure(figsize=(8,6))\n",
    "df.groupby('call_type').content.count().plot.bar(ylim=0)\n",
    "print(df.groupby('call_type').count())\n",
    "plt.show()"
   ]
  },
  {
   "cell_type": "code",
   "execution_count": 41,
   "metadata": {},
   "outputs": [
    {
     "data": {
      "text/plain": [
       "(52874, 93527)"
      ]
     },
     "execution_count": 41,
     "metadata": {},
     "output_type": "execute_result"
    }
   ],
   "source": [
    "from sklearn.feature_extraction.text import TfidfVectorizer\n",
    "\n",
    "tfidf = TfidfVectorizer(sublinear_tf=True, min_df=3, norm='l2', encoding='latin-1', ngram_range=(1, 2), stop_words='english')\n",
    "\n",
    "features = tfidf.fit_transform(df.content)\n",
    "labels = df.category_id\n",
    "features.shape"
   ]
  },
  {
   "cell_type": "code",
   "execution_count": 25,
   "metadata": {
    "scrolled": false
   },
   "outputs": [
    {
     "name": "stdout",
     "output_type": "stream",
     "text": [
      "# 'Debt collector':\n",
      "  . Most correlated unigrams:\n",
      "       . collection\n",
      "       . debt\n",
      "  . Most correlated bigrams:\n",
      "       . debt collector\n",
      "       . collection agency\n",
      "# 'Event reminder':\n",
      "  . Most correlated unigrams:\n",
      "       . amtrak\n",
      "       . appointment\n",
      "  . Most correlated bigrams:\n",
      "       . appointment tomorrow\n",
      "       . time warner\n",
      "# 'Fax':\n",
      "  . Most correlated unigrams:\n",
      "       . faxes\n",
      "       . fax\n",
      "  . Most correlated bigrams:\n",
      "       . fax number\n",
      "       . junk fax\n",
      "# 'Non-profit organization':\n",
      "  . Most correlated unigrams:\n",
      "       . cancer\n",
      "       . donations\n",
      "  . Most correlated bigrams:\n",
      "       . world vision\n",
      "       . non profit\n",
      "# 'Political call':\n",
      "  . Most correlated unigrams:\n",
      "       . vote\n",
      "       . political\n",
      "  . Most correlated bigrams:\n",
      "       . republican party\n",
      "       . political survey\n",
      "# 'Prank':\n",
      "  . Most correlated unigrams:\n",
      "       . irs\n",
      "       . prank\n",
      "  . Most correlated bigrams:\n",
      "       . irs filing\n",
      "       . jason miller\n",
      "# 'Scam suspicion':\n",
      "  . Most correlated unigrams:\n",
      "       . microsoft\n",
      "       . scam\n",
      "  . Most correlated bigrams:\n",
      "       . reference number\n",
      "       . social security\n",
      "# 'Silent call':\n",
      "  . Most correlated unigrams:\n",
      "       . silence\n",
      "       . silent\n",
      "  . Most correlated bigrams:\n",
      "       . silent hang\n",
      "       . silent robocall\n",
      "# 'Survey':\n",
      "  . Most correlated unigrams:\n",
      "       . surveys\n",
      "       . survey\n",
      "  . Most correlated bigrams:\n",
      "       . doing survey\n",
      "       . survey company\n",
      "# 'Telemarketer':\n",
      "  . Most correlated unigrams:\n",
      "       . list\n",
      "       . telemarketer\n",
      "  . Most correlated bigrams:\n",
      "       . collection agency\n",
      "       . trying sell\n",
      "# 'Text message':\n",
      "  . Most correlated unigrams:\n",
      "       . craigslist\n",
      "       . text\n",
      "  . Most correlated bigrams:\n",
      "       . text message\n",
      "       . got text\n",
      "# 'Unwanted':\n",
      "  . Most correlated unigrams:\n",
      "       . thrall\n",
      "       . ipsos\n",
      "  . Most correlated bigrams:\n",
      "       . blocked spam\n",
      "       . block spoofed\n"
     ]
    }
   ],
   "source": [
    "from sklearn.feature_selection import chi2\n",
    "import numpy as np\n",
    "\n",
    "N = 2\n",
    "for call_type, category_id in sorted(category_to_id.items()):\n",
    "  features_chi2 = chi2(features, labels == category_id)\n",
    "  indices = np.argsort(features_chi2[0])\n",
    "  feature_names = np.array(tfidf.get_feature_names())[indices]\n",
    "  unigrams = [v for v in feature_names if len(v.split(' ')) == 1]\n",
    "  bigrams = [v for v in feature_names if len(v.split(' ')) == 2]\n",
    "  print(\"# '{}':\".format(call_type))\n",
    "  print(\"  . Most correlated unigrams:\\n       . {}\".format('\\n       . '.join(unigrams[-N:])))\n",
    "  print(\"  . Most correlated bigrams:\\n       . {}\".format('\\n       . '.join(bigrams[-N:])))"
   ]
  },
  {
   "cell_type": "code",
   "execution_count": 12,
   "metadata": {},
   "outputs": [],
   "source": [
    "from sklearn.model_selection import train_test_split\n",
    "from sklearn.feature_extraction.text import CountVectorizer\n",
    "from sklearn.feature_extraction.text import TfidfTransformer\n",
    "from sklearn.naive_bayes import MultinomialNB\n",
    "\n",
    "X_train, X_test, y_train, y_test = train_test_split(df['content'], df['call_type'], random_state = 0)\n",
    "count_vect = CountVectorizer()\n",
    "X_train_counts = count_vect.fit_transform(X_train)\n",
    "tfidf_transformer = TfidfTransformer()\n",
    "X_train_tfidf = tfidf_transformer.fit_transform(X_train_counts)\n",
    "\n",
    "clf = MultinomialNB().fit(X_train_tfidf, y_train)"
   ]
  },
  {
   "cell_type": "code",
   "execution_count": 13,
   "metadata": {},
   "outputs": [
    {
     "name": "stdout",
     "output_type": "stream",
     "text": [
      "['Debt collector']\n"
     ]
    }
   ],
   "source": [
    "print(clf.predict(count_vect.transform([\"This guy tried to let me buy a call_type that I will never use\"])))"
   ]
  },
  {
   "cell_type": "code",
   "execution_count": 14,
   "metadata": {},
   "outputs": [
    {
     "name": "stdout",
     "output_type": "stream",
     "text": [
      "['Debt collector']\n"
     ]
    }
   ],
   "source": [
    "print(clf.predict(count_vect.transform([\"Why I keep receiving calls from this damn debet colletcting? I never loan anything from them!\"])))"
   ]
  },
  {
   "cell_type": "code",
   "execution_count": 15,
   "metadata": {},
   "outputs": [
    {
     "name": "stdout",
     "output_type": "stream",
     "text": [
      "['Debt collector']\n"
     ]
    }
   ],
   "source": [
    "print(clf.predict(count_vect.transform([\"They said they are from a loan company and I must return my debet to them soon\"])))"
   ]
  },
  {
   "cell_type": "code",
   "execution_count": 16,
   "metadata": {},
   "outputs": [
    {
     "name": "stdout",
     "output_type": "stream",
     "text": [
      "['Debt collector']\n"
     ]
    }
   ],
   "source": [
    "print(clf.predict(count_vect.transform([\"They said they are from a loan company and I must return my debet to them soon\"])))"
   ]
  },
  {
   "cell_type": "code",
   "execution_count": 17,
   "metadata": {},
   "outputs": [
    {
     "name": "stdout",
     "output_type": "stream",
     "text": [
      "['Debt collector']\n"
     ]
    }
   ],
   "source": [
    "print(clf.predict(count_vect.transform([\"I am disputing the inaccurate information the Chex-Systems has on my credit report. I initially submitted a police report on XXXX/XXXX/16 and Chex Systems only deleted the items that I mentioned in the letter and not all the items that were actually listed on the police report. In other words they wanted me to say word for word to them what items were fraudulent. The total disregard of the police report and what accounts that it states that are fraudulent. If they just had paid a little closer attention to the police report I would not been in this position now and they would n't have to research once again. I would like the reported information to be removed : XXXX XXXX XXXX\"])))"
   ]
  },
  {
   "cell_type": "code",
   "execution_count": 42,
   "metadata": {},
   "outputs": [],
   "source": [
    "from sklearn.linear_model import LogisticRegression\n",
    "from sklearn.ensemble import RandomForestClassifier\n",
    "from sklearn.naive_bayes import MultinomialNB\n",
    "from sklearn.svm import LinearSVC\n",
    "\n",
    "from sklearn.model_selection import cross_val_score\n",
    "\n",
    "\n",
    "models = [\n",
    "    RandomForestClassifier(n_estimators=200, max_depth=3, random_state=0),\n",
    "    LinearSVC(),\n",
    "    MultinomialNB(),\n",
    "    LogisticRegression(random_state=0),\n",
    "]\n",
    "CV = 5\n",
    "cv_df = pd.DataFrame(index=range(CV * len(models)))\n",
    "entries = []\n",
    "for model in models:\n",
    "  model_name = model.__class__.__name__\n",
    "  accuracies = cross_val_score(model, features, labels, scoring='accuracy', cv=CV)\n",
    "  for fold_idx, accuracy in enumerate(accuracies):\n",
    "    entries.append((model_name, fold_idx, accuracy))\n",
    "cv_df = pd.DataFrame(entries, columns=['model_name', 'fold_idx', 'accuracy'])"
   ]
  },
  {
   "cell_type": "code",
   "execution_count": 43,
   "metadata": {},
   "outputs": [
    {
     "data": {
      "image/png": "[encoded data removed]",
      "text/plain": [
       "<matplotlib.figure.Figure at 0x1d659855c50>"
      ]
     },
     "metadata": {},
     "output_type": "display_data"
    }
   ],
   "source": [
    "import seaborn as sns\n",
    "\n",
    "sns.boxplot(x='model_name', y='accuracy', data=cv_df)\n",
    "sns.stripplot(x='model_name', y='accuracy', data=cv_df, \n",
    "              size=8, jitter=True, edgecolor=\"gray\", linewidth=2)\n",
    "plt.show()"
   ]
  },
  {
   "cell_type": "markdown",
   "metadata": {},
   "source": [
    "### Before"
   ]
  },
  {
   "cell_type": "code",
   "execution_count": 21,
   "metadata": {},
   "outputs": [
    {
     "data": {
      "text/plain": [
       "model_name\n",
       "LinearSVC                 0.604730\n",
       "LogisticRegression        0.620847\n",
       "MultinomialNB             0.587918\n",
       "RandomForestClassifier    0.409692\n",
       "Name: accuracy, dtype: float64"
      ]
     },
     "execution_count": 21,
     "metadata": {},
     "output_type": "execute_result"
    }
   ],
   "source": [
    "cv_df.groupby('model_name').accuracy.mean()"
   ]
  },
  {
   "cell_type": "markdown",
   "metadata": {},
   "source": [
    "### After"
   ]
  },
  {
   "cell_type": "code",
   "execution_count": 29,
   "metadata": {},
   "outputs": [
    {
     "data": {
      "text/plain": [
       "model_name\n",
       "LinearSVC                 0.609624\n",
       "LogisticRegression        0.625619\n",
       "MultinomialNB             0.592459\n",
       "RandomForestClassifier    0.410626\n",
       "Name: accuracy, dtype: float64"
      ]
     },
     "execution_count": 29,
     "metadata": {},
     "output_type": "execute_result"
    }
   ],
   "source": [
    "cv_df.groupby('model_name').accuracy.mean()"
   ]
  },
  {
   "cell_type": "code",
   "execution_count": 44,
   "metadata": {},
   "outputs": [
    {
     "data": {
      "text/plain": [
       "model_name\n",
       "LinearSVC                 0.741519\n",
       "LogisticRegression        0.743447\n",
       "MultinomialNB             0.716476\n",
       "RandomForestClassifier    0.538092\n",
       "Name: accuracy, dtype: float64"
      ]
     },
     "execution_count": 44,
     "metadata": {},
     "output_type": "execute_result"
    }
   ],
   "source": [
    "cv_df.groupby('model_name').accuracy.mean()"
   ]
  },
  {
   "cell_type": "code",
   "execution_count": 49,
   "metadata": {},
   "outputs": [],
   "source": [
    "from sklearn.model_selection import train_test_split\n",
    "from sklearn.linear_model import LogisticRegression\n",
    "from sklearn.ensemble import RandomForestClassifier\n",
    "from sklearn.naive_bayes import MultinomialNB\n",
    "from sklearn.svm import LinearSVC\n",
    "\n",
    "from sklearn.model_selection import cross_val_score\n",
    "\n",
    "# model = LinearSVC()\n",
    "# model = LogisticRegression(random_state=0)\n",
    "model = MultinomialNB()\n",
    "\n",
    "X_train, X_test, y_train, y_test, indices_train, indices_test = train_test_split(features, labels, df.index, test_size=0.33, random_state=0)\n",
    "model.fit(X_train, y_train)\n",
    "y_pred = model.predict(X_test)"
   ]
  },
  {
   "cell_type": "code",
   "execution_count": 26,
   "metadata": {},
   "outputs": [
    {
     "data": {
      "image/png": "[encoded data removed]",
      "text/plain": [
       "<matplotlib.figure.Figure at 0x1519957f2e8>"
      ]
     },
     "metadata": {},
     "output_type": "display_data"
    }
   ],
   "source": [
    "from sklearn.metrics import confusion_matrix\n",
    "import seaborn as sns\n",
    "\n",
    "conf_mat = confusion_matrix(y_test, y_pred)\n",
    "fig, ax = plt.subplots(figsize=(8,6))\n",
    "sns.heatmap(conf_mat, annot=True, fmt='d',\n",
    "            xticklabels=category_id_df.call_type.values, yticklabels=category_id_df.call_type.values)\n",
    "plt.ylabel('Actual')\n",
    "plt.xlabel('Predicted')\n",
    "plt.show()"
   ]
  },
  {
   "cell_type": "code",
   "execution_count": 28,
   "metadata": {
    "scrolled": false
   },
   "outputs": [
    {
     "name": "stdout",
     "output_type": "stream",
     "text": [
      "'Telemarketer' predicted as 'Debt collector' : 747 examples.\n",
      "\n",
      "'Event reminder' predicted as 'Debt collector' : 48 examples.\n",
      "\n",
      "'Unwanted' predicted as 'Debt collector' : 173 examples.\n",
      "\n",
      "'Scam suspicion' predicted as 'Debt collector' : 1213 examples.\n",
      "\n",
      "'Silent call' predicted as 'Debt collector' : 7 examples.\n",
      "\n",
      "'Survey' predicted as 'Debt collector' : 37 examples.\n",
      "\n",
      "'Text message' predicted as 'Debt collector' : 114 examples.\n",
      "\n",
      "'Political call' predicted as 'Debt collector' : 47 examples.\n",
      "\n",
      "'Prank' predicted as 'Debt collector' : 400 examples.\n",
      "\n",
      "'Valid' predicted as 'Debt collector' : 63 examples.\n",
      "\n",
      "'Fax' predicted as 'Debt collector' : 49 examples.\n",
      "\n",
      "'Non-profit organization' predicted as 'Debt collector' : 62 examples.\n",
      "\n",
      "'Debt collector' predicted as 'Telemarketer' : 767 examples.\n",
      "\n",
      "'Event reminder' predicted as 'Telemarketer' : 177 examples.\n",
      "\n",
      "'Unwanted' predicted as 'Telemarketer' : 495 examples.\n",
      "\n",
      "'Scam suspicion' predicted as 'Telemarketer' : 1998 examples.\n",
      "\n",
      "'Silent call' predicted as 'Telemarketer' : 119 examples.\n",
      "\n",
      "'Survey' predicted as 'Telemarketer' : 483 examples.\n",
      "\n",
      "'Text message' predicted as 'Telemarketer' : 216 examples.\n",
      "\n",
      "'Political call' predicted as 'Telemarketer' : 381 examples.\n",
      "\n",
      "'Prank' predicted as 'Telemarketer' : 334 examples.\n",
      "\n",
      "'Valid' predicted as 'Telemarketer' : 107 examples.\n",
      "\n",
      "'Fax' predicted as 'Telemarketer' : 112 examples.\n",
      "\n",
      "'Non-profit organization' predicted as 'Telemarketer' : 299 examples.\n",
      "\n",
      "'Debt collector' predicted as 'Scam suspicion' : 165 examples.\n",
      "\n",
      "'Telemarketer' predicted as 'Scam suspicion' : 277 examples.\n",
      "\n",
      "'Unwanted' predicted as 'Scam suspicion' : 87 examples.\n",
      "\n",
      "'Silent call' predicted as 'Scam suspicion' : 21 examples.\n",
      "\n",
      "'Text message' predicted as 'Scam suspicion' : 51 examples.\n",
      "\n",
      "'Political call' predicted as 'Scam suspicion' : 15 examples.\n",
      "\n",
      "'Prank' predicted as 'Scam suspicion' : 89 examples.\n",
      "\n",
      "'Valid' predicted as 'Scam suspicion' : 13 examples.\n",
      "\n",
      "'Non-profit organization' predicted as 'Scam suspicion' : 9 examples.\n",
      "\n"
     ]
    }
   ],
   "source": [
    "from IPython.display import display\n",
    "\n",
    "for predicted in category_id_df.category_id:\n",
    "  for actual in category_id_df.category_id:\n",
    "    if predicted != actual and conf_mat[actual, predicted] >= 6:\n",
    "      print(\"'{}' predicted as '{}' : {} examples.\".format(id_to_category[actual], id_to_category[predicted], conf_mat[actual, predicted]))\n",
    "#       display(df.loc[indices_test[(y_test == actual) & (y_pred == predicted)]][['call_type', 'content']])\n",
    "      print('')"
   ]
  },
  {
   "cell_type": "code",
   "execution_count": 25,
   "metadata": {},
   "outputs": [
    {
     "data": {
      "text/plain": [
       "LinearSVC(C=1.0, class_weight=None, dual=True, fit_intercept=True,\n",
       "     intercept_scaling=1, loss='squared_hinge', max_iter=1000,\n",
       "     multi_class='ovr', penalty='l2', random_state=None, tol=0.0001,\n",
       "     verbose=0)"
      ]
     },
     "execution_count": 25,
     "metadata": {},
     "output_type": "execute_result"
    }
   ],
   "source": [
    "model.fit(features, labels)"
   ]
  },
  {
   "cell_type": "code",
   "execution_count": 26,
   "metadata": {
    "scrolled": false
   },
   "outputs": [
    {
     "name": "stdout",
     "output_type": "stream",
     "text": [
      "# 'Debt collector':\n",
      "  . Top unigrams:\n",
      "       . collection\n",
      "       . recovery\n",
      "  . Top bigrams:\n",
      "       . message work\n",
      "       . called job\n",
      "# 'Event reminder':\n",
      "  . Top unigrams:\n",
      "       . amtrak\n",
      "       . reminder\n",
      "  . Top bigrams:\n",
      "       . caller company\n",
      "       . got 200\n",
      "# 'Fax':\n",
      "  . Top unigrams:\n",
      "       . fax\n",
      "       . faxes\n",
      "  . Top bigrams:\n",
      "       . got fax\n",
      "       . unsolicited fax\n",
      "# 'Non-profit organization':\n",
      "  . Top unigrams:\n",
      "       . nspire\n",
      "       . society\n",
      "  . Top bigrams:\n",
      "       . disabled police\n",
      "       . hope house\n",
      "# 'Political call':\n",
      "  . Top unigrams:\n",
      "       . political\n",
      "       . vote\n",
      "  . Top bigrams:\n",
      "       . town hall\n",
      "       . said political\n",
      "# 'Prank':\n",
      "  . Top unigrams:\n",
      "       . prank\n",
      "       . pch\n",
      "  . Top bigrams:\n",
      "       . message sued\n",
      "       . computer information\n",
      "# 'Scam suspicion':\n",
      "  . Top unigrams:\n",
      "       . refund\n",
      "       . microsoft\n",
      "  . Top bigrams:\n",
      "       . don computer\n",
      "       . social security\n",
      "# 'Silent call':\n",
      "  . Top unigrams:\n",
      "       . silent\n",
      "       . silence\n",
      "  . Top bigrams:\n",
      "       . message robo\n",
      "       . hangup caller\n",
      "# 'Survey':\n",
      "  . Top unigrams:\n",
      "       . survey\n",
      "       . surveys\n",
      "  . Top bigrams:\n",
      "       . doing survey\n",
      "       . phone unwanted\n",
      "# 'Telemarketer':\n",
      "  . Top unigrams:\n",
      "       . telemarketing\n",
      "       . telemarketers\n",
      "  . Top bigrams:\n",
      "       . old old\n",
      "       . pm pdt\n",
      "# 'Text message':\n",
      "  . Top unigrams:\n",
      "       . text\n",
      "       . sms\n",
      "  . Top bigrams:\n",
      "       . account locked\n",
      "       . internet scam\n",
      "# 'Unwanted':\n",
      "  . Top unigrams:\n",
      "       . ipsos\n",
      "       . auditions\n",
      "  . Top bigrams:\n",
      "       . message nuisance\n",
      "       . general spam\n",
      "# 'Valid':\n",
      "  . Top unigrams:\n",
      "       . heritage\n",
      "       . bmw\n",
      "  . Top bigrams:\n",
      "       . change address\n",
      "       . support number\n"
     ]
    }
   ],
   "source": [
    "from sklearn.feature_selection import chi2\n",
    "\n",
    "N = 2\n",
    "for call_type, category_id in sorted(category_to_id.items()):\n",
    "  indices = np.argsort(model.coef_[category_id])\n",
    "  feature_names = np.array(tfidf.get_feature_names())[indices]\n",
    "  unigrams = [v for v in reversed(feature_names) if len(v.split(' ')) == 1][:N]\n",
    "  bigrams = [v for v in reversed(feature_names) if len(v.split(' ')) == 2][:N]\n",
    "  print(\"# '{}':\".format(call_type))\n",
    "  print(\"  . Top unigrams:\\n       . {}\".format('\\n       . '.join(unigrams)))\n",
    "  print(\"  . Top bigrams:\\n       . {}\".format('\\n       . '.join(bigrams)))"
   ]
  },
  {
   "cell_type": "code",
   "execution_count": 27,
   "metadata": {},
   "outputs": [
    {
     "name": "stdout",
     "output_type": "stream",
     "text": [
      "\"I requested a home loan modification through Bank of America. Bank of America never got back to me.\"\n",
      "  - Predicted as: 'Telemarketer'\n",
      "\n",
      "\"It has been difficult for me to find my past due balance. I missed a regular monthly payment\"\n",
      "  - Predicted as: 'Debt collector'\n",
      "\n",
      "\"I can't get the money out of the country.\"\n",
      "  - Predicted as: 'Scam suspicion'\n",
      "\n",
      "\"I have no money to pay my tuition\"\n",
      "  - Predicted as: 'Debt collector'\n",
      "\n",
      "\"Coinbase closed my account for no reason and furthermore refused to give me a reason despite dozens of request\"\n",
      "  - Predicted as: 'Debt collector'\n",
      "\n"
     ]
    }
   ],
   "source": [
    "texts = [\"I requested a home loan modification through Bank of America. Bank of America never got back to me.\",\n",
    "         \"It has been difficult for me to find my past due balance. I missed a regular monthly payment\",\n",
    "         \"I can't get the money out of the country.\",\n",
    "         \"I have no money to pay my tuition\",\n",
    "         \"Coinbase closed my account for no reason and furthermore refused to give me a reason despite dozens of request\"]\n",
    "text_features = tfidf.transform(texts)\n",
    "predictions = model.predict(text_features)\n",
    "for text, predicted in zip(texts, predictions):\n",
    "  print('\"{}\"'.format(text))\n",
    "  print(\"  - Predicted as: '{}'\".format(id_to_category[predicted]))\n",
    "  print(\"\")"
   ]
  },
  {
   "cell_type": "markdown",
   "metadata": {},
   "source": [
    "### LinearSVC"
   ]
  },
  {
   "cell_type": "code",
   "execution_count": 28,
   "metadata": {},
   "outputs": [
    {
     "name": "stdout",
     "output_type": "stream",
     "text": [
      "                         precision    recall  f1-score   support\n",
      "\n",
      "         Debt collector       0.72      0.81      0.76      6833\n",
      "           Telemarketer       0.64      0.76      0.69      7507\n",
      "         Event reminder       0.57      0.25      0.35       229\n",
      "               Unwanted       0.25      0.05      0.08       755\n",
      "         Scam suspicion       0.57      0.57      0.57      4938\n",
      "            Silent call       0.31      0.11      0.16       147\n",
      "                 Survey       0.65      0.45      0.53       527\n",
      "           Text message       0.61      0.49      0.54       381\n",
      "         Political call       0.73      0.45      0.55       443\n",
      "                  Prank       0.28      0.07      0.11       823\n",
      "                  Valid       0.43      0.05      0.10       183\n",
      "                    Fax       0.74      0.47      0.58       165\n",
      "Non-profit organization       0.50      0.24      0.33       370\n",
      "\n",
      "            avg / total       0.62      0.64      0.62     23301\n",
      "\n"
     ]
    }
   ],
   "source": [
    "from sklearn import metrics\n",
    "print(metrics.classification_report(y_test, y_pred, \n",
    "                                    target_names=df['call_type'].unique()))"
   ]
  },
  {
   "cell_type": "markdown",
   "metadata": {},
   "source": [
    "### LogisticRegression"
   ]
  },
  {
   "cell_type": "code",
   "execution_count": 22,
   "metadata": {},
   "outputs": [
    {
     "name": "stdout",
     "output_type": "stream",
     "text": [
      "                         precision    recall  f1-score   support\n",
      "\n",
      "         Debt collector       0.73      0.82      0.77      6833\n",
      "           Telemarketer       0.60      0.82      0.70      7507\n",
      "         Event reminder       0.80      0.09      0.16       229\n",
      "               Unwanted       0.60      0.00      0.01       755\n",
      "         Scam suspicion       0.60      0.56      0.58      4938\n",
      "            Silent call       0.50      0.03      0.06       147\n",
      "                 Survey       0.71      0.36      0.48       527\n",
      "           Text message       0.65      0.34      0.45       381\n",
      "         Political call       0.80      0.27      0.41       443\n",
      "                  Prank       0.36      0.01      0.03       823\n",
      "                  Valid       0.00      0.00      0.00       183\n",
      "                    Fax       0.75      0.28      0.41       165\n",
      "Non-profit organization       0.72      0.08      0.14       370\n",
      "\n",
      "            avg / total       0.64      0.65      0.61     23301\n",
      "\n"
     ]
    }
   ],
   "source": [
    "from sklearn import metrics\n",
    "print(metrics.classification_report(y_test, y_pred, \n",
    "                                    target_names=df['call_type'].unique()))"
   ]
  },
  {
   "cell_type": "markdown",
   "metadata": {},
   "source": [
    "### MultinomialNB"
   ]
  },
  {
   "cell_type": "code",
   "execution_count": 27,
   "metadata": {
    "scrolled": true
   },
   "outputs": [
    {
     "name": "stdout",
     "output_type": "stream",
     "text": [
      "                         precision    recall  f1-score   support\n",
      "\n",
      "         Debt collector       0.67      0.86      0.75      6833\n",
      "           Telemarketer       0.54      0.86      0.67      7507\n",
      "         Event reminder       0.00      0.00      0.00       229\n",
      "               Unwanted       0.00      0.00      0.00       755\n",
      "         Scam suspicion       0.70      0.35      0.47      4938\n",
      "            Silent call       0.00      0.00      0.00       147\n",
      "                 Survey       1.00      0.00      0.00       527\n",
      "           Text message       0.00      0.00      0.00       381\n",
      "         Political call       0.00      0.00      0.00       443\n",
      "                  Prank       0.00      0.00      0.00       823\n",
      "                  Valid       0.00      0.00      0.00       183\n",
      "                    Fax       0.00      0.00      0.00       165\n",
      "Non-profit organization       0.00      0.00      0.00       370\n",
      "\n",
      "            avg / total       0.54      0.61      0.53     23301\n",
      "\n"
     ]
    },
    {
     "name": "stderr",
     "output_type": "stream",
     "text": [
      "C:\\Users\\LENOVO\\Anaconda3\\lib\\site-packages\\sklearn\\metrics\\classification.py:1135: UndefinedMetricWarning: Precision and F-score are ill-defined and being set to 0.0 in labels with no predicted samples.\n",
      "  'precision', 'predicted', average, warn_for)\n"
     ]
    }
   ],
   "source": [
    "from sklearn import metrics\n",
    "print(metrics.classification_report(y_test, y_pred, \n",
    "                                    target_names=df['call_type'].unique()))"
   ]
  },
  {
   "cell_type": "markdown",
   "metadata": {},
   "source": [
    "## After removing Valid"
   ]
  },
  {
   "cell_type": "markdown",
   "metadata": {},
   "source": [
    "### LinearSVC"
   ]
  },
  {
   "cell_type": "code",
   "execution_count": 33,
   "metadata": {
    "scrolled": true
   },
   "outputs": [
    {
     "name": "stdout",
     "output_type": "stream",
     "text": [
      "                         precision    recall  f1-score   support\n",
      "\n",
      "         Debt collector       0.73      0.80      0.76      6789\n",
      "           Telemarketer       0.64      0.77      0.70      7406\n",
      "         Event reminder       0.67      0.28      0.39       254\n",
      "               Unwanted       0.27      0.05      0.08       763\n",
      "         Scam suspicion       0.58      0.58      0.58      4997\n",
      "            Silent call       0.41      0.08      0.13       157\n",
      "                 Survey       0.68      0.43      0.52       550\n",
      "           Text message       0.65      0.54      0.59       378\n",
      "         Political call       0.74      0.46      0.57       456\n",
      "                  Prank       0.33      0.08      0.13       852\n",
      "                    Fax       0.75      0.48      0.59       166\n",
      "Non-profit organization       0.51      0.23      0.32       361\n",
      "\n",
      "            avg / total       0.63      0.65      0.63     23129\n",
      "\n"
     ]
    }
   ],
   "source": [
    "from sklearn import metrics\n",
    "print(metrics.classification_report(y_test, y_pred, \n",
    "                                    target_names=df['call_type'].unique()))"
   ]
  },
  {
   "cell_type": "markdown",
   "metadata": {},
   "source": [
    "### LogisticRegression"
   ]
  },
  {
   "cell_type": "code",
   "execution_count": 31,
   "metadata": {
    "scrolled": false
   },
   "outputs": [
    {
     "name": "stdout",
     "output_type": "stream",
     "text": [
      "                         precision    recall  f1-score   support\n",
      "\n",
      "         Debt collector       0.73      0.82      0.77      6789\n",
      "           Telemarketer       0.60      0.83      0.70      7406\n",
      "         Event reminder       0.76      0.06      0.12       254\n",
      "               Unwanted       0.33      0.00      0.01       763\n",
      "         Scam suspicion       0.61      0.56      0.58      4997\n",
      "            Silent call       0.75      0.02      0.04       157\n",
      "                 Survey       0.74      0.34      0.47       550\n",
      "           Text message       0.66      0.35      0.46       378\n",
      "         Political call       0.76      0.27      0.40       456\n",
      "                  Prank       0.55      0.02      0.04       852\n",
      "                    Fax       0.78      0.30      0.43       166\n",
      "Non-profit organization       0.59      0.07      0.13       361\n",
      "\n",
      "            avg / total       0.64      0.65      0.61     23129\n",
      "\n"
     ]
    }
   ],
   "source": [
    "from sklearn import metrics\n",
    "print(metrics.classification_report(y_test, y_pred, \n",
    "                                    target_names=df['call_type'].unique()))\n"
   ]
  },
  {
   "cell_type": "markdown",
   "metadata": {},
   "source": [
    "### MultinomialNB"
   ]
  },
  {
   "cell_type": "code",
   "execution_count": 35,
   "metadata": {
    "scrolled": true
   },
   "outputs": [
    {
     "name": "stdout",
     "output_type": "stream",
     "text": [
      "                         precision    recall  f1-score   support\n",
      "\n",
      "         Debt collector       0.68      0.87      0.76      6789\n",
      "           Telemarketer       0.55      0.88      0.67      7406\n",
      "         Event reminder       0.00      0.00      0.00       254\n",
      "               Unwanted       0.00      0.00      0.00       763\n",
      "         Scam suspicion       0.74      0.37      0.49      4997\n",
      "            Silent call       0.00      0.00      0.00       157\n",
      "                 Survey       0.00      0.00      0.00       550\n",
      "           Text message       0.00      0.00      0.00       378\n",
      "         Political call       0.00      0.00      0.00       456\n",
      "                  Prank       0.00      0.00      0.00       852\n",
      "                    Fax       0.00      0.00      0.00       166\n",
      "Non-profit organization       0.00      0.00      0.00       361\n",
      "\n",
      "            avg / total       0.53      0.62      0.55     23129\n",
      "\n"
     ]
    },
    {
     "name": "stderr",
     "output_type": "stream",
     "text": [
      "C:\\Users\\LENOVO\\Anaconda3\\lib\\site-packages\\sklearn\\metrics\\classification.py:1135: UndefinedMetricWarning: Precision and F-score are ill-defined and being set to 0.0 in labels with no predicted samples.\n",
      "  'precision', 'predicted', average, warn_for)\n"
     ]
    }
   ],
   "source": [
    "from sklearn import metrics\n",
    "print(metrics.classification_report(y_test, y_pred, \n",
    "                                    target_names=df['call_type'].unique()))"
   ]
  },
  {
   "cell_type": "code",
   "execution_count": null,
   "metadata": {},
   "outputs": [],
   "source": [
    "### LinearSVC"
   ]
  },
  {
   "cell_type": "code",
   "execution_count": 46,
   "metadata": {
    "scrolled": false
   },
   "outputs": [
    {
     "name": "stdout",
     "output_type": "stream",
     "text": [
      "                         precision    recall  f1-score   support\n",
      "\n",
      "         Debt collector       0.82      0.86      0.84      6938\n",
      "           Telemarketer       0.74      0.87      0.80      7322\n",
      "         Event reminder       0.71      0.26      0.38       230\n",
      "            Silent call       0.61      0.14      0.23       162\n",
      "                 Survey       0.74      0.44      0.55       576\n",
      "           Text message       0.79      0.54      0.64       373\n",
      "         Political call       0.76      0.44      0.56       453\n",
      "                  Prank       0.36      0.12      0.18       828\n",
      "                    Fax       0.82      0.57      0.67       175\n",
      "Non-profit organization       0.63      0.26      0.37       392\n",
      "\n",
      "            avg / total       0.75      0.77      0.75     17449\n",
      "\n"
     ]
    }
   ],
   "source": [
    "from sklearn import metrics\n",
    "print(metrics.classification_report(y_test, y_pred, \n",
    "                                    target_names=df['call_type'].unique()))"
   ]
  },
  {
   "cell_type": "code",
   "execution_count": null,
   "metadata": {},
   "outputs": [],
   "source": [
    "### LogisticRegression"
   ]
  },
  {
   "cell_type": "code",
   "execution_count": 48,
   "metadata": {
    "scrolled": false
   },
   "outputs": [
    {
     "name": "stdout",
     "output_type": "stream",
     "text": [
      "                         precision    recall  f1-score   support\n",
      "\n",
      "         Debt collector       0.82      0.86      0.84      6938\n",
      "           Telemarketer       0.71      0.91      0.79      7322\n",
      "         Event reminder       0.94      0.07      0.12       230\n",
      "            Silent call       0.89      0.05      0.09       162\n",
      "                 Survey       0.76      0.35      0.48       576\n",
      "           Text message       0.83      0.39      0.53       373\n",
      "         Political call       0.76      0.27      0.40       453\n",
      "                  Prank       0.47      0.03      0.06       828\n",
      "                    Fax       0.88      0.30      0.44       175\n",
      "Non-profit organization       0.76      0.07      0.13       392\n",
      "\n",
      "            avg / total       0.75      0.76      0.72     17449\n",
      "\n"
     ]
    }
   ],
   "source": [
    "from sklearn import metrics\n",
    "print(metrics.classification_report(y_test, y_pred, \n",
    "                                    target_names=df['call_type'].unique()))"
   ]
  },
  {
   "cell_type": "code",
   "execution_count": 2,
   "metadata": {},
   "outputs": [],
   "source": [
    "### MultinomialNB"
   ]
  },
  {
   "cell_type": "code",
   "execution_count": 50,
   "metadata": {
    "scrolled": false
   },
   "outputs": [
    {
     "name": "stdout",
     "output_type": "stream",
     "text": [
      "                         precision    recall  f1-score   support\n",
      "\n",
      "         Debt collector       0.80      0.87      0.84      6938\n",
      "           Telemarketer       0.67      0.91      0.77      7322\n",
      "         Event reminder       0.00      0.00      0.00       230\n",
      "            Silent call       0.00      0.00      0.00       162\n",
      "                 Survey       1.00      0.01      0.01       576\n",
      "           Text message       0.00      0.00      0.00       373\n",
      "         Political call       1.00      0.00      0.01       453\n",
      "                  Prank       0.00      0.00      0.00       828\n",
      "                    Fax       0.00      0.00      0.00       175\n",
      "Non-profit organization       1.00      0.00      0.01       392\n",
      "\n",
      "            avg / total       0.68      0.73      0.66     17449\n",
      "\n"
     ]
    },
    {
     "name": "stderr",
     "output_type": "stream",
     "text": [
      "C:\\Users\\LENOVO\\Anaconda3\\lib\\site-packages\\sklearn\\metrics\\classification.py:1135: UndefinedMetricWarning: Precision and F-score are ill-defined and being set to 0.0 in labels with no predicted samples.\n",
      "  'precision', 'predicted', average, warn_for)\n"
     ]
    }
   ],
   "source": [
    "from sklearn import metrics\n",
    "print(metrics.classification_report(y_test, y_pred, \n",
    "                                    target_names=df['call_type'].unique()))"
   ]
  }
 ],
 "metadata": {
  "kernelspec": {
   "display_name": "Python 3",
   "language": "python",
   "name": "python3"
  },
  "language_info": {
   "codemirror_mode": {
    "name": "ipython",
    "version": 3
   },
   "file_extension": ".py",
   "mimetype": "text/x-python",
   "name": "python",
   "nbconvert_exporter": "python",
   "pygments_lexer": "ipython3",
   "version": "3.6.4"
  }
 },
 "nbformat": 4,
 "nbformat_minor": 2
}
