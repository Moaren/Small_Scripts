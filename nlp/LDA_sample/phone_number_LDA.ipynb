{
 "cells": [
  {
   "cell_type": "code",
   "execution_count": 1,
   "metadata": {},
   "outputs": [],
   "source": [
    "import pandas as pd\n",
    "\n",
    "data = pd.read_csv('comments.csv', error_bad_lines=False);\n",
    "data_text = data[['content']]\n",
    "data_text = data_text[data_text.content.notnull()]\n",
    "data_text['index'] = data_text.index\n",
    "documents = data_text"
   ]
  },
  {
   "cell_type": "code",
   "execution_count": 2,
   "metadata": {},
   "outputs": [
    {
     "data": {
      "text/plain": [
       "246525"
      ]
     },
     "execution_count": 2,
     "metadata": {},
     "output_type": "execute_result"
    }
   ],
   "source": [
    "len(documents)"
   ]
  },
  {
   "cell_type": "code",
   "execution_count": 3,
   "metadata": {},
   "outputs": [
    {
     "data": {
      "text/html": [
       "<div>\n",
       "<style scoped>\n",
       "    .dataframe tbody tr th:only-of-type {\n",
       "        vertical-align: middle;\n",
       "    }\n",
       "\n",
       "    .dataframe tbody tr th {\n",
       "        vertical-align: top;\n",
       "    }\n",
       "\n",
       "    .dataframe thead th {\n",
       "        text-align: right;\n",
       "    }\n",
       "</style>\n",
       "<table border=\"1\" class=\"dataframe\">\n",
       "  <thead>\n",
       "    <tr style=\"text-align: right;\">\n",
       "      <th></th>\n",
       "      <th>content</th>\n",
       "      <th>index</th>\n",
       "    </tr>\n",
       "  </thead>\n",
       "  <tbody>\n",
       "    <tr>\n",
       "      <th>0</th>\n",
       "      <td>I recently activated my home phone, so no one ...</td>\n",
       "      <td>0</td>\n",
       "    </tr>\n",
       "    <tr>\n",
       "      <th>1</th>\n",
       "      <td>My caller ID shows this number when I am late ...</td>\n",
       "      <td>1</td>\n",
       "    </tr>\n",
       "    <tr>\n",
       "      <th>2</th>\n",
       "      <td>Every few days I get calls with this number sh...</td>\n",
       "      <td>2</td>\n",
       "    </tr>\n",
       "    <tr>\n",
       "      <th>3</th>\n",
       "      <td>I had this one on my caller ID awhile back.  L...</td>\n",
       "      <td>3</td>\n",
       "    </tr>\n",
       "    <tr>\n",
       "      <th>4</th>\n",
       "      <td>I get four or five calls from this number almo...</td>\n",
       "      <td>4</td>\n",
       "    </tr>\n",
       "  </tbody>\n",
       "</table>\n",
       "</div>"
      ],
      "text/plain": [
       "                                             content  index\n",
       "0  I recently activated my home phone, so no one ...      0\n",
       "1  My caller ID shows this number when I am late ...      1\n",
       "2  Every few days I get calls with this number sh...      2\n",
       "3  I had this one on my caller ID awhile back.  L...      3\n",
       "4  I get four or five calls from this number almo...      4"
      ]
     },
     "execution_count": 3,
     "metadata": {},
     "output_type": "execute_result"
    }
   ],
   "source": [
    "documents[:5]"
   ]
  },
  {
   "cell_type": "markdown",
   "metadata": {},
   "source": [
    "### Data Preprocessing"
   ]
  },
  {
   "cell_type": "code",
   "execution_count": 4,
   "metadata": {},
   "outputs": [],
   "source": [
    "import gensim\n",
    "from gensim.utils import simple_preprocess\n",
    "from gensim.parsing.preprocessing import STOPWORDS\n",
    "from nltk.stem import WordNetLemmatizer, SnowballStemmer\n",
    "from nltk.stem.porter import *\n",
    "import numpy as np\n",
    "np.random.seed(2018)"
   ]
  },
  {
   "cell_type": "code",
   "execution_count": 5,
   "metadata": {},
   "outputs": [
    {
     "name": "stderr",
     "output_type": "stream",
     "text": [
      "[nltk_data] Downloading package wordnet to\n",
      "[nltk_data]     C:\\Users\\wang_cheng\\AppData\\Roaming\\nltk_data...\n",
      "[nltk_data]   Package wordnet is already up-to-date!\n"
     ]
    },
    {
     "data": {
      "text/plain": [
       "True"
      ]
     },
     "execution_count": 5,
     "metadata": {},
     "output_type": "execute_result"
    }
   ],
   "source": [
    "import nltk\n",
    "nltk.download('wordnet')"
   ]
  },
  {
   "cell_type": "markdown",
   "metadata": {},
   "source": [
    "#### Lemmatize example"
   ]
  },
  {
   "cell_type": "code",
   "execution_count": 6,
   "metadata": {},
   "outputs": [
    {
     "name": "stdout",
     "output_type": "stream",
     "text": [
      "go\n"
     ]
    }
   ],
   "source": [
    "print(WordNetLemmatizer().lemmatize('went', pos='v'))"
   ]
  },
  {
   "cell_type": "markdown",
   "metadata": {},
   "source": [
    "#### Stemmer Example"
   ]
  },
  {
   "cell_type": "code",
   "execution_count": 7,
   "metadata": {},
   "outputs": [
    {
     "data": {
      "text/html": [
       "<div>\n",
       "<style scoped>\n",
       "    .dataframe tbody tr th:only-of-type {\n",
       "        vertical-align: middle;\n",
       "    }\n",
       "\n",
       "    .dataframe tbody tr th {\n",
       "        vertical-align: top;\n",
       "    }\n",
       "\n",
       "    .dataframe thead th {\n",
       "        text-align: right;\n",
       "    }\n",
       "</style>\n",
       "<table border=\"1\" class=\"dataframe\">\n",
       "  <thead>\n",
       "    <tr style=\"text-align: right;\">\n",
       "      <th></th>\n",
       "      <th>original word</th>\n",
       "      <th>stemmed</th>\n",
       "    </tr>\n",
       "  </thead>\n",
       "  <tbody>\n",
       "    <tr>\n",
       "      <th>0</th>\n",
       "      <td>caresses</td>\n",
       "      <td>caress</td>\n",
       "    </tr>\n",
       "    <tr>\n",
       "      <th>1</th>\n",
       "      <td>flies</td>\n",
       "      <td>fli</td>\n",
       "    </tr>\n",
       "    <tr>\n",
       "      <th>2</th>\n",
       "      <td>dies</td>\n",
       "      <td>die</td>\n",
       "    </tr>\n",
       "    <tr>\n",
       "      <th>3</th>\n",
       "      <td>mules</td>\n",
       "      <td>mule</td>\n",
       "    </tr>\n",
       "    <tr>\n",
       "      <th>4</th>\n",
       "      <td>denied</td>\n",
       "      <td>deni</td>\n",
       "    </tr>\n",
       "    <tr>\n",
       "      <th>5</th>\n",
       "      <td>died</td>\n",
       "      <td>die</td>\n",
       "    </tr>\n",
       "    <tr>\n",
       "      <th>6</th>\n",
       "      <td>agreed</td>\n",
       "      <td>agre</td>\n",
       "    </tr>\n",
       "    <tr>\n",
       "      <th>7</th>\n",
       "      <td>owned</td>\n",
       "      <td>own</td>\n",
       "    </tr>\n",
       "    <tr>\n",
       "      <th>8</th>\n",
       "      <td>humbled</td>\n",
       "      <td>humbl</td>\n",
       "    </tr>\n",
       "    <tr>\n",
       "      <th>9</th>\n",
       "      <td>sized</td>\n",
       "      <td>size</td>\n",
       "    </tr>\n",
       "    <tr>\n",
       "      <th>10</th>\n",
       "      <td>meeting</td>\n",
       "      <td>meet</td>\n",
       "    </tr>\n",
       "    <tr>\n",
       "      <th>11</th>\n",
       "      <td>stating</td>\n",
       "      <td>state</td>\n",
       "    </tr>\n",
       "    <tr>\n",
       "      <th>12</th>\n",
       "      <td>siezing</td>\n",
       "      <td>siez</td>\n",
       "    </tr>\n",
       "    <tr>\n",
       "      <th>13</th>\n",
       "      <td>itemization</td>\n",
       "      <td>item</td>\n",
       "    </tr>\n",
       "    <tr>\n",
       "      <th>14</th>\n",
       "      <td>sensational</td>\n",
       "      <td>sensat</td>\n",
       "    </tr>\n",
       "    <tr>\n",
       "      <th>15</th>\n",
       "      <td>traditional</td>\n",
       "      <td>tradit</td>\n",
       "    </tr>\n",
       "    <tr>\n",
       "      <th>16</th>\n",
       "      <td>reference</td>\n",
       "      <td>refer</td>\n",
       "    </tr>\n",
       "    <tr>\n",
       "      <th>17</th>\n",
       "      <td>colonizer</td>\n",
       "      <td>colon</td>\n",
       "    </tr>\n",
       "    <tr>\n",
       "      <th>18</th>\n",
       "      <td>plotted</td>\n",
       "      <td>plot</td>\n",
       "    </tr>\n",
       "  </tbody>\n",
       "</table>\n",
       "</div>"
      ],
      "text/plain": [
       "   original word stemmed\n",
       "0       caresses  caress\n",
       "1          flies     fli\n",
       "2           dies     die\n",
       "3          mules    mule\n",
       "4         denied    deni\n",
       "5           died     die\n",
       "6         agreed    agre\n",
       "7          owned     own\n",
       "8        humbled   humbl\n",
       "9          sized    size\n",
       "10       meeting    meet\n",
       "11       stating   state\n",
       "12       siezing    siez\n",
       "13   itemization    item\n",
       "14   sensational  sensat\n",
       "15   traditional  tradit\n",
       "16     reference   refer\n",
       "17     colonizer   colon\n",
       "18       plotted    plot"
      ]
     },
     "execution_count": 7,
     "metadata": {},
     "output_type": "execute_result"
    }
   ],
   "source": [
    "stemmer = SnowballStemmer('english')\n",
    "original_words = ['caresses', 'flies', 'dies', 'mules', 'denied','died', 'agreed', 'owned', \n",
    "           'humbled', 'sized','meeting', 'stating', 'siezing', 'itemization','sensational', \n",
    "           'traditional', 'reference', 'colonizer','plotted']\n",
    "singles = [stemmer.stem(plural) for plural in original_words]\n",
    "pd.DataFrame(data = {'original word': original_words, 'stemmed': singles})"
   ]
  },
  {
   "cell_type": "code",
   "execution_count": 8,
   "metadata": {},
   "outputs": [],
   "source": [
    "def lemmatize_stemming(text):\n",
    "    return stemmer.stem(WordNetLemmatizer().lemmatize(text, pos='v'))\n",
    "\n",
    "def preprocess(text):\n",
    "    result = []\n",
    "    for token in gensim.utils.simple_preprocess(text):\n",
    "        if token not in gensim.parsing.preprocessing.STOPWORDS and len(token) > 3:\n",
    "            result.append(lemmatize_stemming(token))\n",
    "    return result"
   ]
  },
  {
   "cell_type": "code",
   "execution_count": 9,
   "metadata": {},
   "outputs": [
    {
     "name": "stdout",
     "output_type": "stream",
     "text": [
      "original document: \n",
      "['Said', 'he', 'was', 'from', 'Craig', 'Research', 'a', 'survey', 'firm.', 'Asked', 'if', 'I', 'had', 'a', 'few', 'minutes', 'for', 'a', 'survey?I', 'asked', 'less', 'than', '5', 'minutes?', 'He', 'said', 'no', '7', 'mins,', 'I', 'hung', 'up.']\n",
      "\n",
      "\n",
      " tokenized and lemmatized document: \n",
      "['say', 'craig', 'research', 'survey', 'firm', 'ask', 'minut', 'survey', 'ask', 'minut', 'say', 'min', 'hang']\n"
     ]
    }
   ],
   "source": [
    "doc_sample = documents[documents['index'] == 4310].values[0][0]\n",
    "\n",
    "print('original document: ')\n",
    "words = []\n",
    "for word in doc_sample.split(' '):\n",
    "    words.append(word)\n",
    "print(words)\n",
    "print('\\n\\n tokenized and lemmatized document: ')\n",
    "print(preprocess(doc_sample))"
   ]
  },
  {
   "cell_type": "code",
   "execution_count": 10,
   "metadata": {},
   "outputs": [
    {
     "name": "stdout",
     "output_type": "stream",
     "text": [
      "original document: \n",
      "['who', 'is', 'this', 'number', 'belong', 'too?', 'I', 'thought', 'blockbuster', 'was', 'all', \"9's...\"]\n",
      "\n",
      "\n",
      " tokenized and lemmatized document: \n",
      "['number', 'belong', 'think', 'blockbust']\n"
     ]
    }
   ],
   "source": [
    "doc_sample = documents[documents['index'] == 6].values[0][0]\n",
    "\n",
    "print('original document: ')\n",
    "words = []\n",
    "for word in doc_sample.split(' '):\n",
    "    words.append(word)\n",
    "print(words)\n",
    "print('\\n\\n tokenized and lemmatized document: ')\n",
    "print(preprocess(doc_sample))"
   ]
  },
  {
   "cell_type": "code",
   "execution_count": 11,
   "metadata": {},
   "outputs": [],
   "source": [
    "processed_docs = documents['content'].map(preprocess)"
   ]
  },
  {
   "cell_type": "code",
   "execution_count": 12,
   "metadata": {},
   "outputs": [
    {
     "data": {
      "text/plain": [
       "0    [recent, activ, home, phone, know, phone, comp...\n",
       "1    [caller, show, number, late, return, movi, blo...\n",
       "2    [day, call, number, show, answer, time, collec...\n",
       "3    [caller, awhil, year, montel, william, address...\n",
       "4    [call, number, blocker, work, number, caller, ...\n",
       "5    [reicev, today, leav, messag, htink, larg, tel...\n",
       "6                   [number, belong, think, blockbust]\n",
       "7    [get, call, caller, tri, answer, twice, record...\n",
       "8    [feel, number, concoct, telemarket, kind, voip...\n",
       "9    [caller, say, cruis, websit, site, show, emb, ...\n",
       "Name: content, dtype: object"
      ]
     },
     "execution_count": 12,
     "metadata": {},
     "output_type": "execute_result"
    }
   ],
   "source": [
    "processed_docs[:10]"
   ]
  },
  {
   "cell_type": "markdown",
   "metadata": {},
   "source": [
    "### Bag of words on the dataset"
   ]
  },
  {
   "cell_type": "code",
   "execution_count": 13,
   "metadata": {},
   "outputs": [],
   "source": [
    "dictionary = gensim.corpora.Dictionary(processed_docs)"
   ]
  },
  {
   "cell_type": "code",
   "execution_count": 14,
   "metadata": {},
   "outputs": [
    {
     "name": "stdout",
     "output_type": "stream",
     "text": [
      "0 activ\n",
      "1 angri\n",
      "2 answer\n",
      "3 apolog\n",
      "4 ask\n",
      "5 call\n",
      "6 caller\n",
      "7 collect\n",
      "8 compani\n",
      "9 decid\n",
      "10 final\n"
     ]
    }
   ],
   "source": [
    "count = 0\n",
    "for k, v in dictionary.iteritems():\n",
    "    print(k, v)\n",
    "    count += 1\n",
    "    if count > 10:\n",
    "        break"
   ]
  },
  {
   "cell_type": "code",
   "execution_count": 15,
   "metadata": {},
   "outputs": [],
   "source": [
    "dictionary.filter_extremes(no_below=15, no_above=0.5, keep_n=100000)"
   ]
  },
  {
   "cell_type": "code",
   "execution_count": 16,
   "metadata": {},
   "outputs": [
    {
     "data": {
      "text/plain": [
       "[(4, 2),\n",
       " (12, 1),\n",
       " (17, 2),\n",
       " (25, 1),\n",
       " (26, 2),\n",
       " (401, 2),\n",
       " (721, 1),\n",
       " (1813, 1),\n",
       " (2785, 1)]"
      ]
     },
     "execution_count": 16,
     "metadata": {},
     "output_type": "execute_result"
    }
   ],
   "source": [
    "bow_corpus = [dictionary.doc2bow(doc) for doc in processed_docs]\n",
    "bow_corpus[4310]"
   ]
  },
  {
   "cell_type": "code",
   "execution_count": 17,
   "metadata": {},
   "outputs": [
    {
     "name": "stdout",
     "output_type": "stream",
     "text": [
      "Word 4 (\"ask\") appears 2 time.\n",
      "Word 12 (\"hang\") appears 1 time.\n",
      "Word 17 (\"minut\") appears 2 time.\n",
      "Word 25 (\"research\") appears 1 time.\n",
      "Word 26 (\"say\") appears 2 time.\n",
      "Word 401 (\"survey\") appears 2 time.\n",
      "Word 721 (\"min\") appears 1 time.\n",
      "Word 1813 (\"firm\") appears 1 time.\n",
      "Word 2785 (\"craig\") appears 1 time.\n"
     ]
    }
   ],
   "source": [
    "bow_doc_4310 = bow_corpus[4310]\n",
    "\n",
    "for i in range(len(bow_doc_4310)):\n",
    "    print(\"Word {} (\\\"{}\\\") appears {} time.\".format(bow_doc_4310[i][0], \n",
    "                                                     dictionary[bow_doc_4310[i][0]], \n",
    "                                                     bow_doc_4310[i][1]))"
   ]
  },
  {
   "cell_type": "markdown",
   "metadata": {},
   "source": [
    "### TF-IDF"
   ]
  },
  {
   "cell_type": "code",
   "execution_count": 18,
   "metadata": {},
   "outputs": [],
   "source": [
    "from gensim import corpora, models\n",
    "\n",
    "tfidf = models.TfidfModel(bow_corpus)"
   ]
  },
  {
   "cell_type": "code",
   "execution_count": 19,
   "metadata": {},
   "outputs": [],
   "source": [
    "corpus_tfidf = tfidf[bow_corpus]"
   ]
  },
  {
   "cell_type": "code",
   "execution_count": 20,
   "metadata": {},
   "outputs": [
    {
     "name": "stdout",
     "output_type": "stream",
     "text": [
      "[(0, 0.21131193524613445),\n",
      " (1, 0.282624169336468),\n",
      " (2, 0.0851622615053595),\n",
      " (3, 0.2912945639852048),\n",
      " (4, 0.11146579609742409),\n",
      " (5, 0.03467520908867233),\n",
      " (6, 0.10995840839913462),\n",
      " (7, 0.1408288056193443),\n",
      " (8, 0.2144532810352479),\n",
      " (9, 0.2309991525013733),\n",
      " (10, 0.1892040237592669),\n",
      " (11, 0.2711831996185862),\n",
      " (12, 0.10037069738361608),\n",
      " (13, 0.15399584469591843),\n",
      " (14, 0.10041381603150235),\n",
      " (15, 0.11551451474702014),\n",
      " (16, 0.19249810113412646),\n",
      " (17, 0.1787413029940316),\n",
      " (18, 0.0452858046298924),\n",
      " (19, 0.2770897592752591),\n",
      " (20, 0.22851786375536318),\n",
      " (21, 0.16150087467865076),\n",
      " (22, 0.2493310058636861),\n",
      " (23, 0.21633132459052803),\n",
      " (24, 0.17220339988773378),\n",
      " (25, 0.21961606161059294),\n",
      " (26, 0.07667442988017567),\n",
      " (27, 0.13787689891206767),\n",
      " (28, 0.160268526121491),\n",
      " (29, 0.09136950515864309)]\n"
     ]
    }
   ],
   "source": [
    "from pprint import pprint\n",
    "\n",
    "for doc in corpus_tfidf:\n",
    "    pprint(doc)\n",
    "    break"
   ]
  },
  {
   "cell_type": "markdown",
   "metadata": {},
   "source": [
    "### Running LDA using Bag of Words"
   ]
  },
  {
   "cell_type": "code",
   "execution_count": 21,
   "metadata": {},
   "outputs": [],
   "source": [
    "lda_model = gensim.models.LdaMulticore(bow_corpus, num_topics=10, id2word=dictionary, passes=2, workers=2)"
   ]
  },
  {
   "cell_type": "code",
   "execution_count": 22,
   "metadata": {},
   "outputs": [
    {
     "name": "stdout",
     "output_type": "stream",
     "text": [
      "Topic: 0 \n",
      "Words: 0.032*\"number\" + 0.024*\"scam\" + 0.023*\"state\" + 0.021*\"receiv\" + 0.021*\"say\" + 0.020*\"legal\" + 0.019*\"call\" + 0.016*\"case\" + 0.016*\"offic\" + 0.016*\"file\"\n",
      "Topic: 1 \n",
      "Words: 0.056*\"card\" + 0.043*\"credit\" + 0.038*\"account\" + 0.036*\"bank\" + 0.032*\"scam\" + 0.026*\"number\" + 0.021*\"charg\" + 0.021*\"check\" + 0.018*\"money\" + 0.016*\"send\"\n",
      "Topic: 2 \n",
      "Words: 0.152*\"number\" + 0.091*\"call\" + 0.070*\"phone\" + 0.051*\"list\" + 0.027*\"cell\" + 0.019*\"remov\" + 0.017*\"receiv\" + 0.015*\"answer\" + 0.013*\"line\" + 0.013*\"area\"\n",
      "Topic: 3 \n",
      "Words: 0.134*\"call\" + 0.101*\"messag\" + 0.077*\"leav\" + 0.065*\"number\" + 0.061*\"answer\" + 0.043*\"time\" + 0.026*\"phone\" + 0.024*\"hang\" + 0.017*\"stop\" + 0.016*\"caller\"\n",
      "Topic: 4 \n",
      "Words: 0.068*\"scam\" + 0.047*\"scammer\" + 0.046*\"block\" + 0.039*\"caller\" + 0.038*\"number\" + 0.022*\"post\" + 0.020*\"thank\" + 0.017*\"spam\" + 0.012*\"warranti\" + 0.011*\"telemarket\"\n",
      "Topic: 5 \n",
      "Words: 0.071*\"debt\" + 0.039*\"collect\" + 0.026*\"collector\" + 0.017*\"inform\" + 0.016*\"agenc\" + 0.015*\"state\" + 0.014*\"contact\" + 0.013*\"consum\" + 0.012*\"letter\" + 0.012*\"attorney\"\n",
      "Topic: 6 \n",
      "Words: 0.033*\"peopl\" + 0.016*\"compani\" + 0.015*\"like\" + 0.015*\"time\" + 0.014*\"call\" + 0.013*\"know\" + 0.011*\"good\" + 0.011*\"think\" + 0.011*\"work\" + 0.009*\"money\"\n",
      "Topic: 7 \n",
      "Words: 0.062*\"call\" + 0.057*\"say\" + 0.053*\"tell\" + 0.037*\"ask\" + 0.023*\"number\" + 0.019*\"hang\" + 0.017*\"know\" + 0.016*\"compani\" + 0.016*\"person\" + 0.016*\"loan\"\n",
      "Topic: 8 \n",
      "Words: 0.054*\"phone\" + 0.052*\"note\" + 0.050*\"https\" + 0.046*\"http\" + 0.045*\"complaint\" + 0.037*\"aspx\" + 0.021*\"file\" + 0.017*\"report\" + 0.013*\"state\" + 0.011*\"busi\"\n",
      "Topic: 9 \n",
      "Words: 0.020*\"say\" + 0.019*\"servic\" + 0.018*\"compani\" + 0.012*\"inform\" + 0.010*\"scam\" + 0.010*\"like\" + 0.010*\"sound\" + 0.009*\"number\" + 0.009*\"ask\" + 0.009*\"secur\"\n"
     ]
    }
   ],
   "source": [
    "for idx, topic in lda_model.print_topics(-1):\n",
    "    print('Topic: {} \\nWords: {}'.format(idx, topic))"
   ]
  },
  {
   "cell_type": "markdown",
   "metadata": {},
   "source": [
    "Cool! Can you distinguish different topics using the words in each topic and their corresponding weights?"
   ]
  },
  {
   "cell_type": "markdown",
   "metadata": {},
   "source": [
    "### Running LDA using TF-IDF"
   ]
  },
  {
   "cell_type": "code",
   "execution_count": 30,
   "metadata": {},
   "outputs": [],
   "source": [
    "lda_model_tfidf = gensim.models.LdaMulticore(corpus_tfidf, num_topics=5, id2word=dictionary, passes=2, workers=4)"
   ]
  },
  {
   "cell_type": "code",
   "execution_count": 24,
   "metadata": {},
   "outputs": [
    {
     "name": "stdout",
     "output_type": "stream",
     "text": [
      "Topic: 0 Word: 0.028*\"scam\" + 0.017*\"say\" + 0.012*\"number\" + 0.010*\"call\" + 0.010*\"legal\" + 0.009*\"tell\" + 0.009*\"arrest\" + 0.008*\"threaten\" + 0.008*\"state\" + 0.008*\"need\"\n",
      "Topic: 1 Word: 0.015*\"card\" + 0.015*\"thank\" + 0.011*\"post\" + 0.010*\"number\" + 0.008*\"credit\" + 0.008*\"info\" + 0.007*\"scam\" + 0.007*\"phone\" + 0.007*\"charg\" + 0.006*\"note\"\n",
      "Topic: 2 Word: 0.026*\"miss\" + 0.022*\"idea\" + 0.013*\"number\" + 0.011*\"survey\" + 0.011*\"call\" + 0.008*\"own\" + 0.008*\"say\" + 0.008*\"yesterday\" + 0.008*\"cellphon\" + 0.007*\"phone\"\n",
      "Topic: 3 Word: 0.023*\"list\" + 0.017*\"number\" + 0.014*\"remov\" + 0.014*\"call\" + 0.012*\"area\" + 0.011*\"student\" + 0.009*\"phone\" + 0.009*\"code\" + 0.009*\"loan\" + 0.009*\"press\"\n",
      "Topic: 4 Word: 0.016*\"hang\" + 0.015*\"ask\" + 0.015*\"call\" + 0.014*\"say\" + 0.012*\"tell\" + 0.012*\"time\" + 0.012*\"number\" + 0.012*\"line\" + 0.011*\"answer\" + 0.010*\"speak\"\n",
      "Topic: 5 Word: 0.019*\"debt\" + 0.013*\"collect\" + 0.009*\"compani\" + 0.008*\"loan\" + 0.008*\"collector\" + 0.008*\"complaint\" + 0.007*\"state\" + 0.007*\"inform\" + 0.007*\"agenc\" + 0.007*\"say\"\n",
      "Topic: 6 Word: 0.088*\"messag\" + 0.081*\"leav\" + 0.058*\"call\" + 0.053*\"answer\" + 0.042*\"number\" + 0.030*\"block\" + 0.029*\"time\" + 0.027*\"cell\" + 0.026*\"phone\" + 0.025*\"hang\"\n",
      "Topic: 7 Word: 0.012*\"insur\" + 0.009*\"say\" + 0.009*\"call\" + 0.009*\"number\" + 0.008*\"health\" + 0.008*\"happen\" + 0.007*\"sell\" + 0.007*\"compani\" + 0.007*\"tri\" + 0.007*\"scam\"\n",
      "Topic: 8 Word: 0.011*\"microsoft\" + 0.010*\"scammer\" + 0.009*\"unwant\" + 0.009*\"scam\" + 0.007*\"number\" + 0.006*\"account\" + 0.006*\"say\" + 0.006*\"call\" + 0.005*\"tell\" + 0.005*\"phone\"\n",
      "Topic: 9 Word: 0.012*\"thing\" + 0.012*\"free\" + 0.012*\"mobil\" + 0.011*\"toll\" + 0.011*\"money\" + 0.011*\"number\" + 0.010*\"call\" + 0.010*\"reciev\" + 0.009*\"say\" + 0.008*\"scam\"\n"
     ]
    }
   ],
   "source": [
    "for idx, topic in lda_model_tfidf.print_topics(-1):\n",
    "    print('Topic: {} Word: {}'.format(idx, topic))"
   ]
  },
  {
   "cell_type": "markdown",
   "metadata": {},
   "source": [
    "### Classification of the topics"
   ]
  },
  {
   "cell_type": "markdown",
   "metadata": {},
   "source": [
    "### Performance evaluation by classifying sample document using LDA Bag of Words model"
   ]
  },
  {
   "cell_type": "code",
   "execution_count": 25,
   "metadata": {},
   "outputs": [
    {
     "data": {
      "text/plain": [
       "['say',\n",
       " 'craig',\n",
       " 'research',\n",
       " 'survey',\n",
       " 'firm',\n",
       " 'ask',\n",
       " 'minut',\n",
       " 'survey',\n",
       " 'ask',\n",
       " 'minut',\n",
       " 'say',\n",
       " 'min',\n",
       " 'hang']"
      ]
     },
     "execution_count": 25,
     "metadata": {},
     "output_type": "execute_result"
    }
   ],
   "source": [
    "processed_docs[4310]"
   ]
  },
  {
   "cell_type": "code",
   "execution_count": 26,
   "metadata": {},
   "outputs": [
    {
     "name": "stdout",
     "output_type": "stream",
     "text": [
      "\n",
      "Score: 0.6128204464912415\t \n",
      "Topic: 0.062*\"call\" + 0.057*\"say\" + 0.053*\"tell\" + 0.037*\"ask\" + 0.023*\"number\" + 0.019*\"hang\" + 0.017*\"know\" + 0.016*\"compani\" + 0.016*\"person\" + 0.016*\"loan\"\n",
      "\n",
      "Score: 0.330017626285553\t \n",
      "Topic: 0.033*\"peopl\" + 0.016*\"compani\" + 0.015*\"like\" + 0.015*\"time\" + 0.014*\"call\" + 0.013*\"know\" + 0.011*\"good\" + 0.011*\"think\" + 0.011*\"work\" + 0.009*\"money\"\n"
     ]
    }
   ],
   "source": [
    "for index, score in sorted(lda_model[bow_corpus[4310]], key=lambda tup: -1*tup[1]):\n",
    "    print(\"\\nScore: {}\\t \\nTopic: {}\".format(score, lda_model.print_topic(index, 10)))"
   ]
  },
  {
   "cell_type": "markdown",
   "metadata": {},
   "source": [
    "Our test document has the highest probability to be part of the topic on the top."
   ]
  },
  {
   "cell_type": "markdown",
   "metadata": {},
   "source": [
    "### Performance evaluation by classifying sample document using LDA TF-IDF model"
   ]
  },
  {
   "cell_type": "code",
   "execution_count": 27,
   "metadata": {},
   "outputs": [
    {
     "name": "stdout",
     "output_type": "stream",
     "text": [
      "\n",
      "Score: 0.3718178868293762\t \n",
      "Topic: 0.026*\"miss\" + 0.022*\"idea\" + 0.013*\"number\" + 0.011*\"survey\" + 0.011*\"call\" + 0.008*\"own\" + 0.008*\"say\" + 0.008*\"yesterday\" + 0.008*\"cellphon\" + 0.007*\"phone\"\n",
      "\n",
      "Score: 0.35344061255455017\t \n",
      "Topic: 0.028*\"scam\" + 0.017*\"say\" + 0.012*\"number\" + 0.010*\"call\" + 0.010*\"legal\" + 0.009*\"tell\" + 0.009*\"arrest\" + 0.008*\"threaten\" + 0.008*\"state\" + 0.008*\"need\"\n",
      "\n",
      "Score: 0.22472018003463745\t \n",
      "Topic: 0.016*\"hang\" + 0.015*\"ask\" + 0.015*\"call\" + 0.014*\"say\" + 0.012*\"tell\" + 0.012*\"time\" + 0.012*\"number\" + 0.012*\"line\" + 0.011*\"answer\" + 0.010*\"speak\"\n"
     ]
    }
   ],
   "source": [
    "for index, score in sorted(lda_model_tfidf[bow_corpus[4310]], key=lambda tup: -1*tup[1]):\n",
    "    print(\"\\nScore: {}\\t \\nTopic: {}\".format(score, lda_model_tfidf.print_topic(index, 10)))"
   ]
  },
  {
   "cell_type": "markdown",
   "metadata": {},
   "source": [
    "Our test document has the highest probability to be part of the topic on the top."
   ]
  },
  {
   "cell_type": "markdown",
   "metadata": {},
   "source": [
    "### Testing model on unseen document"
   ]
  },
  {
   "cell_type": "code",
   "execution_count": 28,
   "metadata": {},
   "outputs": [
    {
     "name": "stdout",
     "output_type": "stream",
     "text": [
      "Score: 0.4552925229072571\t Topic: 0.134*\"call\" + 0.101*\"messag\" + 0.077*\"leav\" + 0.065*\"number\" + 0.061*\"answer\"\n",
      "Score: 0.38465967774391174\t Topic: 0.062*\"call\" + 0.057*\"say\" + 0.053*\"tell\" + 0.037*\"ask\" + 0.023*\"number\"\n",
      "Score: 0.02000923454761505\t Topic: 0.033*\"peopl\" + 0.016*\"compani\" + 0.015*\"like\" + 0.015*\"time\" + 0.014*\"call\"\n",
      "Score: 0.02000768855214119\t Topic: 0.152*\"number\" + 0.091*\"call\" + 0.070*\"phone\" + 0.051*\"list\" + 0.027*\"cell\"\n",
      "Score: 0.02000747248530388\t Topic: 0.032*\"number\" + 0.024*\"scam\" + 0.023*\"state\" + 0.021*\"receiv\" + 0.021*\"say\"\n",
      "Score: 0.02000642940402031\t Topic: 0.056*\"card\" + 0.043*\"credit\" + 0.038*\"account\" + 0.036*\"bank\" + 0.032*\"scam\"\n",
      "Score: 0.02000550366938114\t Topic: 0.071*\"debt\" + 0.039*\"collect\" + 0.026*\"collector\" + 0.017*\"inform\" + 0.016*\"agenc\"\n",
      "Score: 0.020004402846097946\t Topic: 0.020*\"say\" + 0.019*\"servic\" + 0.018*\"compani\" + 0.012*\"inform\" + 0.010*\"scam\"\n",
      "Score: 0.020003557205200195\t Topic: 0.068*\"scam\" + 0.047*\"scammer\" + 0.046*\"block\" + 0.039*\"caller\" + 0.038*\"number\"\n",
      "Score: 0.02000347338616848\t Topic: 0.054*\"phone\" + 0.052*\"note\" + 0.050*\"https\" + 0.046*\"http\" + 0.045*\"complaint\"\n"
     ]
    }
   ],
   "source": [
    "unseen_document = \"Why I keep receiving calls from this damn debet colletcting? I never loan anything from them!\"\n",
    "bow_vector = dictionary.doc2bow(preprocess(unseen_document))\n",
    "\n",
    "for index, score in sorted(lda_model[bow_vector], key=lambda tup: -1*tup[1]):\n",
    "    print(\"Score: {}\\t Topic: {}\".format(score, lda_model.print_topic(index, 5)))"
   ]
  },
  {
   "cell_type": "code",
   "execution_count": 29,
   "metadata": {},
   "outputs": [
    {
     "name": "stdout",
     "output_type": "stream",
     "text": [
      "Score: 0.3768397867679596\t Topic: 0.020*\"say\" + 0.019*\"servic\" + 0.018*\"compani\" + 0.012*\"inform\" + 0.010*\"scam\" + 0.010*\"like\" + 0.010*\"sound\" + 0.009*\"number\" + 0.009*\"ask\" + 0.009*\"secur\"\n",
      "Score: 0.3205316662788391\t Topic: 0.062*\"call\" + 0.057*\"say\" + 0.053*\"tell\" + 0.037*\"ask\" + 0.023*\"number\" + 0.019*\"hang\" + 0.017*\"know\" + 0.016*\"compani\" + 0.016*\"person\" + 0.016*\"loan\"\n",
      "Score: 0.26144108176231384\t Topic: 0.033*\"peopl\" + 0.016*\"compani\" + 0.015*\"like\" + 0.015*\"time\" + 0.014*\"call\" + 0.013*\"know\" + 0.011*\"good\" + 0.011*\"think\" + 0.011*\"work\" + 0.009*\"money\"\n"
     ]
    }
   ],
   "source": [
    "unseen_document = \"I am a Canadian living in Canada and they were trying to tell me that this was a once in a life time chance for me a Canadian citizen to get money from the U.S. government. I asked so many questions that they finally just got mad and hung up on me.\"\n",
    "bow_vector = dictionary.doc2bow(preprocess(unseen_document))\n",
    "\n",
    "for index, score in sorted(lda_model[bow_vector], key=lambda tup: -1*tup[1]):\n",
    "    print(\"Score: {}\\t Topic: {}\".format(score, lda_model.print_topic(index, 10)))"
   ]
  },
  {
   "cell_type": "code",
   "execution_count": null,
   "metadata": {},
   "outputs": [],
   "source": []
  },
  {
   "cell_type": "code",
   "execution_count": null,
   "metadata": {},
   "outputs": [],
   "source": []
  },
  {
   "cell_type": "code",
   "execution_count": null,
   "metadata": {},
   "outputs": [],
   "source": []
  },
  {
   "cell_type": "code",
   "execution_count": null,
   "metadata": {},
   "outputs": [],
   "source": []
  }
 ],
 "metadata": {
  "kernelspec": {
   "display_name": "Python 3",
   "language": "python",
   "name": "python3"
  },
  "language_info": {
   "codemirror_mode": {
    "name": "ipython",
    "version": 3
   },
   "file_extension": ".py",
   "mimetype": "text/x-python",
   "name": "python",
   "nbconvert_exporter": "python",
   "pygments_lexer": "ipython3",
   "version": "3.7.3"
  }
 },
 "nbformat": 4,
 "nbformat_minor": 2
}
