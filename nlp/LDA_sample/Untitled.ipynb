{
 "cells": [
  {
   "cell_type": "code",
   "execution_count": 1,
   "metadata": {},
   "outputs": [],
   "source": [
    "import pandas as pd\n",
    "from nltk.stem import WordNetLemmatizer, SnowballStemmer\n",
    "\n",
    "data = pd.read_csv('abcnews-date-text.csv', error_bad_lines=False);\n",
    "data_text = data[['headline_text']]\n",
    "data_text['index'] = data_text.index\n",
    "documents = data_text"
   ]
  },
  {
   "cell_type": "code",
   "execution_count": 2,
   "metadata": {
    "scrolled": true
   },
   "outputs": [
    {
     "name": "stdout",
     "output_type": "stream",
     "text": [
      "1103663\n",
      "                                       headline_text  index\n",
      "0  aba decides against community broadcasting lic...      0\n",
      "1     act fire witnesses must be aware of defamation      1\n",
      "2     a g calls for infrastructure protection summit      2\n",
      "3           air nz staff in aust strike for pay rise      3\n",
      "4      air nz strike to affect australian travellers      4\n"
     ]
    }
   ],
   "source": [
    "print(len(documents))\n",
    "print(documents[:5])"
   ]
  },
  {
   "cell_type": "markdown",
   "metadata": {},
   "source": [
    "# How to do the preprocess\n",
    "- Tokenization: Split the text into sentences and the sentences into words. Lowercase the words and remove punctuation.\n",
    "- Lemmatized: words in third person are changed to first person and verbs in past and future tenses are changed into present.\n",
    "- Stemmed: words are reduced to their root form."
   ]
  },
  {
   "cell_type": "code",
   "execution_count": 3,
   "metadata": {},
   "outputs": [
    {
     "name": "stderr",
     "output_type": "stream",
     "text": [
      "[nltk_data] Downloading package wordnet to\n",
      "[nltk_data]     C:\\Users\\wang_cheng\\AppData\\Roaming\\nltk_data...\n",
      "[nltk_data]   Package wordnet is already up-to-date!\n"
     ]
    },
    {
     "data": {
      "text/plain": [
       "True"
      ]
     },
     "execution_count": 3,
     "metadata": {},
     "output_type": "execute_result"
    }
   ],
   "source": [
    "import gensim\n",
    "from gensim.utils import simple_preprocess\n",
    "from gensim.parsing.preprocessing import STOPWORDS\n",
    "from nltk.stem import WordNetLemmatizer, SnowballStemmer\n",
    "from nltk.stem.porter import *\n",
    "import numpy as np\n",
    "np.random.seed(2018)\n",
    "\n",
    "import nltk\n",
    "nltk.download('wordnet')"
   ]
  },
  {
   "cell_type": "code",
   "execution_count": 9,
   "metadata": {},
   "outputs": [],
   "source": [
    "stemmer = SnowballStemmer('english')\n",
    "def lemmatize_stemming(text):\n",
    "    return stemmer.stem(WordNetLemmatizer().lemmatize(text, pos = 'v'))\n",
    "\n",
    "def preprocess(text):\n",
    "    result = []\n",
    "    for token in gensim.utils.simple_preprocess(text):\n",
    "        if token not in gensim.parsing.preprocessing.STOPWORDS and len(token) > 3:\n",
    "            result.append(lemmatize_stemming(token))\n",
    "    return result"
   ]
  },
  {
   "cell_type": "code",
   "execution_count": 10,
   "metadata": {},
   "outputs": [
    {
     "name": "stdout",
     "output_type": "stream",
     "text": [
      "original documents: \n",
      "['rain', 'helps', 'dampen', 'bushfires']\n",
      "\n",
      "\n",
      " tokenized and lemmatized document: \n",
      "['rain', 'help', 'dampen', 'bushfir']\n"
     ]
    }
   ],
   "source": [
    "doc_sample = documents[documents['index'] == 4310].values[0][0]\n",
    "\n",
    "print(\"original documents: \")\n",
    "words = []\n",
    "for word in doc_sample.split(\" \"):\n",
    "    words.append(word)\n",
    "print(words)\n",
    "print('\\n\\n tokenized and lemmatized document: ')\n",
    "print(preprocess(doc_sample))"
   ]
  },
  {
   "cell_type": "code",
   "execution_count": null,
   "metadata": {},
   "outputs": [],
   "source": [
    "processed_docs = documents['headline_text'].map(preprocess)\n",
    "processed_docs[:10]"
   ]
  },
  {
   "cell_type": "markdown",
   "metadata": {},
   "source": [
    "## Find out the frequency of how many times a certain word has occured"
   ]
  },
  {
   "cell_type": "code",
   "execution_count": 13,
   "metadata": {},
   "outputs": [
    {
     "name": "stdout",
     "output_type": "stream",
     "text": [
      "<class 'gensim.corpora.dictionary.Dictionary'>\n",
      "0 broadcast\n",
      "1 communiti\n",
      "2 decid\n",
      "3 licenc\n",
      "4 awar\n",
      "5 defam\n",
      "6 wit\n",
      "7 call\n",
      "8 infrastructur\n",
      "9 protect\n",
      "10 summit\n"
     ]
    }
   ],
   "source": [
    "dictionary = gensim.corpora.Dictionary(processed_docs)\n",
    "# How to convert genism data frame to dict\n",
    "print(type(dictionary))\n",
    "\n",
    "count = 0\n",
    "for k,v in dictionary.iteritems():\n",
    "    print(k,v)\n",
    "    count += 1\n",
    "    if count > 10:\n",
    "        break"
   ]
  },
  {
   "cell_type": "code",
   "execution_count": 15,
   "metadata": {},
   "outputs": [],
   "source": [
    "dictionary.filter_extremes(no_below = 15, no_above = 0.5,keep_n = 100000)"
   ]
  },
  {
   "cell_type": "code",
   "execution_count": 16,
   "metadata": {},
   "outputs": [
    {
     "data": {
      "text/plain": [
       "[(76, 1), (112, 1), (483, 1), (4014, 1)]"
      ]
     },
     "execution_count": 16,
     "metadata": {},
     "output_type": "execute_result"
    }
   ],
   "source": [
    "bow_corpus = [dictionary.doc2bow(doc) for doc in processed_docs]\n",
    "bow_corpus[4310]\n",
    "# Result: (9,2) represents that the word with index 9 occurs 2 times in the documens"
   ]
  },
  {
   "cell_type": "code",
   "execution_count": 19,
   "metadata": {},
   "outputs": [
    {
     "name": "stdout",
     "output_type": "stream",
     "text": [
      "Word 76 (\"bushfir\") appears 1 times.\n",
      "Word 112 (\"help\") appears 1 times.\n",
      "Word 483 (\"rain\") appears 1 times.\n",
      "Word 4014 (\"dampen\") appears 1 times.\n"
     ]
    }
   ],
   "source": [
    "bow_doc_4310 = bow_corpus[4310]\n",
    "\n",
    "for i in range(len(bow_doc_4310)):\n",
    "    print(\"Word {} (\\\"{}\\\") appears {} times.\".format(bow_doc_4310[i][0],\n",
    "                                                     dictionary[bow_doc_4310[i][0]],\n",
    "                                                               bow_doc_4310[i][1]))"
   ]
  },
  {
   "cell_type": "code",
   "execution_count": 24,
   "metadata": {},
   "outputs": [
    {
     "name": "stdout",
     "output_type": "stream",
     "text": [
      "[(0, 0.5892908867507543),\n",
      " (1, 0.38929654337861147),\n",
      " (2, 0.4964985175717023),\n",
      " (3, 0.5046520327464028)]\n"
     ]
    }
   ],
   "source": [
    "from gensim import corpora,models\n",
    "\n",
    "tfidf = models.TfidfModel(bow_corpus)\n",
    "corpus_tfidf = tfidf[bow_corpus]\n",
    "\n",
    "from pprint import pprint\n",
    "for doc in corpus_tfidf:\n",
    "    pprint(doc)\n",
    "    break"
   ]
  },
  {
   "cell_type": "markdown",
   "metadata": {},
   "source": [
    "## Running LDA using Bag of Words\n"
   ]
  },
  {
   "cell_type": "code",
   "execution_count": 30,
   "metadata": {},
   "outputs": [],
   "source": [
    "lda_model = gensim.models.LdaMulticore(bow_corpus,num_topics = 10,\n",
    "                                      id2word = dictionary,\n",
    "                                      passes = 2,\n",
    "                                      workers = 2)"
   ]
  },
  {
   "cell_type": "code",
   "execution_count": 32,
   "metadata": {},
   "outputs": [
    {
     "name": "stdout",
     "output_type": "stream",
     "text": [
      "Topic: 0 \n",
      "Words: 0.044*\"polic\" + 0.026*\"charg\" + 0.025*\"court\" + 0.019*\"murder\" + 0.017*\"death\" + 0.014*\"alleg\" + 0.014*\"interview\" + 0.013*\"jail\" + 0.013*\"miss\" + 0.013*\"woman\"\n",
      "Topic: 1 \n",
      "Words: 0.038*\"elect\" + 0.018*\"break\" + 0.015*\"guilti\" + 0.013*\"john\" + 0.012*\"rule\" + 0.011*\"hill\" + 0.011*\"marriag\" + 0.011*\"river\" + 0.011*\"rise\" + 0.010*\"speak\"\n",
      "Topic: 2 \n",
      "Words: 0.026*\"south\" + 0.025*\"australian\" + 0.020*\"countri\" + 0.017*\"donald\" + 0.016*\"world\" + 0.012*\"say\" + 0.012*\"show\" + 0.012*\"forc\" + 0.011*\"attack\" + 0.010*\"korea\"\n",
      "Topic: 3 \n",
      "Words: 0.023*\"kill\" + 0.019*\"test\" + 0.019*\"die\" + 0.019*\"women\" + 0.016*\"hour\" + 0.016*\"dead\" + 0.015*\"high\" + 0.015*\"turnbul\" + 0.014*\"price\" + 0.014*\"crash\"\n",
      "Topic: 4 \n",
      "Words: 0.027*\"adelaid\" + 0.022*\"market\" + 0.018*\"tasmania\" + 0.017*\"power\" + 0.016*\"time\" + 0.016*\"share\" + 0.013*\"busi\" + 0.013*\"week\" + 0.012*\"farm\" + 0.012*\"game\"\n",
      "Topic: 5 \n",
      "Words: 0.058*\"australia\" + 0.029*\"queensland\" + 0.026*\"say\" + 0.020*\"warn\" + 0.013*\"deal\" + 0.013*\"china\" + 0.011*\"talk\" + 0.010*\"campaign\" + 0.010*\"minist\" + 0.009*\"presid\"\n",
      "Topic: 6 \n",
      "Words: 0.025*\"nation\" + 0.023*\"canberra\" + 0.019*\"rural\" + 0.014*\"farmer\" + 0.013*\"flood\" + 0.013*\"park\" + 0.013*\"bank\" + 0.012*\"help\" + 0.011*\"push\" + 0.010*\"premier\"\n",
      "Topic: 7 \n",
      "Words: 0.025*\"coast\" + 0.025*\"school\" + 0.017*\"water\" + 0.017*\"state\" + 0.016*\"gold\" + 0.014*\"support\" + 0.014*\"tasmanian\" + 0.012*\"royal\" + 0.012*\"senat\" + 0.011*\"liber\"\n",
      "Topic: 8 \n",
      "Words: 0.028*\"govern\" + 0.021*\"plan\" + 0.016*\"council\" + 0.015*\"live\" + 0.015*\"fund\" + 0.013*\"chang\" + 0.012*\"indigen\" + 0.011*\"communiti\" + 0.010*\"feder\" + 0.010*\"say\"\n",
      "Topic: 9 \n",
      "Words: 0.031*\"trump\" + 0.030*\"year\" + 0.018*\"open\" + 0.015*\"final\" + 0.012*\"peopl\" + 0.012*\"australian\" + 0.011*\"leagu\" + 0.011*\"win\" + 0.011*\"take\" + 0.010*\"return\"\n"
     ]
    }
   ],
   "source": [
    "for idx,topic in lda_model.print_topics(-1):\n",
    "    print('Topic: {} \\nWords: {}'.format(idx,topic))"
   ]
  },
  {
   "cell_type": "markdown",
   "metadata": {},
   "source": [
    "## Running LDA using TF-IDF"
   ]
  },
  {
   "cell_type": "code",
   "execution_count": 43,
   "metadata": {},
   "outputs": [
    {
     "name": "stdout",
     "output_type": "stream",
     "text": [
      "Topic: 0 Word: 0.015*\"rural\" + 0.013*\"news\" + 0.012*\"elect\" + 0.009*\"nation\" + 0.009*\"turnbul\" + 0.008*\"labor\" + 0.007*\"polit\" + 0.007*\"govern\" + 0.006*\"busi\" + 0.006*\"john\"\n",
      "Topic: 1 Word: 0.011*\"world\" + 0.011*\"australia\" + 0.007*\"win\" + 0.007*\"korea\" + 0.006*\"australian\" + 0.006*\"south\" + 0.006*\"august\" + 0.006*\"cricket\" + 0.005*\"smith\" + 0.005*\"intern\"\n",
      "Topic: 2 Word: 0.020*\"trump\" + 0.013*\"kill\" + 0.012*\"crash\" + 0.010*\"dead\" + 0.007*\"die\" + 0.007*\"juli\" + 0.006*\"marriag\" + 0.006*\"attack\" + 0.005*\"syria\" + 0.005*\"islam\"\n",
      "Topic: 3 Word: 0.008*\"rugbi\" + 0.008*\"octob\" + 0.008*\"asylum\" + 0.007*\"leagu\" + 0.007*\"seeker\" + 0.006*\"scott\" + 0.006*\"wrap\" + 0.006*\"obama\" + 0.006*\"histori\" + 0.005*\"round\"\n",
      "Topic: 4 Word: 0.011*\"hill\" + 0.010*\"grandstand\" + 0.008*\"celebr\" + 0.007*\"final\" + 0.006*\"zealand\" + 0.006*\"april\" + 0.006*\"grand\" + 0.006*\"capit\" + 0.006*\"tree\" + 0.006*\"great\"\n",
      "Topic: 5 Word: 0.023*\"countri\" + 0.021*\"hour\" + 0.011*\"podcast\" + 0.010*\"govern\" + 0.008*\"royal\" + 0.008*\"sport\" + 0.007*\"commiss\" + 0.007*\"liber\" + 0.007*\"christma\" + 0.006*\"novemb\"\n",
      "Topic: 6 Word: 0.013*\"donald\" + 0.013*\"search\" + 0.012*\"miss\" + 0.010*\"plead\" + 0.009*\"victorian\" + 0.009*\"violenc\" + 0.009*\"guilti\" + 0.009*\"septemb\" + 0.008*\"wednesday\" + 0.008*\"domest\"\n",
      "Topic: 7 Word: 0.009*\"health\" + 0.007*\"fund\" + 0.007*\"council\" + 0.006*\"budget\" + 0.006*\"plan\" + 0.006*\"servic\" + 0.005*\"coal\" + 0.005*\"energi\" + 0.005*\"cut\" + 0.005*\"mental\"\n",
      "Topic: 8 Word: 0.018*\"charg\" + 0.015*\"interview\" + 0.015*\"polic\" + 0.015*\"murder\" + 0.012*\"court\" + 0.011*\"jail\" + 0.010*\"alleg\" + 0.009*\"drum\" + 0.009*\"woman\" + 0.009*\"death\"\n",
      "Topic: 9 Word: 0.010*\"weather\" + 0.009*\"coast\" + 0.008*\"queensland\" + 0.008*\"flood\" + 0.007*\"north\" + 0.007*\"storm\" + 0.007*\"bushfir\" + 0.006*\"rain\" + 0.006*\"season\" + 0.006*\"west\"\n"
     ]
    }
   ],
   "source": [
    "# lda_model_tfidf = gensim.models.LdaMulticore(corpus_tfidf, num_topics = 10,\n",
    "#                                             id2word = dictionary, \n",
    "#                                              passes = 2, \n",
    "#                                              workers = 4)\n",
    "# for idx, topic in lda_model_tfidf.print_topics(-1):\n",
    "#     print(\"Topic: {} Word: {}\".format(idx, topic))\n",
    "    \n",
    "lda_model_tfidf = gensim.models.LdaMulticore(corpus_tfidf, num_topics=10, id2word=dictionary, passes=2, workers=4)\n",
    "for idx, topic in lda_model_tfidf.print_topics(-1):\n",
    "    print('Topic: {} Word: {}'.format(idx, topic))"
   ]
  },
  {
   "cell_type": "code",
   "execution_count": 35,
   "metadata": {},
   "outputs": [
    {
     "data": {
      "text/plain": [
       "['rain', 'help', 'dampen', 'bushfir']"
      ]
     },
     "execution_count": 35,
     "metadata": {},
     "output_type": "execute_result"
    }
   ],
   "source": [
    "processed_docs[4310]"
   ]
  },
  {
   "cell_type": "code",
   "execution_count": 36,
   "metadata": {},
   "outputs": [
    {
     "name": "stdout",
     "output_type": "stream",
     "text": [
      "\n",
      "Score: 0.42036205530166626\t \n",
      "Topic: 0.007*\"flood\" + 0.007*\"bushfir\" + 0.007*\"octob\" + 0.006*\"wednesday\" + 0.006*\"central\" + 0.006*\"health\" + 0.005*\"cyclon\" + 0.005*\"mental\" + 0.005*\"victoria\" + 0.005*\"care\"\n",
      "\n",
      "Score: 0.2201773226261139\t \n",
      "Topic: 0.011*\"turnbul\" + 0.010*\"govern\" + 0.008*\"live\" + 0.007*\"light\" + 0.006*\"pacif\" + 0.006*\"thursday\" + 0.006*\"malcolm\" + 0.006*\"decemb\" + 0.005*\"islam\" + 0.005*\"state\"\n",
      "\n",
      "Score: 0.219331756234169\t \n",
      "Topic: 0.007*\"say\" + 0.007*\"abus\" + 0.007*\"marriag\" + 0.007*\"commiss\" + 0.006*\"royal\" + 0.006*\"juli\" + 0.006*\"mother\" + 0.006*\"novemb\" + 0.006*\"korea\" + 0.006*\"sexual\"\n",
      "\n",
      "Score: 0.02001936174929142\t \n",
      "Topic: 0.013*\"drum\" + 0.007*\"tuesday\" + 0.007*\"august\" + 0.007*\"shark\" + 0.007*\"abbott\" + 0.006*\"kill\" + 0.006*\"updat\" + 0.005*\"suicid\" + 0.005*\"footag\" + 0.005*\"rememb\"\n",
      "\n",
      "Score: 0.02001914568245411\t \n",
      "Topic: 0.011*\"final\" + 0.010*\"interview\" + 0.009*\"world\" + 0.008*\"australia\" + 0.007*\"leagu\" + 0.007*\"open\" + 0.006*\"hobart\" + 0.006*\"beat\" + 0.006*\"friday\" + 0.006*\"asylum\"\n",
      "\n",
      "Score: 0.0200180746614933\t \n",
      "Topic: 0.020*\"rural\" + 0.019*\"countri\" + 0.018*\"hour\" + 0.012*\"news\" + 0.011*\"market\" + 0.009*\"podcast\" + 0.008*\"share\" + 0.007*\"busi\" + 0.006*\"nation\" + 0.006*\"street\"\n",
      "\n",
      "Score: 0.0200180746614933\t \n",
      "Topic: 0.012*\"weather\" + 0.012*\"donald\" + 0.010*\"sport\" + 0.010*\"grandstand\" + 0.008*\"david\" + 0.008*\"rugbi\" + 0.007*\"liber\" + 0.007*\"coal\" + 0.006*\"toni\" + 0.006*\"super\"\n",
      "\n",
      "Score: 0.0200180746614933\t \n",
      "Topic: 0.017*\"charg\" + 0.017*\"polic\" + 0.016*\"trump\" + 0.015*\"murder\" + 0.013*\"crash\" + 0.013*\"woman\" + 0.012*\"court\" + 0.011*\"death\" + 0.010*\"jail\" + 0.009*\"shoot\"\n",
      "\n",
      "Score: 0.0200180746614933\t \n",
      "Topic: 0.011*\"hill\" + 0.009*\"christma\" + 0.009*\"plead\" + 0.009*\"michael\" + 0.007*\"june\" + 0.007*\"queensland\" + 0.006*\"zealand\" + 0.006*\"hunter\" + 0.006*\"break\" + 0.006*\"capit\"\n",
      "\n",
      "Score: 0.0200180746614933\t \n",
      "Topic: 0.009*\"violenc\" + 0.008*\"farm\" + 0.007*\"climat\" + 0.007*\"monday\" + 0.006*\"dairi\" + 0.006*\"domest\" + 0.006*\"cattl\" + 0.006*\"chang\" + 0.005*\"rat\" + 0.005*\"east\"\n"
     ]
    }
   ],
   "source": [
    "for index,score in sorted(lda_model[bow_corpus[4310]], key = lambda tup: -1*tup[1]):\n",
    "    print('\\nScore: {}\\t \\nTopic: {}'.format(score, lda_model_tfidf.print_topic(index,10)))\n"
   ]
  },
  {
   "cell_type": "code",
   "execution_count": 39,
   "metadata": {},
   "outputs": [
    {
     "name": "stdout",
     "output_type": "stream",
     "text": [
      "<class 'list'>\n",
      "[(76, 1), (112, 1), (483, 1), (4014, 1)]\n",
      "\n",
      "Score: 0.6064276099205017\t \n",
      "Topic: 0.007*\"flood\" + 0.007*\"bushfir\" + 0.007*\"octob\" + 0.006*\"wednesday\" + 0.006*\"central\" + 0.006*\"health\" + 0.005*\"cyclon\" + 0.005*\"mental\" + 0.005*\"victoria\" + 0.005*\"care\"\n",
      "\n",
      "Score: 0.2334822118282318\t \n",
      "Topic: 0.007*\"say\" + 0.007*\"abus\" + 0.007*\"marriag\" + 0.007*\"commiss\" + 0.006*\"royal\" + 0.006*\"juli\" + 0.006*\"mother\" + 0.006*\"novemb\" + 0.006*\"korea\" + 0.006*\"sexual\"\n",
      "\n",
      "Score: 0.020012089982628822\t \n",
      "Topic: 0.020*\"rural\" + 0.019*\"countri\" + 0.018*\"hour\" + 0.012*\"news\" + 0.011*\"market\" + 0.009*\"podcast\" + 0.008*\"share\" + 0.007*\"busi\" + 0.006*\"nation\" + 0.006*\"street\"\n",
      "\n",
      "Score: 0.020011555403470993\t \n",
      "Topic: 0.011*\"turnbul\" + 0.010*\"govern\" + 0.008*\"live\" + 0.007*\"light\" + 0.006*\"pacif\" + 0.006*\"thursday\" + 0.006*\"malcolm\" + 0.006*\"decemb\" + 0.005*\"islam\" + 0.005*\"state\"\n",
      "\n",
      "Score: 0.020011531189084053\t \n",
      "Topic: 0.009*\"violenc\" + 0.008*\"farm\" + 0.007*\"climat\" + 0.007*\"monday\" + 0.006*\"dairi\" + 0.006*\"domest\" + 0.006*\"cattl\" + 0.006*\"chang\" + 0.005*\"rat\" + 0.005*\"east\"\n",
      "\n",
      "Score: 0.02001130022108555\t \n",
      "Topic: 0.011*\"hill\" + 0.009*\"christma\" + 0.009*\"plead\" + 0.009*\"michael\" + 0.007*\"june\" + 0.007*\"queensland\" + 0.006*\"zealand\" + 0.006*\"hunter\" + 0.006*\"break\" + 0.006*\"capit\"\n",
      "\n",
      "Score: 0.02001120336353779\t \n",
      "Topic: 0.017*\"charg\" + 0.017*\"polic\" + 0.016*\"trump\" + 0.015*\"murder\" + 0.013*\"crash\" + 0.013*\"woman\" + 0.012*\"court\" + 0.011*\"death\" + 0.010*\"jail\" + 0.009*\"shoot\"\n",
      "\n",
      "Score: 0.02001112513244152\t \n",
      "Topic: 0.013*\"drum\" + 0.007*\"tuesday\" + 0.007*\"august\" + 0.007*\"shark\" + 0.007*\"abbott\" + 0.006*\"kill\" + 0.006*\"updat\" + 0.005*\"suicid\" + 0.005*\"footag\" + 0.005*\"rememb\"\n",
      "\n",
      "Score: 0.020010769367218018\t \n",
      "Topic: 0.012*\"weather\" + 0.012*\"donald\" + 0.010*\"sport\" + 0.010*\"grandstand\" + 0.008*\"david\" + 0.008*\"rugbi\" + 0.007*\"liber\" + 0.007*\"coal\" + 0.006*\"toni\" + 0.006*\"super\"\n",
      "\n",
      "Score: 0.020010629668831825\t \n",
      "Topic: 0.011*\"final\" + 0.010*\"interview\" + 0.009*\"world\" + 0.008*\"australia\" + 0.007*\"leagu\" + 0.007*\"open\" + 0.006*\"hobart\" + 0.006*\"beat\" + 0.006*\"friday\" + 0.006*\"asylum\"\n"
     ]
    }
   ],
   "source": [
    "print(type(bow_corpus[4310]))\n",
    "print(bow_corpus[4310])\n",
    "for index, score in sorted(lda_model_tfidf[bow_corpus[4310]], key=lambda tup: -1*tup[1]):\n",
    "    print(\"\\nScore: {}\\t \\nTopic: {}\".format(score, lda_model_tfidf.print_topic(index, 10)))"
   ]
  },
  {
   "cell_type": "code",
   "execution_count": 41,
   "metadata": {},
   "outputs": [
    {
     "name": "stdout",
     "output_type": "stream",
     "text": [
      "Score: 0.020010629668831825\t Topic: 0.058*\"australia\" + 0.029*\"queensland\" + 0.026*\"say\" + 0.020*\"warn\" + 0.013*\"deal\"\n",
      "Score: 0.020010629668831825\t Topic: 0.026*\"south\" + 0.025*\"australian\" + 0.020*\"countri\" + 0.017*\"donald\" + 0.016*\"world\"\n",
      "Score: 0.020010629668831825\t Topic: 0.027*\"adelaid\" + 0.022*\"market\" + 0.018*\"tasmania\" + 0.017*\"power\" + 0.016*\"time\"\n",
      "Score: 0.020010629668831825\t Topic: 0.023*\"kill\" + 0.019*\"test\" + 0.019*\"die\" + 0.019*\"women\" + 0.016*\"hour\"\n",
      "Score: 0.020010629668831825\t Topic: 0.025*\"nation\" + 0.023*\"canberra\" + 0.019*\"rural\" + 0.014*\"farmer\" + 0.013*\"flood\"\n",
      "Score: 0.020010629668831825\t Topic: 0.025*\"coast\" + 0.025*\"school\" + 0.017*\"water\" + 0.017*\"state\" + 0.016*\"gold\"\n",
      "Score: 0.020010629668831825\t Topic: 0.044*\"polic\" + 0.026*\"charg\" + 0.025*\"court\" + 0.019*\"murder\" + 0.017*\"death\"\n",
      "Score: 0.020010629668831825\t Topic: 0.038*\"elect\" + 0.018*\"break\" + 0.015*\"guilti\" + 0.013*\"john\" + 0.012*\"rule\"\n",
      "Score: 0.020010629668831825\t Topic: 0.028*\"govern\" + 0.021*\"plan\" + 0.016*\"council\" + 0.015*\"live\" + 0.015*\"fund\"\n",
      "Score: 0.020010629668831825\t Topic: 0.031*\"trump\" + 0.030*\"year\" + 0.018*\"open\" + 0.015*\"final\" + 0.012*\"peopl\"\n"
     ]
    }
   ],
   "source": [
    "unseen_document = 'How a Pentagon deal became an identity crisis for Google'\n",
    "bow_vector = dictionary.doc2bow(preprocess(unseen_document))\n",
    "\n",
    "for index, socre in sorted(lda_model[bow_vector], key = lambda tup: -1*tup[1]):\n",
    "    # \n",
    "    print(\"Score: {}\\t Topic: {}\".format(score,lda_model.print_topic(index,5)))"
   ]
  },
  {
   "cell_type": "code",
   "execution_count": null,
   "metadata": {},
   "outputs": [],
   "source": []
  }
 ],
 "metadata": {
  "kernelspec": {
   "display_name": "Python 3",
   "language": "python",
   "name": "python3"
  },
  "language_info": {
   "codemirror_mode": {
    "name": "ipython",
    "version": 3
   },
   "file_extension": ".py",
   "mimetype": "text/x-python",
   "name": "python",
   "nbconvert_exporter": "python",
   "pygments_lexer": "ipython3",
   "version": "3.7.3"
  }
 },
 "nbformat": 4,
 "nbformat_minor": 2
}
